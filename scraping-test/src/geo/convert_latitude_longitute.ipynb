{
 "cells": [
  {
   "cell_type": "code",
   "execution_count": 10,
   "metadata": {
    "collapsed": true
   },
   "outputs": [],
   "source": [
    "import pandas as pd\n",
    "import numpy as np"
   ]
  },
  {
   "cell_type": "code",
   "execution_count": 2,
   "outputs": [],
   "source": [
    "from geopy.geocoders import Nominatim"
   ],
   "metadata": {
    "collapsed": false,
    "pycharm": {
     "name": "#%%\n"
    }
   }
  },
  {
   "cell_type": "code",
   "execution_count": 60,
   "outputs": [],
   "source": [
    "def geocoding(address):\n",
    "    geo_list = []\n",
    "    try:\n",
    "        geo_lo_coder = Nominatim(user_agent='South Korea', timeout=None)\n",
    "        geo = geo_lo_coder.geocode(address)\n",
    "        geo_list.append({'lat': str(geo.latitude), 'lng': str(geo.longitude)})\n",
    "    except AttributeError:\n",
    "        geo_list.append({'lat': '', 'lng': ''})\n",
    "    finally:\n",
    "        return geo_list"
   ],
   "metadata": {
    "collapsed": false,
    "pycharm": {
     "name": "#%%\n"
    }
   }
  },
  {
   "cell_type": "code",
   "execution_count": 5,
   "outputs": [
    {
     "data": {
      "text/plain": "     Unnamed: 0    인덱스  지역                  기관명                          주소  \\\n0           NaN    1.0  서울        서울시립용산일시청소년쉼터           서울 용산구 만리재로 156-1   \n1           NaN    2.0  서울          은평구립일시청소년쉼터   서울 은평구 통일로 89길 6-20 (갈현동)   \n2           NaN    3.0  서울              강서청소년쉼터    서울 강서구 초록마을로 10길 5, 201호   \n3           NaN    4.0  서울        서울시립강북청소년드림센터  서울 강북구 한천로140길 5-26(수유 3동)   \n4           NaN    5.0  서울        서울시립금천청소년단기쉼터       서울특별시 금천구 가산디지털1로 120   \n..          ...    ...  ..                  ...                         ...   \n131         NaN  132.0  충북          친구청소년쉼터(남자)             충북 충주시 금봉 3길 27   \n132         NaN  133.0  충북  제천여자단기펑소년쉼터(본청소년쉼터)             충북 제천시 고암로4가길 3   \n133         NaN  134.0  충북          청주남자단기청소년쉼터     충청북도 청주시 서원구 구룡산로 331-9   \n134         NaN  135.0  충북        충추시여자중장기청소년쉼터              충북 충주시 봉헌로 109   \n135         NaN  136.0  충북         충청북도중장기청소년쉼터      충북 청주시 흥덕구 신율로 166, 3층   \n\n          전화번호(1)       전화번호(2)  대상       유형    정원  \\\n0     02-718-1318           NaN  공용       일시  10.0   \n1     02-382-1388           NaN  여자  일시(고정형)  10.0   \n2    02-2697-7377           NaN  남자       단기   8.0   \n3    02-6435-7979           NaN  남자  일시(고정형)  10.0   \n4    02-3281-8200           NaN  여자       단기  20.0   \n..            ...           ...  ..      ...   ...   \n131  043-911-3479           NaN  남자       단기   7.0   \n132  043-643-7946           NaN  여자       단기   7.0   \n133  043-231-2676           NaN  남자       단기  15.0   \n134  043-853-0924           NaN  여자      중장기   7.0   \n135  043-266-2204  043-262-2204  남자      중장기   7.0   \n\n                                               홈페이지 주소  \\\n0                             http://www.nuryworld.kr/   \n1                                                  NaN   \n2                       http://www.ishelter.or.kr/gnu/   \n3                   http://www.gbdream.or.kr/index.php   \n4                        http://www.youthzone.or.kr/y/   \n..                                                 ...   \n131                         http://www.chingu3479.com/   \n132  https://www.jecheon.go.kr/www/contents.do?key=...   \n133                         http://cjfriend2676.co.kr/   \n134                   * 135와 동일? 136과 137 아무리 찾아도 안나옴.   \n135                                                NaN   \n\n                                 Unnamed: 11  \n0                                        NaN  \n1                                        NaN  \n2                                        NaN  \n3                                        NaN  \n4                                        NaN  \n..                                       ...  \n131                                      NaN  \n132  페이스북: https://www.facebook.com/jcbom79/  \n133                                      NaN  \n134                                      NaN  \n135                                      NaN  \n\n[136 rows x 12 columns]",
      "text/html": "<div>\n<style scoped>\n    .dataframe tbody tr th:only-of-type {\n        vertical-align: middle;\n    }\n\n    .dataframe tbody tr th {\n        vertical-align: top;\n    }\n\n    .dataframe thead th {\n        text-align: right;\n    }\n</style>\n<table border=\"1\" class=\"dataframe\">\n  <thead>\n    <tr style=\"text-align: right;\">\n      <th></th>\n      <th>Unnamed: 0</th>\n      <th>인덱스</th>\n      <th>지역</th>\n      <th>기관명</th>\n      <th>주소</th>\n      <th>전화번호(1)</th>\n      <th>전화번호(2)</th>\n      <th>대상</th>\n      <th>유형</th>\n      <th>정원</th>\n      <th>홈페이지 주소</th>\n      <th>Unnamed: 11</th>\n    </tr>\n  </thead>\n  <tbody>\n    <tr>\n      <th>0</th>\n      <td>NaN</td>\n      <td>1.0</td>\n      <td>서울</td>\n      <td>서울시립용산일시청소년쉼터</td>\n      <td>서울 용산구 만리재로 156-1</td>\n      <td>02-718-1318</td>\n      <td>NaN</td>\n      <td>공용</td>\n      <td>일시</td>\n      <td>10.0</td>\n      <td>http://www.nuryworld.kr/</td>\n      <td>NaN</td>\n    </tr>\n    <tr>\n      <th>1</th>\n      <td>NaN</td>\n      <td>2.0</td>\n      <td>서울</td>\n      <td>은평구립일시청소년쉼터</td>\n      <td>서울 은평구 통일로 89길 6-20 (갈현동)</td>\n      <td>02-382-1388</td>\n      <td>NaN</td>\n      <td>여자</td>\n      <td>일시(고정형)</td>\n      <td>10.0</td>\n      <td>NaN</td>\n      <td>NaN</td>\n    </tr>\n    <tr>\n      <th>2</th>\n      <td>NaN</td>\n      <td>3.0</td>\n      <td>서울</td>\n      <td>강서청소년쉼터</td>\n      <td>서울 강서구 초록마을로 10길 5, 201호</td>\n      <td>02-2697-7377</td>\n      <td>NaN</td>\n      <td>남자</td>\n      <td>단기</td>\n      <td>8.0</td>\n      <td>http://www.ishelter.or.kr/gnu/</td>\n      <td>NaN</td>\n    </tr>\n    <tr>\n      <th>3</th>\n      <td>NaN</td>\n      <td>4.0</td>\n      <td>서울</td>\n      <td>서울시립강북청소년드림센터</td>\n      <td>서울 강북구 한천로140길 5-26(수유 3동)</td>\n      <td>02-6435-7979</td>\n      <td>NaN</td>\n      <td>남자</td>\n      <td>일시(고정형)</td>\n      <td>10.0</td>\n      <td>http://www.gbdream.or.kr/index.php</td>\n      <td>NaN</td>\n    </tr>\n    <tr>\n      <th>4</th>\n      <td>NaN</td>\n      <td>5.0</td>\n      <td>서울</td>\n      <td>서울시립금천청소년단기쉼터</td>\n      <td>서울특별시 금천구 가산디지털1로 120</td>\n      <td>02-3281-8200</td>\n      <td>NaN</td>\n      <td>여자</td>\n      <td>단기</td>\n      <td>20.0</td>\n      <td>http://www.youthzone.or.kr/y/</td>\n      <td>NaN</td>\n    </tr>\n    <tr>\n      <th>...</th>\n      <td>...</td>\n      <td>...</td>\n      <td>...</td>\n      <td>...</td>\n      <td>...</td>\n      <td>...</td>\n      <td>...</td>\n      <td>...</td>\n      <td>...</td>\n      <td>...</td>\n      <td>...</td>\n      <td>...</td>\n    </tr>\n    <tr>\n      <th>131</th>\n      <td>NaN</td>\n      <td>132.0</td>\n      <td>충북</td>\n      <td>친구청소년쉼터(남자)</td>\n      <td>충북 충주시 금봉 3길 27</td>\n      <td>043-911-3479</td>\n      <td>NaN</td>\n      <td>남자</td>\n      <td>단기</td>\n      <td>7.0</td>\n      <td>http://www.chingu3479.com/</td>\n      <td>NaN</td>\n    </tr>\n    <tr>\n      <th>132</th>\n      <td>NaN</td>\n      <td>133.0</td>\n      <td>충북</td>\n      <td>제천여자단기펑소년쉼터(본청소년쉼터)</td>\n      <td>충북 제천시 고암로4가길 3</td>\n      <td>043-643-7946</td>\n      <td>NaN</td>\n      <td>여자</td>\n      <td>단기</td>\n      <td>7.0</td>\n      <td>https://www.jecheon.go.kr/www/contents.do?key=...</td>\n      <td>페이스북: https://www.facebook.com/jcbom79/</td>\n    </tr>\n    <tr>\n      <th>133</th>\n      <td>NaN</td>\n      <td>134.0</td>\n      <td>충북</td>\n      <td>청주남자단기청소년쉼터</td>\n      <td>충청북도 청주시 서원구 구룡산로 331-9</td>\n      <td>043-231-2676</td>\n      <td>NaN</td>\n      <td>남자</td>\n      <td>단기</td>\n      <td>15.0</td>\n      <td>http://cjfriend2676.co.kr/</td>\n      <td>NaN</td>\n    </tr>\n    <tr>\n      <th>134</th>\n      <td>NaN</td>\n      <td>135.0</td>\n      <td>충북</td>\n      <td>충추시여자중장기청소년쉼터</td>\n      <td>충북 충주시 봉헌로 109</td>\n      <td>043-853-0924</td>\n      <td>NaN</td>\n      <td>여자</td>\n      <td>중장기</td>\n      <td>7.0</td>\n      <td>* 135와 동일? 136과 137 아무리 찾아도 안나옴.</td>\n      <td>NaN</td>\n    </tr>\n    <tr>\n      <th>135</th>\n      <td>NaN</td>\n      <td>136.0</td>\n      <td>충북</td>\n      <td>충청북도중장기청소년쉼터</td>\n      <td>충북 청주시 흥덕구 신율로 166, 3층</td>\n      <td>043-266-2204</td>\n      <td>043-262-2204</td>\n      <td>남자</td>\n      <td>중장기</td>\n      <td>7.0</td>\n      <td>NaN</td>\n      <td>NaN</td>\n    </tr>\n  </tbody>\n</table>\n<p>136 rows × 12 columns</p>\n</div>"
     },
     "execution_count": 5,
     "metadata": {},
     "output_type": "execute_result"
    }
   ],
   "source": [
    "# 기관 정보.xlsx\n",
    "data = pd.read_excel(\"./기관_정보.xlsx\")\n",
    "data"
   ],
   "metadata": {
    "collapsed": false,
    "pycharm": {
     "name": "#%%\n"
    }
   }
  },
  {
   "cell_type": "code",
   "execution_count": 19,
   "outputs": [
    {
     "data": {
      "text/plain": "   Unnamed: 0  인덱스  지역            기관명                          주소  \\\n0         NaN  1.0  서울  서울시립용산일시청소년쉼터           서울 용산구 만리재로 156-1   \n1         NaN  2.0  서울    은평구립일시청소년쉼터   서울 은평구 통일로 89길 6-20 (갈현동)   \n2         NaN  3.0  서울        강서청소년쉼터    서울 강서구 초록마을로 10길 5, 201호   \n3         NaN  4.0  서울  서울시립강북청소년드림센터  서울 강북구 한천로140길 5-26(수유 3동)   \n4         NaN  5.0  서울  서울시립금천청소년단기쉼터       서울특별시 금천구 가산디지털1로 120   \n\n        전화번호(1) 전화번호(2)  대상       유형    정원  \\\n0   02-718-1318     NaN  공용       일시  10.0   \n1   02-382-1388     NaN  여자  일시(고정형)  10.0   \n2  02-2697-7377     NaN  남자       단기   8.0   \n3  02-6435-7979     NaN  남자  일시(고정형)  10.0   \n4  02-3281-8200     NaN  여자       단기  20.0   \n\n                              홈페이지 주소 Unnamed: 11  \n0            http://www.nuryworld.kr/         NaN  \n1                                 NaN         NaN  \n2      http://www.ishelter.or.kr/gnu/         NaN  \n3  http://www.gbdream.or.kr/index.php         NaN  \n4       http://www.youthzone.or.kr/y/         NaN  ",
      "text/html": "<div>\n<style scoped>\n    .dataframe tbody tr th:only-of-type {\n        vertical-align: middle;\n    }\n\n    .dataframe tbody tr th {\n        vertical-align: top;\n    }\n\n    .dataframe thead th {\n        text-align: right;\n    }\n</style>\n<table border=\"1\" class=\"dataframe\">\n  <thead>\n    <tr style=\"text-align: right;\">\n      <th></th>\n      <th>Unnamed: 0</th>\n      <th>인덱스</th>\n      <th>지역</th>\n      <th>기관명</th>\n      <th>주소</th>\n      <th>전화번호(1)</th>\n      <th>전화번호(2)</th>\n      <th>대상</th>\n      <th>유형</th>\n      <th>정원</th>\n      <th>홈페이지 주소</th>\n      <th>Unnamed: 11</th>\n    </tr>\n  </thead>\n  <tbody>\n    <tr>\n      <th>0</th>\n      <td>NaN</td>\n      <td>1.0</td>\n      <td>서울</td>\n      <td>서울시립용산일시청소년쉼터</td>\n      <td>서울 용산구 만리재로 156-1</td>\n      <td>02-718-1318</td>\n      <td>NaN</td>\n      <td>공용</td>\n      <td>일시</td>\n      <td>10.0</td>\n      <td>http://www.nuryworld.kr/</td>\n      <td>NaN</td>\n    </tr>\n    <tr>\n      <th>1</th>\n      <td>NaN</td>\n      <td>2.0</td>\n      <td>서울</td>\n      <td>은평구립일시청소년쉼터</td>\n      <td>서울 은평구 통일로 89길 6-20 (갈현동)</td>\n      <td>02-382-1388</td>\n      <td>NaN</td>\n      <td>여자</td>\n      <td>일시(고정형)</td>\n      <td>10.0</td>\n      <td>NaN</td>\n      <td>NaN</td>\n    </tr>\n    <tr>\n      <th>2</th>\n      <td>NaN</td>\n      <td>3.0</td>\n      <td>서울</td>\n      <td>강서청소년쉼터</td>\n      <td>서울 강서구 초록마을로 10길 5, 201호</td>\n      <td>02-2697-7377</td>\n      <td>NaN</td>\n      <td>남자</td>\n      <td>단기</td>\n      <td>8.0</td>\n      <td>http://www.ishelter.or.kr/gnu/</td>\n      <td>NaN</td>\n    </tr>\n    <tr>\n      <th>3</th>\n      <td>NaN</td>\n      <td>4.0</td>\n      <td>서울</td>\n      <td>서울시립강북청소년드림센터</td>\n      <td>서울 강북구 한천로140길 5-26(수유 3동)</td>\n      <td>02-6435-7979</td>\n      <td>NaN</td>\n      <td>남자</td>\n      <td>일시(고정형)</td>\n      <td>10.0</td>\n      <td>http://www.gbdream.or.kr/index.php</td>\n      <td>NaN</td>\n    </tr>\n    <tr>\n      <th>4</th>\n      <td>NaN</td>\n      <td>5.0</td>\n      <td>서울</td>\n      <td>서울시립금천청소년단기쉼터</td>\n      <td>서울특별시 금천구 가산디지털1로 120</td>\n      <td>02-3281-8200</td>\n      <td>NaN</td>\n      <td>여자</td>\n      <td>단기</td>\n      <td>20.0</td>\n      <td>http://www.youthzone.or.kr/y/</td>\n      <td>NaN</td>\n    </tr>\n  </tbody>\n</table>\n</div>"
     },
     "execution_count": 19,
     "metadata": {},
     "output_type": "execute_result"
    }
   ],
   "source": [
    "data.head()"
   ],
   "metadata": {
    "collapsed": false,
    "pycharm": {
     "name": "#%%\n"
    }
   }
  },
  {
   "cell_type": "code",
   "execution_count": 27,
   "outputs": [
    {
     "data": {
      "text/plain": "'서울 용산구 만리재로 156-1'"
     },
     "execution_count": 27,
     "metadata": {},
     "output_type": "execute_result"
    }
   ],
   "source": [
    "data.loc[0][\"주소\"]"
   ],
   "metadata": {
    "collapsed": false,
    "pycharm": {
     "name": "#%%\n"
    }
   }
  },
  {
   "cell_type": "code",
   "execution_count": 63,
   "outputs": [
    {
     "data": {
      "text/plain": "                             주소\n0             서울 용산구 만리재로 156-1\n1     서울 은평구 통일로 89길 6-20 (갈현동)\n2      서울 강서구 초록마을로 10길 5, 201호\n3    서울 강북구 한천로140길 5-26(수유 3동)\n4         서울특별시 금천구 가산디지털1로 120\n..                          ...\n131             충북 충주시 금봉 3길 27\n132             충북 제천시 고암로4가길 3\n133     충청북도 청주시 서원구 구룡산로 331-9\n134              충북 충주시 봉헌로 109\n135      충북 청주시 흥덕구 신율로 166, 3층\n\n[136 rows x 1 columns]",
      "text/html": "<div>\n<style scoped>\n    .dataframe tbody tr th:only-of-type {\n        vertical-align: middle;\n    }\n\n    .dataframe tbody tr th {\n        vertical-align: top;\n    }\n\n    .dataframe thead th {\n        text-align: right;\n    }\n</style>\n<table border=\"1\" class=\"dataframe\">\n  <thead>\n    <tr style=\"text-align: right;\">\n      <th></th>\n      <th>주소</th>\n    </tr>\n  </thead>\n  <tbody>\n    <tr>\n      <th>0</th>\n      <td>서울 용산구 만리재로 156-1</td>\n    </tr>\n    <tr>\n      <th>1</th>\n      <td>서울 은평구 통일로 89길 6-20 (갈현동)</td>\n    </tr>\n    <tr>\n      <th>2</th>\n      <td>서울 강서구 초록마을로 10길 5, 201호</td>\n    </tr>\n    <tr>\n      <th>3</th>\n      <td>서울 강북구 한천로140길 5-26(수유 3동)</td>\n    </tr>\n    <tr>\n      <th>4</th>\n      <td>서울특별시 금천구 가산디지털1로 120</td>\n    </tr>\n    <tr>\n      <th>...</th>\n      <td>...</td>\n    </tr>\n    <tr>\n      <th>131</th>\n      <td>충북 충주시 금봉 3길 27</td>\n    </tr>\n    <tr>\n      <th>132</th>\n      <td>충북 제천시 고암로4가길 3</td>\n    </tr>\n    <tr>\n      <th>133</th>\n      <td>충청북도 청주시 서원구 구룡산로 331-9</td>\n    </tr>\n    <tr>\n      <th>134</th>\n      <td>충북 충주시 봉헌로 109</td>\n    </tr>\n    <tr>\n      <th>135</th>\n      <td>충북 청주시 흥덕구 신율로 166, 3층</td>\n    </tr>\n  </tbody>\n</table>\n<p>136 rows × 1 columns</p>\n</div>"
     },
     "execution_count": 63,
     "metadata": {},
     "output_type": "execute_result"
    }
   ],
   "source": [
    "data[[\"주소\"]]"
   ],
   "metadata": {
    "collapsed": false,
    "pycharm": {
     "name": "#%%\n"
    }
   }
  },
  {
   "cell_type": "code",
   "execution_count": 64,
   "outputs": [],
   "source": [
    "df_values = data[[\"주소\"]].values"
   ],
   "metadata": {
    "collapsed": false,
    "pycharm": {
     "name": "#%%\n"
    }
   }
  },
  {
   "cell_type": "code",
   "execution_count": 66,
   "outputs": [],
   "source": [
    "geo_list = []\n",
    "for dfv in df_values:\n",
    "    try:\n",
    "        geo_lo_coder = Nominatim(user_agent='South Korea', timeout=None)\n",
    "        geo = geo_lo_coder.geocode(dfv)\n",
    "        geo_list.append({'lat': str(geo.latitude), 'lng': str(geo.longitude)})\n",
    "    except AttributeError:\n",
    "        geo_list.append({'lat': '', 'lng': ''})"
   ],
   "metadata": {
    "collapsed": false,
    "pycharm": {
     "name": "#%%\n"
    }
   }
  },
  {
   "cell_type": "code",
   "execution_count": 67,
   "outputs": [
    {
     "data": {
      "text/plain": "[{'lat': '37.5552616', 'lng': '126.968931'},\n {'lat': '', 'lng': ''},\n {'lat': '', 'lng': ''},\n {'lat': '', 'lng': ''},\n {'lat': '37.4722607', 'lng': '126.882423'},\n {'lat': '37.4678169', 'lng': '126.901259'},\n {'lat': '', 'lng': ''},\n {'lat': '37.6010773', 'lng': '127.0972538'},\n {'lat': '', 'lng': ''},\n {'lat': '', 'lng': ''},\n {'lat': '', 'lng': ''},\n {'lat': '', 'lng': ''},\n {'lat': '', 'lng': ''},\n {'lat': '', 'lng': ''},\n {'lat': '', 'lng': ''},\n {'lat': '', 'lng': ''},\n {'lat': '', 'lng': ''},\n {'lat': '', 'lng': ''},\n {'lat': '36.7889207', 'lng': '126.965844'},\n {'lat': '', 'lng': ''},\n {'lat': '', 'lng': ''},\n {'lat': '', 'lng': ''},\n {'lat': '', 'lng': ''},\n {'lat': '', 'lng': ''},\n {'lat': '', 'lng': ''},\n {'lat': '', 'lng': ''},\n {'lat': '', 'lng': ''},\n {'lat': '', 'lng': ''},\n {'lat': '', 'lng': ''},\n {'lat': '', 'lng': ''},\n {'lat': '', 'lng': ''},\n {'lat': '', 'lng': ''},\n {'lat': '', 'lng': ''},\n {'lat': '', 'lng': ''},\n {'lat': '', 'lng': ''},\n {'lat': '36.6979606', 'lng': '128.8100579'},\n {'lat': '36.0270813', 'lng': '129.370252'},\n {'lat': '', 'lng': ''},\n {'lat': '', 'lng': ''},\n {'lat': '36.1265459', 'lng': '128.3323248'},\n {'lat': '36.0206763', 'lng': '129.3531537'},\n {'lat': '35.2287553', 'lng': '128.700803'},\n {'lat': '', 'lng': ''},\n {'lat': '', 'lng': ''},\n {'lat': '35.2621747', 'lng': '128.6393402'},\n {'lat': '', 'lng': ''},\n {'lat': '33.2544362', 'lng': '126.5134516'},\n {'lat': '', 'lng': ''},\n {'lat': '', 'lng': ''},\n {'lat': '', 'lng': ''},\n {'lat': '', 'lng': ''},\n {'lat': '33.3705835', 'lng': '126.2833306'},\n {'lat': '35.5895005', 'lng': '129.3703496'},\n {'lat': '', 'lng': ''},\n {'lat': '', 'lng': ''},\n {'lat': '', 'lng': ''},\n {'lat': '', 'lng': ''},\n {'lat': '', 'lng': ''},\n {'lat': '', 'lng': ''},\n {'lat': '', 'lng': ''},\n {'lat': '', 'lng': ''},\n {'lat': '', 'lng': ''},\n {'lat': '', 'lng': ''},\n {'lat': '', 'lng': ''},\n {'lat': '', 'lng': ''},\n {'lat': '', 'lng': ''},\n {'lat': '', 'lng': ''},\n {'lat': '', 'lng': ''},\n {'lat': '', 'lng': ''},\n {'lat': '', 'lng': ''},\n {'lat': '', 'lng': ''},\n {'lat': '', 'lng': ''},\n {'lat': '37.41171145', 'lng': '126.6815816'},\n {'lat': '37.4876849', 'lng': '126.7378148'},\n {'lat': '', 'lng': ''},\n {'lat': '', 'lng': ''},\n {'lat': '', 'lng': ''},\n {'lat': '', 'lng': ''},\n {'lat': '', 'lng': ''},\n {'lat': '', 'lng': ''},\n {'lat': '', 'lng': ''},\n {'lat': '', 'lng': ''},\n {'lat': '', 'lng': ''},\n {'lat': '', 'lng': ''},\n {'lat': '', 'lng': ''},\n {'lat': '', 'lng': ''},\n {'lat': '', 'lng': ''},\n {'lat': '', 'lng': ''},\n {'lat': '', 'lng': ''},\n {'lat': '', 'lng': ''},\n {'lat': '37.5973194', 'lng': '127.1372263'},\n {'lat': '', 'lng': ''},\n {'lat': '', 'lng': ''},\n {'lat': '', 'lng': ''},\n {'lat': '', 'lng': ''},\n {'lat': '', 'lng': ''},\n {'lat': '', 'lng': ''},\n {'lat': '', 'lng': ''},\n {'lat': '', 'lng': ''},\n {'lat': '', 'lng': ''},\n {'lat': '', 'lng': ''},\n {'lat': '', 'lng': ''},\n {'lat': '', 'lng': ''},\n {'lat': '', 'lng': ''},\n {'lat': '', 'lng': ''},\n {'lat': '', 'lng': ''},\n {'lat': '', 'lng': ''},\n {'lat': '', 'lng': ''},\n {'lat': '', 'lng': ''},\n {'lat': '', 'lng': ''},\n {'lat': '', 'lng': ''},\n {'lat': '', 'lng': ''},\n {'lat': '37.33684905', 'lng': '126.84212796793051'},\n {'lat': '', 'lng': ''},\n {'lat': '', 'lng': ''},\n {'lat': '', 'lng': ''},\n {'lat': '', 'lng': ''},\n {'lat': '', 'lng': ''},\n {'lat': '', 'lng': ''},\n {'lat': '', 'lng': ''},\n {'lat': '', 'lng': ''},\n {'lat': '', 'lng': ''},\n {'lat': '37.9246445', 'lng': '127.7237011'},\n {'lat': '', 'lng': ''},\n {'lat': '', 'lng': ''},\n {'lat': '', 'lng': ''},\n {'lat': '', 'lng': ''},\n {'lat': '', 'lng': ''},\n {'lat': '', 'lng': ''},\n {'lat': '', 'lng': ''},\n {'lat': '', 'lng': ''},\n {'lat': '', 'lng': ''},\n {'lat': '37.155593', 'lng': '128.2162351'},\n {'lat': '36.6186079', 'lng': '127.4902721'},\n {'lat': '', 'lng': ''},\n {'lat': '', 'lng': ''}]"
     },
     "execution_count": 67,
     "metadata": {},
     "output_type": "execute_result"
    }
   ],
   "source": [
    "geo_list"
   ],
   "metadata": {
    "collapsed": false,
    "pycharm": {
     "name": "#%%\n"
    }
   }
  },
  {
   "cell_type": "code",
   "execution_count": 73,
   "outputs": [
    {
     "data": {
      "text/plain": "     Unnamed: 0    인덱스  지역                  기관명                          주소  \\\n0           NaN    1.0  서울        서울시립용산일시청소년쉼터           서울 용산구 만리재로 156-1   \n1           NaN    2.0  서울          은평구립일시청소년쉼터   서울 은평구 통일로 89길 6-20 (갈현동)   \n2           NaN    3.0  서울              강서청소년쉼터    서울 강서구 초록마을로 10길 5, 201호   \n3           NaN    4.0  서울        서울시립강북청소년드림센터  서울 강북구 한천로140길 5-26(수유 3동)   \n4           NaN    5.0  서울        서울시립금천청소년단기쉼터       서울특별시 금천구 가산디지털1로 120   \n..          ...    ...  ..                  ...                         ...   \n131         NaN  132.0  충북          친구청소년쉼터(남자)             충북 충주시 금봉 3길 27   \n132         NaN  133.0  충북  제천여자단기펑소년쉼터(본청소년쉼터)             충북 제천시 고암로4가길 3   \n133         NaN  134.0  충북          청주남자단기청소년쉼터     충청북도 청주시 서원구 구룡산로 331-9   \n134         NaN  135.0  충북        충추시여자중장기청소년쉼터              충북 충주시 봉헌로 109   \n135         NaN  136.0  충북         충청북도중장기청소년쉼터      충북 청주시 흥덕구 신율로 166, 3층   \n\n          전화번호(1)       전화번호(2)  대상       유형    정원  \\\n0     02-718-1318           NaN  공용       일시  10.0   \n1     02-382-1388           NaN  여자  일시(고정형)  10.0   \n2    02-2697-7377           NaN  남자       단기   8.0   \n3    02-6435-7979           NaN  남자  일시(고정형)  10.0   \n4    02-3281-8200           NaN  여자       단기  20.0   \n..            ...           ...  ..      ...   ...   \n131  043-911-3479           NaN  남자       단기   7.0   \n132  043-643-7946           NaN  여자       단기   7.0   \n133  043-231-2676           NaN  남자       단기  15.0   \n134  043-853-0924           NaN  여자      중장기   7.0   \n135  043-266-2204  043-262-2204  남자      중장기   7.0   \n\n                                               홈페이지 주소  \\\n0                             http://www.nuryworld.kr/   \n1                                                  NaN   \n2                       http://www.ishelter.or.kr/gnu/   \n3                   http://www.gbdream.or.kr/index.php   \n4                        http://www.youthzone.or.kr/y/   \n..                                                 ...   \n131                         http://www.chingu3479.com/   \n132  https://www.jecheon.go.kr/www/contents.do?key=...   \n133                         http://cjfriend2676.co.kr/   \n134                   * 135와 동일? 136과 137 아무리 찾아도 안나옴.   \n135                                                NaN   \n\n                                 Unnamed: 11  \n0                                        NaN  \n1                                        NaN  \n2                                        NaN  \n3                                        NaN  \n4                                        NaN  \n..                                       ...  \n131                                      NaN  \n132  페이스북: https://www.facebook.com/jcbom79/  \n133                                      NaN  \n134                                      NaN  \n135                                      NaN  \n\n[136 rows x 12 columns]",
      "text/html": "<div>\n<style scoped>\n    .dataframe tbody tr th:only-of-type {\n        vertical-align: middle;\n    }\n\n    .dataframe tbody tr th {\n        vertical-align: top;\n    }\n\n    .dataframe thead th {\n        text-align: right;\n    }\n</style>\n<table border=\"1\" class=\"dataframe\">\n  <thead>\n    <tr style=\"text-align: right;\">\n      <th></th>\n      <th>Unnamed: 0</th>\n      <th>인덱스</th>\n      <th>지역</th>\n      <th>기관명</th>\n      <th>주소</th>\n      <th>전화번호(1)</th>\n      <th>전화번호(2)</th>\n      <th>대상</th>\n      <th>유형</th>\n      <th>정원</th>\n      <th>홈페이지 주소</th>\n      <th>Unnamed: 11</th>\n    </tr>\n  </thead>\n  <tbody>\n    <tr>\n      <th>0</th>\n      <td>NaN</td>\n      <td>1.0</td>\n      <td>서울</td>\n      <td>서울시립용산일시청소년쉼터</td>\n      <td>서울 용산구 만리재로 156-1</td>\n      <td>02-718-1318</td>\n      <td>NaN</td>\n      <td>공용</td>\n      <td>일시</td>\n      <td>10.0</td>\n      <td>http://www.nuryworld.kr/</td>\n      <td>NaN</td>\n    </tr>\n    <tr>\n      <th>1</th>\n      <td>NaN</td>\n      <td>2.0</td>\n      <td>서울</td>\n      <td>은평구립일시청소년쉼터</td>\n      <td>서울 은평구 통일로 89길 6-20 (갈현동)</td>\n      <td>02-382-1388</td>\n      <td>NaN</td>\n      <td>여자</td>\n      <td>일시(고정형)</td>\n      <td>10.0</td>\n      <td>NaN</td>\n      <td>NaN</td>\n    </tr>\n    <tr>\n      <th>2</th>\n      <td>NaN</td>\n      <td>3.0</td>\n      <td>서울</td>\n      <td>강서청소년쉼터</td>\n      <td>서울 강서구 초록마을로 10길 5, 201호</td>\n      <td>02-2697-7377</td>\n      <td>NaN</td>\n      <td>남자</td>\n      <td>단기</td>\n      <td>8.0</td>\n      <td>http://www.ishelter.or.kr/gnu/</td>\n      <td>NaN</td>\n    </tr>\n    <tr>\n      <th>3</th>\n      <td>NaN</td>\n      <td>4.0</td>\n      <td>서울</td>\n      <td>서울시립강북청소년드림센터</td>\n      <td>서울 강북구 한천로140길 5-26(수유 3동)</td>\n      <td>02-6435-7979</td>\n      <td>NaN</td>\n      <td>남자</td>\n      <td>일시(고정형)</td>\n      <td>10.0</td>\n      <td>http://www.gbdream.or.kr/index.php</td>\n      <td>NaN</td>\n    </tr>\n    <tr>\n      <th>4</th>\n      <td>NaN</td>\n      <td>5.0</td>\n      <td>서울</td>\n      <td>서울시립금천청소년단기쉼터</td>\n      <td>서울특별시 금천구 가산디지털1로 120</td>\n      <td>02-3281-8200</td>\n      <td>NaN</td>\n      <td>여자</td>\n      <td>단기</td>\n      <td>20.0</td>\n      <td>http://www.youthzone.or.kr/y/</td>\n      <td>NaN</td>\n    </tr>\n    <tr>\n      <th>...</th>\n      <td>...</td>\n      <td>...</td>\n      <td>...</td>\n      <td>...</td>\n      <td>...</td>\n      <td>...</td>\n      <td>...</td>\n      <td>...</td>\n      <td>...</td>\n      <td>...</td>\n      <td>...</td>\n      <td>...</td>\n    </tr>\n    <tr>\n      <th>131</th>\n      <td>NaN</td>\n      <td>132.0</td>\n      <td>충북</td>\n      <td>친구청소년쉼터(남자)</td>\n      <td>충북 충주시 금봉 3길 27</td>\n      <td>043-911-3479</td>\n      <td>NaN</td>\n      <td>남자</td>\n      <td>단기</td>\n      <td>7.0</td>\n      <td>http://www.chingu3479.com/</td>\n      <td>NaN</td>\n    </tr>\n    <tr>\n      <th>132</th>\n      <td>NaN</td>\n      <td>133.0</td>\n      <td>충북</td>\n      <td>제천여자단기펑소년쉼터(본청소년쉼터)</td>\n      <td>충북 제천시 고암로4가길 3</td>\n      <td>043-643-7946</td>\n      <td>NaN</td>\n      <td>여자</td>\n      <td>단기</td>\n      <td>7.0</td>\n      <td>https://www.jecheon.go.kr/www/contents.do?key=...</td>\n      <td>페이스북: https://www.facebook.com/jcbom79/</td>\n    </tr>\n    <tr>\n      <th>133</th>\n      <td>NaN</td>\n      <td>134.0</td>\n      <td>충북</td>\n      <td>청주남자단기청소년쉼터</td>\n      <td>충청북도 청주시 서원구 구룡산로 331-9</td>\n      <td>043-231-2676</td>\n      <td>NaN</td>\n      <td>남자</td>\n      <td>단기</td>\n      <td>15.0</td>\n      <td>http://cjfriend2676.co.kr/</td>\n      <td>NaN</td>\n    </tr>\n    <tr>\n      <th>134</th>\n      <td>NaN</td>\n      <td>135.0</td>\n      <td>충북</td>\n      <td>충추시여자중장기청소년쉼터</td>\n      <td>충북 충주시 봉헌로 109</td>\n      <td>043-853-0924</td>\n      <td>NaN</td>\n      <td>여자</td>\n      <td>중장기</td>\n      <td>7.0</td>\n      <td>* 135와 동일? 136과 137 아무리 찾아도 안나옴.</td>\n      <td>NaN</td>\n    </tr>\n    <tr>\n      <th>135</th>\n      <td>NaN</td>\n      <td>136.0</td>\n      <td>충북</td>\n      <td>충청북도중장기청소년쉼터</td>\n      <td>충북 청주시 흥덕구 신율로 166, 3층</td>\n      <td>043-266-2204</td>\n      <td>043-262-2204</td>\n      <td>남자</td>\n      <td>중장기</td>\n      <td>7.0</td>\n      <td>NaN</td>\n      <td>NaN</td>\n    </tr>\n  </tbody>\n</table>\n<p>136 rows × 12 columns</p>\n</div>"
     },
     "execution_count": 73,
     "metadata": {},
     "output_type": "execute_result"
    }
   ],
   "source": [
    "data"
   ],
   "metadata": {
    "collapsed": false,
    "pycharm": {
     "name": "#%%\n"
    }
   }
  },
  {
   "cell_type": "code",
   "execution_count": 72,
   "outputs": [
    {
     "data": {
      "text/plain": "            lat          lng\n0    37.5552616   126.968931\n1                           \n2                           \n3                           \n4    37.4722607   126.882423\n..          ...          ...\n131                         \n132   37.155593  128.2162351\n133  36.6186079  127.4902721\n134                         \n135                         \n\n[136 rows x 2 columns]",
      "text/html": "<div>\n<style scoped>\n    .dataframe tbody tr th:only-of-type {\n        vertical-align: middle;\n    }\n\n    .dataframe tbody tr th {\n        vertical-align: top;\n    }\n\n    .dataframe thead th {\n        text-align: right;\n    }\n</style>\n<table border=\"1\" class=\"dataframe\">\n  <thead>\n    <tr style=\"text-align: right;\">\n      <th></th>\n      <th>lat</th>\n      <th>lng</th>\n    </tr>\n  </thead>\n  <tbody>\n    <tr>\n      <th>0</th>\n      <td>37.5552616</td>\n      <td>126.968931</td>\n    </tr>\n    <tr>\n      <th>1</th>\n      <td></td>\n      <td></td>\n    </tr>\n    <tr>\n      <th>2</th>\n      <td></td>\n      <td></td>\n    </tr>\n    <tr>\n      <th>3</th>\n      <td></td>\n      <td></td>\n    </tr>\n    <tr>\n      <th>4</th>\n      <td>37.4722607</td>\n      <td>126.882423</td>\n    </tr>\n    <tr>\n      <th>...</th>\n      <td>...</td>\n      <td>...</td>\n    </tr>\n    <tr>\n      <th>131</th>\n      <td></td>\n      <td></td>\n    </tr>\n    <tr>\n      <th>132</th>\n      <td>37.155593</td>\n      <td>128.2162351</td>\n    </tr>\n    <tr>\n      <th>133</th>\n      <td>36.6186079</td>\n      <td>127.4902721</td>\n    </tr>\n    <tr>\n      <th>134</th>\n      <td></td>\n      <td></td>\n    </tr>\n    <tr>\n      <th>135</th>\n      <td></td>\n      <td></td>\n    </tr>\n  </tbody>\n</table>\n<p>136 rows × 2 columns</p>\n</div>"
     },
     "execution_count": 72,
     "metadata": {},
     "output_type": "execute_result"
    }
   ],
   "source": [
    "geo_df = pd.DataFrame(geo_list)\n",
    "geo_df"
   ],
   "metadata": {
    "collapsed": false,
    "pycharm": {
     "name": "#%%\n"
    }
   }
  },
  {
   "cell_type": "code",
   "execution_count": 74,
   "outputs": [],
   "source": [
    "result = pd.concat([data, geo_df], axis=1)"
   ],
   "metadata": {
    "collapsed": false,
    "pycharm": {
     "name": "#%%\n"
    }
   }
  },
  {
   "cell_type": "code",
   "execution_count": 75,
   "outputs": [
    {
     "data": {
      "text/plain": "     Unnamed: 0    인덱스  지역                  기관명                          주소  \\\n0           NaN    1.0  서울        서울시립용산일시청소년쉼터           서울 용산구 만리재로 156-1   \n1           NaN    2.0  서울          은평구립일시청소년쉼터   서울 은평구 통일로 89길 6-20 (갈현동)   \n2           NaN    3.0  서울              강서청소년쉼터    서울 강서구 초록마을로 10길 5, 201호   \n3           NaN    4.0  서울        서울시립강북청소년드림센터  서울 강북구 한천로140길 5-26(수유 3동)   \n4           NaN    5.0  서울        서울시립금천청소년단기쉼터       서울특별시 금천구 가산디지털1로 120   \n..          ...    ...  ..                  ...                         ...   \n131         NaN  132.0  충북          친구청소년쉼터(남자)             충북 충주시 금봉 3길 27   \n132         NaN  133.0  충북  제천여자단기펑소년쉼터(본청소년쉼터)             충북 제천시 고암로4가길 3   \n133         NaN  134.0  충북          청주남자단기청소년쉼터     충청북도 청주시 서원구 구룡산로 331-9   \n134         NaN  135.0  충북        충추시여자중장기청소년쉼터              충북 충주시 봉헌로 109   \n135         NaN  136.0  충북         충청북도중장기청소년쉼터      충북 청주시 흥덕구 신율로 166, 3층   \n\n          전화번호(1)       전화번호(2)  대상       유형    정원  \\\n0     02-718-1318           NaN  공용       일시  10.0   \n1     02-382-1388           NaN  여자  일시(고정형)  10.0   \n2    02-2697-7377           NaN  남자       단기   8.0   \n3    02-6435-7979           NaN  남자  일시(고정형)  10.0   \n4    02-3281-8200           NaN  여자       단기  20.0   \n..            ...           ...  ..      ...   ...   \n131  043-911-3479           NaN  남자       단기   7.0   \n132  043-643-7946           NaN  여자       단기   7.0   \n133  043-231-2676           NaN  남자       단기  15.0   \n134  043-853-0924           NaN  여자      중장기   7.0   \n135  043-266-2204  043-262-2204  남자      중장기   7.0   \n\n                                               홈페이지 주소  \\\n0                             http://www.nuryworld.kr/   \n1                                                  NaN   \n2                       http://www.ishelter.or.kr/gnu/   \n3                   http://www.gbdream.or.kr/index.php   \n4                        http://www.youthzone.or.kr/y/   \n..                                                 ...   \n131                         http://www.chingu3479.com/   \n132  https://www.jecheon.go.kr/www/contents.do?key=...   \n133                         http://cjfriend2676.co.kr/   \n134                   * 135와 동일? 136과 137 아무리 찾아도 안나옴.   \n135                                                NaN   \n\n                                 Unnamed: 11         lat          lng  \n0                                        NaN  37.5552616   126.968931  \n1                                        NaN                           \n2                                        NaN                           \n3                                        NaN                           \n4                                        NaN  37.4722607   126.882423  \n..                                       ...         ...          ...  \n131                                      NaN                           \n132  페이스북: https://www.facebook.com/jcbom79/   37.155593  128.2162351  \n133                                      NaN  36.6186079  127.4902721  \n134                                      NaN                           \n135                                      NaN                           \n\n[136 rows x 14 columns]",
      "text/html": "<div>\n<style scoped>\n    .dataframe tbody tr th:only-of-type {\n        vertical-align: middle;\n    }\n\n    .dataframe tbody tr th {\n        vertical-align: top;\n    }\n\n    .dataframe thead th {\n        text-align: right;\n    }\n</style>\n<table border=\"1\" class=\"dataframe\">\n  <thead>\n    <tr style=\"text-align: right;\">\n      <th></th>\n      <th>Unnamed: 0</th>\n      <th>인덱스</th>\n      <th>지역</th>\n      <th>기관명</th>\n      <th>주소</th>\n      <th>전화번호(1)</th>\n      <th>전화번호(2)</th>\n      <th>대상</th>\n      <th>유형</th>\n      <th>정원</th>\n      <th>홈페이지 주소</th>\n      <th>Unnamed: 11</th>\n      <th>lat</th>\n      <th>lng</th>\n    </tr>\n  </thead>\n  <tbody>\n    <tr>\n      <th>0</th>\n      <td>NaN</td>\n      <td>1.0</td>\n      <td>서울</td>\n      <td>서울시립용산일시청소년쉼터</td>\n      <td>서울 용산구 만리재로 156-1</td>\n      <td>02-718-1318</td>\n      <td>NaN</td>\n      <td>공용</td>\n      <td>일시</td>\n      <td>10.0</td>\n      <td>http://www.nuryworld.kr/</td>\n      <td>NaN</td>\n      <td>37.5552616</td>\n      <td>126.968931</td>\n    </tr>\n    <tr>\n      <th>1</th>\n      <td>NaN</td>\n      <td>2.0</td>\n      <td>서울</td>\n      <td>은평구립일시청소년쉼터</td>\n      <td>서울 은평구 통일로 89길 6-20 (갈현동)</td>\n      <td>02-382-1388</td>\n      <td>NaN</td>\n      <td>여자</td>\n      <td>일시(고정형)</td>\n      <td>10.0</td>\n      <td>NaN</td>\n      <td>NaN</td>\n      <td></td>\n      <td></td>\n    </tr>\n    <tr>\n      <th>2</th>\n      <td>NaN</td>\n      <td>3.0</td>\n      <td>서울</td>\n      <td>강서청소년쉼터</td>\n      <td>서울 강서구 초록마을로 10길 5, 201호</td>\n      <td>02-2697-7377</td>\n      <td>NaN</td>\n      <td>남자</td>\n      <td>단기</td>\n      <td>8.0</td>\n      <td>http://www.ishelter.or.kr/gnu/</td>\n      <td>NaN</td>\n      <td></td>\n      <td></td>\n    </tr>\n    <tr>\n      <th>3</th>\n      <td>NaN</td>\n      <td>4.0</td>\n      <td>서울</td>\n      <td>서울시립강북청소년드림센터</td>\n      <td>서울 강북구 한천로140길 5-26(수유 3동)</td>\n      <td>02-6435-7979</td>\n      <td>NaN</td>\n      <td>남자</td>\n      <td>일시(고정형)</td>\n      <td>10.0</td>\n      <td>http://www.gbdream.or.kr/index.php</td>\n      <td>NaN</td>\n      <td></td>\n      <td></td>\n    </tr>\n    <tr>\n      <th>4</th>\n      <td>NaN</td>\n      <td>5.0</td>\n      <td>서울</td>\n      <td>서울시립금천청소년단기쉼터</td>\n      <td>서울특별시 금천구 가산디지털1로 120</td>\n      <td>02-3281-8200</td>\n      <td>NaN</td>\n      <td>여자</td>\n      <td>단기</td>\n      <td>20.0</td>\n      <td>http://www.youthzone.or.kr/y/</td>\n      <td>NaN</td>\n      <td>37.4722607</td>\n      <td>126.882423</td>\n    </tr>\n    <tr>\n      <th>...</th>\n      <td>...</td>\n      <td>...</td>\n      <td>...</td>\n      <td>...</td>\n      <td>...</td>\n      <td>...</td>\n      <td>...</td>\n      <td>...</td>\n      <td>...</td>\n      <td>...</td>\n      <td>...</td>\n      <td>...</td>\n      <td>...</td>\n      <td>...</td>\n    </tr>\n    <tr>\n      <th>131</th>\n      <td>NaN</td>\n      <td>132.0</td>\n      <td>충북</td>\n      <td>친구청소년쉼터(남자)</td>\n      <td>충북 충주시 금봉 3길 27</td>\n      <td>043-911-3479</td>\n      <td>NaN</td>\n      <td>남자</td>\n      <td>단기</td>\n      <td>7.0</td>\n      <td>http://www.chingu3479.com/</td>\n      <td>NaN</td>\n      <td></td>\n      <td></td>\n    </tr>\n    <tr>\n      <th>132</th>\n      <td>NaN</td>\n      <td>133.0</td>\n      <td>충북</td>\n      <td>제천여자단기펑소년쉼터(본청소년쉼터)</td>\n      <td>충북 제천시 고암로4가길 3</td>\n      <td>043-643-7946</td>\n      <td>NaN</td>\n      <td>여자</td>\n      <td>단기</td>\n      <td>7.0</td>\n      <td>https://www.jecheon.go.kr/www/contents.do?key=...</td>\n      <td>페이스북: https://www.facebook.com/jcbom79/</td>\n      <td>37.155593</td>\n      <td>128.2162351</td>\n    </tr>\n    <tr>\n      <th>133</th>\n      <td>NaN</td>\n      <td>134.0</td>\n      <td>충북</td>\n      <td>청주남자단기청소년쉼터</td>\n      <td>충청북도 청주시 서원구 구룡산로 331-9</td>\n      <td>043-231-2676</td>\n      <td>NaN</td>\n      <td>남자</td>\n      <td>단기</td>\n      <td>15.0</td>\n      <td>http://cjfriend2676.co.kr/</td>\n      <td>NaN</td>\n      <td>36.6186079</td>\n      <td>127.4902721</td>\n    </tr>\n    <tr>\n      <th>134</th>\n      <td>NaN</td>\n      <td>135.0</td>\n      <td>충북</td>\n      <td>충추시여자중장기청소년쉼터</td>\n      <td>충북 충주시 봉헌로 109</td>\n      <td>043-853-0924</td>\n      <td>NaN</td>\n      <td>여자</td>\n      <td>중장기</td>\n      <td>7.0</td>\n      <td>* 135와 동일? 136과 137 아무리 찾아도 안나옴.</td>\n      <td>NaN</td>\n      <td></td>\n      <td></td>\n    </tr>\n    <tr>\n      <th>135</th>\n      <td>NaN</td>\n      <td>136.0</td>\n      <td>충북</td>\n      <td>충청북도중장기청소년쉼터</td>\n      <td>충북 청주시 흥덕구 신율로 166, 3층</td>\n      <td>043-266-2204</td>\n      <td>043-262-2204</td>\n      <td>남자</td>\n      <td>중장기</td>\n      <td>7.0</td>\n      <td>NaN</td>\n      <td>NaN</td>\n      <td></td>\n      <td></td>\n    </tr>\n  </tbody>\n</table>\n<p>136 rows × 14 columns</p>\n</div>"
     },
     "execution_count": 75,
     "metadata": {},
     "output_type": "execute_result"
    }
   ],
   "source": [
    "result"
   ],
   "metadata": {
    "collapsed": false,
    "pycharm": {
     "name": "#%%\n"
    }
   }
  },
  {
   "cell_type": "code",
   "execution_count": 76,
   "outputs": [],
   "source": [
    "result.to_excel('./기관_정보_위경도.xlsx')"
   ],
   "metadata": {
    "collapsed": false,
    "pycharm": {
     "name": "#%%\n"
    }
   }
  },
  {
   "cell_type": "markdown",
   "source": [
    "### 카카오 API 이용"
   ],
   "metadata": {
    "collapsed": false
   }
  },
  {
   "cell_type": "code",
   "execution_count": 2,
   "outputs": [],
   "source": [
    "import requests, json"
   ],
   "metadata": {
    "collapsed": false,
    "pycharm": {
     "name": "#%%\n"
    }
   }
  },
  {
   "cell_type": "code",
   "execution_count": 6,
   "outputs": [],
   "source": [
    "def addr_to_lat_lon(addr):\n",
    "    url = 'https://dapi.kakao.com/v2/local/search/address.json?query={address}'.format(address=addr)\n",
    "    headers = {\"Authorization\": \"KakaoAK \" + \"my api key\"}\n",
    "    result = json.loads(str(requests.get(url, headers=headers).text))\n",
    "    match_first = result['documents'][0]['address']\n",
    "    return float(match_first['x']), float(match_first['y'])"
   ],
   "metadata": {
    "collapsed": false,
    "pycharm": {
     "name": "#%%\n"
    }
   }
  },
  {
   "cell_type": "code",
   "execution_count": 14,
   "outputs": [],
   "source": [
    "lng, lat = addr_to_lat_lon('서울 은평구 통일로 89길 6-20 (갈현동)')"
   ],
   "metadata": {
    "collapsed": false,
    "pycharm": {
     "name": "#%%\n"
    }
   }
  },
  {
   "cell_type": "code",
   "execution_count": 15,
   "outputs": [
    {
     "data": {
      "text/plain": "126.919468871602"
     },
     "execution_count": 15,
     "metadata": {},
     "output_type": "execute_result"
    }
   ],
   "source": [
    "lng"
   ],
   "metadata": {
    "collapsed": false,
    "pycharm": {
     "name": "#%%\n"
    }
   }
  },
  {
   "cell_type": "code",
   "execution_count": 11,
   "outputs": [],
   "source": [
    "data = pd.read_excel(\"./기관_정보.xlsx\")"
   ],
   "metadata": {
    "collapsed": false,
    "pycharm": {
     "name": "#%%\n"
    }
   }
  },
  {
   "cell_type": "code",
   "execution_count": 12,
   "outputs": [
    {
     "data": {
      "text/plain": "     Unnamed: 0    인덱스  지역                  기관명                          주소  \\\n0           NaN    1.0  서울        서울시립용산일시청소년쉼터           서울 용산구 만리재로 156-1   \n1           NaN    2.0  서울          은평구립일시청소년쉼터   서울 은평구 통일로 89길 6-20 (갈현동)   \n2           NaN    3.0  서울              강서청소년쉼터    서울 강서구 초록마을로 10길 5, 201호   \n3           NaN    4.0  서울        서울시립강북청소년드림센터  서울 강북구 한천로140길 5-26(수유 3동)   \n4           NaN    5.0  서울        서울시립금천청소년단기쉼터       서울특별시 금천구 가산디지털1로 120   \n..          ...    ...  ..                  ...                         ...   \n131         NaN  132.0  충북          친구청소년쉼터(남자)             충북 충주시 금봉 3길 27   \n132         NaN  133.0  충북  제천여자단기펑소년쉼터(본청소년쉼터)             충북 제천시 고암로4가길 3   \n133         NaN  134.0  충북          청주남자단기청소년쉼터     충청북도 청주시 서원구 구룡산로 331-9   \n134         NaN  135.0  충북        충추시여자중장기청소년쉼터              충북 충주시 봉헌로 109   \n135         NaN  136.0  충북         충청북도중장기청소년쉼터      충북 청주시 흥덕구 신율로 166, 3층   \n\n          전화번호(1)       전화번호(2)  대상       유형    정원  \\\n0     02-718-1318           NaN  공용       일시  10.0   \n1     02-382-1388           NaN  여자  일시(고정형)  10.0   \n2    02-2697-7377           NaN  남자       단기   8.0   \n3    02-6435-7979           NaN  남자  일시(고정형)  10.0   \n4    02-3281-8200           NaN  여자       단기  20.0   \n..            ...           ...  ..      ...   ...   \n131  043-911-3479           NaN  남자       단기   7.0   \n132  043-643-7946           NaN  여자       단기   7.0   \n133  043-231-2676           NaN  남자       단기  15.0   \n134  043-853-0924           NaN  여자      중장기   7.0   \n135  043-266-2204  043-262-2204  남자      중장기   7.0   \n\n                                               홈페이지 주소  \\\n0                             http://www.nuryworld.kr/   \n1                                                  NaN   \n2                       http://www.ishelter.or.kr/gnu/   \n3                   http://www.gbdream.or.kr/index.php   \n4                        http://www.youthzone.or.kr/y/   \n..                                                 ...   \n131                         http://www.chingu3479.com/   \n132  https://www.jecheon.go.kr/www/contents.do?key=...   \n133                         http://cjfriend2676.co.kr/   \n134                   * 135와 동일? 136과 137 아무리 찾아도 안나옴.   \n135                                                NaN   \n\n                                 Unnamed: 11  \n0                                        NaN  \n1                                        NaN  \n2                                        NaN  \n3                                        NaN  \n4                                        NaN  \n..                                       ...  \n131                                      NaN  \n132  페이스북: https://www.facebook.com/jcbom79/  \n133                                      NaN  \n134                                      NaN  \n135                                      NaN  \n\n[136 rows x 12 columns]",
      "text/html": "<div>\n<style scoped>\n    .dataframe tbody tr th:only-of-type {\n        vertical-align: middle;\n    }\n\n    .dataframe tbody tr th {\n        vertical-align: top;\n    }\n\n    .dataframe thead th {\n        text-align: right;\n    }\n</style>\n<table border=\"1\" class=\"dataframe\">\n  <thead>\n    <tr style=\"text-align: right;\">\n      <th></th>\n      <th>Unnamed: 0</th>\n      <th>인덱스</th>\n      <th>지역</th>\n      <th>기관명</th>\n      <th>주소</th>\n      <th>전화번호(1)</th>\n      <th>전화번호(2)</th>\n      <th>대상</th>\n      <th>유형</th>\n      <th>정원</th>\n      <th>홈페이지 주소</th>\n      <th>Unnamed: 11</th>\n    </tr>\n  </thead>\n  <tbody>\n    <tr>\n      <th>0</th>\n      <td>NaN</td>\n      <td>1.0</td>\n      <td>서울</td>\n      <td>서울시립용산일시청소년쉼터</td>\n      <td>서울 용산구 만리재로 156-1</td>\n      <td>02-718-1318</td>\n      <td>NaN</td>\n      <td>공용</td>\n      <td>일시</td>\n      <td>10.0</td>\n      <td>http://www.nuryworld.kr/</td>\n      <td>NaN</td>\n    </tr>\n    <tr>\n      <th>1</th>\n      <td>NaN</td>\n      <td>2.0</td>\n      <td>서울</td>\n      <td>은평구립일시청소년쉼터</td>\n      <td>서울 은평구 통일로 89길 6-20 (갈현동)</td>\n      <td>02-382-1388</td>\n      <td>NaN</td>\n      <td>여자</td>\n      <td>일시(고정형)</td>\n      <td>10.0</td>\n      <td>NaN</td>\n      <td>NaN</td>\n    </tr>\n    <tr>\n      <th>2</th>\n      <td>NaN</td>\n      <td>3.0</td>\n      <td>서울</td>\n      <td>강서청소년쉼터</td>\n      <td>서울 강서구 초록마을로 10길 5, 201호</td>\n      <td>02-2697-7377</td>\n      <td>NaN</td>\n      <td>남자</td>\n      <td>단기</td>\n      <td>8.0</td>\n      <td>http://www.ishelter.or.kr/gnu/</td>\n      <td>NaN</td>\n    </tr>\n    <tr>\n      <th>3</th>\n      <td>NaN</td>\n      <td>4.0</td>\n      <td>서울</td>\n      <td>서울시립강북청소년드림센터</td>\n      <td>서울 강북구 한천로140길 5-26(수유 3동)</td>\n      <td>02-6435-7979</td>\n      <td>NaN</td>\n      <td>남자</td>\n      <td>일시(고정형)</td>\n      <td>10.0</td>\n      <td>http://www.gbdream.or.kr/index.php</td>\n      <td>NaN</td>\n    </tr>\n    <tr>\n      <th>4</th>\n      <td>NaN</td>\n      <td>5.0</td>\n      <td>서울</td>\n      <td>서울시립금천청소년단기쉼터</td>\n      <td>서울특별시 금천구 가산디지털1로 120</td>\n      <td>02-3281-8200</td>\n      <td>NaN</td>\n      <td>여자</td>\n      <td>단기</td>\n      <td>20.0</td>\n      <td>http://www.youthzone.or.kr/y/</td>\n      <td>NaN</td>\n    </tr>\n    <tr>\n      <th>...</th>\n      <td>...</td>\n      <td>...</td>\n      <td>...</td>\n      <td>...</td>\n      <td>...</td>\n      <td>...</td>\n      <td>...</td>\n      <td>...</td>\n      <td>...</td>\n      <td>...</td>\n      <td>...</td>\n      <td>...</td>\n    </tr>\n    <tr>\n      <th>131</th>\n      <td>NaN</td>\n      <td>132.0</td>\n      <td>충북</td>\n      <td>친구청소년쉼터(남자)</td>\n      <td>충북 충주시 금봉 3길 27</td>\n      <td>043-911-3479</td>\n      <td>NaN</td>\n      <td>남자</td>\n      <td>단기</td>\n      <td>7.0</td>\n      <td>http://www.chingu3479.com/</td>\n      <td>NaN</td>\n    </tr>\n    <tr>\n      <th>132</th>\n      <td>NaN</td>\n      <td>133.0</td>\n      <td>충북</td>\n      <td>제천여자단기펑소년쉼터(본청소년쉼터)</td>\n      <td>충북 제천시 고암로4가길 3</td>\n      <td>043-643-7946</td>\n      <td>NaN</td>\n      <td>여자</td>\n      <td>단기</td>\n      <td>7.0</td>\n      <td>https://www.jecheon.go.kr/www/contents.do?key=...</td>\n      <td>페이스북: https://www.facebook.com/jcbom79/</td>\n    </tr>\n    <tr>\n      <th>133</th>\n      <td>NaN</td>\n      <td>134.0</td>\n      <td>충북</td>\n      <td>청주남자단기청소년쉼터</td>\n      <td>충청북도 청주시 서원구 구룡산로 331-9</td>\n      <td>043-231-2676</td>\n      <td>NaN</td>\n      <td>남자</td>\n      <td>단기</td>\n      <td>15.0</td>\n      <td>http://cjfriend2676.co.kr/</td>\n      <td>NaN</td>\n    </tr>\n    <tr>\n      <th>134</th>\n      <td>NaN</td>\n      <td>135.0</td>\n      <td>충북</td>\n      <td>충추시여자중장기청소년쉼터</td>\n      <td>충북 충주시 봉헌로 109</td>\n      <td>043-853-0924</td>\n      <td>NaN</td>\n      <td>여자</td>\n      <td>중장기</td>\n      <td>7.0</td>\n      <td>* 135와 동일? 136과 137 아무리 찾아도 안나옴.</td>\n      <td>NaN</td>\n    </tr>\n    <tr>\n      <th>135</th>\n      <td>NaN</td>\n      <td>136.0</td>\n      <td>충북</td>\n      <td>충청북도중장기청소년쉼터</td>\n      <td>충북 청주시 흥덕구 신율로 166, 3층</td>\n      <td>043-266-2204</td>\n      <td>043-262-2204</td>\n      <td>남자</td>\n      <td>중장기</td>\n      <td>7.0</td>\n      <td>NaN</td>\n      <td>NaN</td>\n    </tr>\n  </tbody>\n</table>\n<p>136 rows × 12 columns</p>\n</div>"
     },
     "execution_count": 12,
     "metadata": {},
     "output_type": "execute_result"
    }
   ],
   "source": [
    "data"
   ],
   "metadata": {
    "collapsed": false,
    "pycharm": {
     "name": "#%%\n"
    }
   }
  },
  {
   "cell_type": "code",
   "execution_count": 13,
   "outputs": [],
   "source": [
    "geo_list = []\n",
    "df_values = data[[\"주소\"]].values"
   ],
   "metadata": {
    "collapsed": false,
    "pycharm": {
     "name": "#%%\n"
    }
   }
  },
  {
   "cell_type": "code",
   "execution_count": 16,
   "outputs": [],
   "source": [
    "for dfv in df_values:\n",
    "    try:\n",
    "        lng, lat = addr_to_lat_lon(dfv)\n",
    "        geo_list.append({'lat': str(lat), 'lng': str(lng)})\n",
    "    except Exception:\n",
    "        geo_list.append({'lat': '', 'lng': ''})"
   ],
   "metadata": {
    "collapsed": false,
    "pycharm": {
     "name": "#%%\n"
    }
   }
  },
  {
   "cell_type": "code",
   "execution_count": 17,
   "outputs": [
    {
     "data": {
      "text/plain": "[{'lat': '37.5528471041831', 'lng': '126.964368040702'},\n {'lat': '37.6254605814318', 'lng': '126.919468871602'},\n {'lat': '37.5420543398645', 'lng': '126.849224542569'},\n {'lat': '37.6412155946426', 'lng': '127.026010594801'},\n {'lat': '37.4761900248913', 'lng': '126.883723690494'},\n {'lat': '37.4682984189401', 'lng': '126.901659369647'},\n {'lat': '37.531033307862', 'lng': '126.826698091842'},\n {'lat': '37.6062211437949', 'lng': '127.108839126894'},\n {'lat': '37.5520255224142', 'lng': '126.916683666284'},\n {'lat': '37.4691504604724', 'lng': '126.923385927983'},\n {'lat': '37.6261838916725', 'lng': '126.923807527137'},\n {'lat': '37.5227713188467', 'lng': '127.133949850418'},\n {'lat': '37.5709099890002', 'lng': '126.9854441429'},\n {'lat': '37.5709099890002', 'lng': '126.9854441429'},\n {'lat': '37.5232024269718', 'lng': '127.131967887095'},\n {'lat': '37.5515569800024', 'lng': '126.853586110958'},\n {'lat': '36.4509493893809', 'lng': '127.129351485813'},\n {'lat': '36.7827370417016', 'lng': '127.010675826104'},\n {'lat': '36.789228715182', 'lng': '126.958109839199'},\n {'lat': '36.8174495702938', 'lng': '127.134160823173'},\n {'lat': '36.4584514485562', 'lng': '127.13651239384'},\n {'lat': '36.1929302770503', 'lng': '127.125178356031'},\n {'lat': '36.7963758707672', 'lng': '127.124248942323'},\n {'lat': '36.6022544345999', 'lng': '126.676112078312'},\n {'lat': '36.6022544345999', 'lng': '126.676112078312'},\n {'lat': '35.9549296659777', 'lng': '126.973315624417'},\n {'lat': '35.9671583467336', 'lng': '126.73961197871'},\n {'lat': '35.9665161512435', 'lng': '126.693210196118'},\n {'lat': '35.8378042142359', 'lng': '127.166630816288'},\n {'lat': '35.8272491601553', 'lng': '127.162397485436'},\n {'lat': '35.8121680146314', 'lng': '127.107382264591'},\n {'lat': '34.7929310301955', 'lng': '126.383934099285'},\n {'lat': '34.7947581262133', 'lng': '126.392752167239'},\n {'lat': '34.7346305850308', 'lng': '127.726628770033'},\n {'lat': '34.7723024599767', 'lng': '127.652721433973'},\n {'lat': '36.5806453746677', 'lng': '128.733777321632'},\n {'lat': '36.0241304608568', 'lng': '129.370921200079'},\n {'lat': '36.1059053346005', 'lng': '128.339756850518'},\n {'lat': '35.854432038517', 'lng': '129.210206348872'},\n {'lat': '36.1262574120351', 'lng': '128.331871055958'},\n {'lat': '36.0214771496683', 'lng': '129.35121566431'},\n {'lat': '35.2280978329469', 'lng': '128.702558825361'},\n {'lat': '35.1827574791756', 'lng': '128.063741302886'},\n {'lat': '35.2330661242316', 'lng': '128.876228158252'},\n {'lat': '35.2623377362966', 'lng': '128.639522224847'},\n {'lat': '35.2278213384456', 'lng': '128.678728968623'},\n {'lat': '33.2516983822545', 'lng': '126.512599322795'},\n {'lat': '33.2566133722462', 'lng': '126.567844373797'},\n {'lat': '33.4922171093415', 'lng': '126.543760446478'},\n {'lat': '33.52485301574', 'lng': '126.576402459568'},\n {'lat': '33.5149345777914', 'lng': '126.532215713718'},\n {'lat': '33.3697915096091', 'lng': '126.282891409314'},\n {'lat': '35.5893855001316', 'lng': '129.370586072749'},\n {'lat': '35.5549211325095', 'lng': '129.321153441138'},\n {'lat': '35.5388726724399', 'lng': '129.308412033354'},\n {'lat': '35.5336418064766', 'lng': '129.331493535796'},\n {'lat': '35.4936526387249', 'lng': '129.212861019696'},\n {'lat': '35.1809114047219', 'lng': '128.985243287727'},\n {'lat': '35.1575711127284', 'lng': '129.120610498294'},\n {'lat': '35.2671441140721', 'lng': '129.08850842539'},\n {'lat': '35.1809114047219', 'lng': '128.985243287727'},\n {'lat': '35.1809114047219', 'lng': '128.985243287727'},\n {'lat': '35.8577768149775', 'lng': '128.587726312472'},\n {'lat': '35.8361287461225', 'lng': '128.539459720152'},\n {'lat': '35.869932006114', 'lng': '128.590123325509'},\n {'lat': '', 'lng': ''},\n {'lat': '35.8595842560914', 'lng': '128.639855365291'},\n {'lat': '35.8467440314441', 'lng': '128.545212100651'},\n {'lat': '37.4730712226844', 'lng': '126.703543607211'},\n {'lat': '37.4541765417742', 'lng': '126.67618244406'},\n {'lat': '37.4906883051357', 'lng': '126.740121677874'},\n {'lat': '37.4489806064423', 'lng': '126.726339276215'},\n {'lat': '37.4116828683314', 'lng': '126.681545964404'},\n {'lat': '37.4872559695725', 'lng': '126.737898511661'},\n {'lat': '37.4556065988458', 'lng': '126.729019761493'},\n {'lat': '37.4548513147544', 'lng': '126.674479584086'},\n {'lat': '35.1222549650313', 'lng': '126.865292135526'},\n {'lat': '', 'lng': ''},\n {'lat': '35.1597884133663', 'lng': '126.905080724473'},\n {'lat': '35.1597884133663', 'lng': '126.905080724473'},\n {'lat': '35.1597884133663', 'lng': '126.905080724473'},\n {'lat': '36.3337310530365', 'lng': '127.378431912435'},\n {'lat': '36.3283653349031', 'lng': '127.426730095719'},\n {'lat': '36.3491962748623', 'lng': '127.366329624205'},\n {'lat': '36.3283653349031', 'lng': '127.426730095719'},\n {'lat': '36.3406233187757', 'lng': '127.435050357765'},\n {'lat': '', 'lng': ''},\n {'lat': '37.6835661579007', 'lng': '126.819357782561'},\n {'lat': '37.6938811987191', 'lng': '126.769918528712'},\n {'lat': '37.597331321941', 'lng': '127.131675644504'},\n {'lat': '37.5971045593975', 'lng': '127.134457801565'},\n {'lat': '37.3755227375005', 'lng': '126.941002365402'},\n {'lat': '37.627253284278', 'lng': '127.202411634152'},\n {'lat': '37.4879614104766', 'lng': '126.815017645327'},\n {'lat': '37.4653179843628', 'lng': '127.137352114871'},\n {'lat': '37.4331648661797', 'lng': '127.129705118458'},\n {'lat': '37.4320810801817', 'lng': '127.126166181342'},\n {'lat': '37.4361597114143', 'lng': '127.142793906397'},\n {'lat': '37.2506997110015', 'lng': '127.018593060267'},\n {'lat': '37.4320852070538', 'lng': '126.792593839609'},\n {'lat': '37.3018660494573', 'lng': '126.812480684929'},\n {'lat': '37.4034180181391', 'lng': '126.961472211766'},\n {'lat': '37.3952498535075', 'lng': '126.922048995703'},\n {'lat': '37.3767779302579', 'lng': '126.956301952524'},\n {'lat': '37.3323516285718', 'lng': '127.098472998584'},\n {'lat': '37.3272772767401', 'lng': '127.101367127631'},\n {'lat': '37.2820784139797', 'lng': '127.448294122066'},\n {'lat': '37.6375371805389', 'lng': '126.704672173597'},\n {'lat': '37.4890339284942', 'lng': '126.784382532668'},\n {'lat': '37.4283240745974', 'lng': '127.132862398986'},\n {'lat': '37.275747096853', 'lng': '127.015896409674'},\n {'lat': '37.3522757906551', 'lng': '126.745291806425'},\n {'lat': '37.3368592235488', 'lng': '126.842144825164'},\n {'lat': '37.159462523328', 'lng': '127.066667716761'},\n {'lat': '37.7327213530906', 'lng': '127.041804289487'},\n {'lat': '37.7549956897762', 'lng': '127.029782736425'},\n {'lat': '37.7484120412583', 'lng': '127.042452612019'},\n {'lat': '36.9964321558801', 'lng': '127.107331340859'},\n {'lat': '37.5411051179965', 'lng': '127.215999629174'},\n {'lat': '37.2236713760043', 'lng': '126.951255583716'},\n {'lat': '37.754124677373', 'lng': '128.897269472011'},\n {'lat': '37.8835265463517', 'lng': '127.744545658848'},\n {'lat': '37.9321854814282', 'lng': '127.722874895011'},\n {'lat': '37.8977758423467', 'lng': '127.762912467282'},\n {'lat': '37.8835265463517', 'lng': '127.744545658848'},\n {'lat': '37.8977758423467', 'lng': '127.762912467282'},\n {'lat': '37.3859942891032', 'lng': '127.949603849128'},\n {'lat': '37.8977758423467', 'lng': '127.762912467282'},\n {'lat': '37.3184474067451', 'lng': '127.963429602487'},\n {'lat': '', 'lng': ''},\n {'lat': '36.6307176454753', 'lng': '127.492397991652'},\n {'lat': '36.9639082245471', 'lng': '127.939893310234'},\n {'lat': '37.1554424525892', 'lng': '128.216178022416'},\n {'lat': '36.6189551477943', 'lng': '127.481473230901'},\n {'lat': '', 'lng': ''},\n {'lat': '36.6324090588617', 'lng': '127.447700950233'}]"
     },
     "execution_count": 17,
     "metadata": {},
     "output_type": "execute_result"
    }
   ],
   "source": [
    "geo_list"
   ],
   "metadata": {
    "collapsed": false,
    "pycharm": {
     "name": "#%%\n"
    }
   }
  },
  {
   "cell_type": "code",
   "execution_count": 18,
   "outputs": [
    {
     "data": {
      "text/plain": "                  lat               lng\n0    37.5528471041831  126.964368040702\n1    37.6254605814318  126.919468871602\n2    37.5420543398645  126.849224542569\n3    37.6412155946426  127.026010594801\n4    37.4761900248913  126.883723690494\n..                ...               ...\n131  36.9639082245471  127.939893310234\n132  37.1554424525892  128.216178022416\n133  36.6189551477943  127.481473230901\n134                                    \n135  36.6324090588617  127.447700950233\n\n[136 rows x 2 columns]",
      "text/html": "<div>\n<style scoped>\n    .dataframe tbody tr th:only-of-type {\n        vertical-align: middle;\n    }\n\n    .dataframe tbody tr th {\n        vertical-align: top;\n    }\n\n    .dataframe thead th {\n        text-align: right;\n    }\n</style>\n<table border=\"1\" class=\"dataframe\">\n  <thead>\n    <tr style=\"text-align: right;\">\n      <th></th>\n      <th>lat</th>\n      <th>lng</th>\n    </tr>\n  </thead>\n  <tbody>\n    <tr>\n      <th>0</th>\n      <td>37.5528471041831</td>\n      <td>126.964368040702</td>\n    </tr>\n    <tr>\n      <th>1</th>\n      <td>37.6254605814318</td>\n      <td>126.919468871602</td>\n    </tr>\n    <tr>\n      <th>2</th>\n      <td>37.5420543398645</td>\n      <td>126.849224542569</td>\n    </tr>\n    <tr>\n      <th>3</th>\n      <td>37.6412155946426</td>\n      <td>127.026010594801</td>\n    </tr>\n    <tr>\n      <th>4</th>\n      <td>37.4761900248913</td>\n      <td>126.883723690494</td>\n    </tr>\n    <tr>\n      <th>...</th>\n      <td>...</td>\n      <td>...</td>\n    </tr>\n    <tr>\n      <th>131</th>\n      <td>36.9639082245471</td>\n      <td>127.939893310234</td>\n    </tr>\n    <tr>\n      <th>132</th>\n      <td>37.1554424525892</td>\n      <td>128.216178022416</td>\n    </tr>\n    <tr>\n      <th>133</th>\n      <td>36.6189551477943</td>\n      <td>127.481473230901</td>\n    </tr>\n    <tr>\n      <th>134</th>\n      <td></td>\n      <td></td>\n    </tr>\n    <tr>\n      <th>135</th>\n      <td>36.6324090588617</td>\n      <td>127.447700950233</td>\n    </tr>\n  </tbody>\n</table>\n<p>136 rows × 2 columns</p>\n</div>"
     },
     "execution_count": 18,
     "metadata": {},
     "output_type": "execute_result"
    }
   ],
   "source": [
    "geo_df = pd.DataFrame(geo_list)\n",
    "geo_df"
   ],
   "metadata": {
    "collapsed": false,
    "pycharm": {
     "name": "#%%\n"
    }
   }
  },
  {
   "cell_type": "code",
   "execution_count": 19,
   "outputs": [],
   "source": [
    "result = pd.concat([data, geo_df], axis=1)"
   ],
   "metadata": {
    "collapsed": false,
    "pycharm": {
     "name": "#%%\n"
    }
   }
  },
  {
   "cell_type": "code",
   "execution_count": 20,
   "outputs": [
    {
     "data": {
      "text/plain": "     Unnamed: 0    인덱스  지역                  기관명                          주소  \\\n0           NaN    1.0  서울        서울시립용산일시청소년쉼터           서울 용산구 만리재로 156-1   \n1           NaN    2.0  서울          은평구립일시청소년쉼터   서울 은평구 통일로 89길 6-20 (갈현동)   \n2           NaN    3.0  서울              강서청소년쉼터    서울 강서구 초록마을로 10길 5, 201호   \n3           NaN    4.0  서울        서울시립강북청소년드림센터  서울 강북구 한천로140길 5-26(수유 3동)   \n4           NaN    5.0  서울        서울시립금천청소년단기쉼터       서울특별시 금천구 가산디지털1로 120   \n..          ...    ...  ..                  ...                         ...   \n131         NaN  132.0  충북          친구청소년쉼터(남자)             충북 충주시 금봉 3길 27   \n132         NaN  133.0  충북  제천여자단기펑소년쉼터(본청소년쉼터)             충북 제천시 고암로4가길 3   \n133         NaN  134.0  충북          청주남자단기청소년쉼터     충청북도 청주시 서원구 구룡산로 331-9   \n134         NaN  135.0  충북        충추시여자중장기청소년쉼터              충북 충주시 봉헌로 109   \n135         NaN  136.0  충북         충청북도중장기청소년쉼터      충북 청주시 흥덕구 신율로 166, 3층   \n\n          전화번호(1)       전화번호(2)  대상       유형    정원  \\\n0     02-718-1318           NaN  공용       일시  10.0   \n1     02-382-1388           NaN  여자  일시(고정형)  10.0   \n2    02-2697-7377           NaN  남자       단기   8.0   \n3    02-6435-7979           NaN  남자  일시(고정형)  10.0   \n4    02-3281-8200           NaN  여자       단기  20.0   \n..            ...           ...  ..      ...   ...   \n131  043-911-3479           NaN  남자       단기   7.0   \n132  043-643-7946           NaN  여자       단기   7.0   \n133  043-231-2676           NaN  남자       단기  15.0   \n134  043-853-0924           NaN  여자      중장기   7.0   \n135  043-266-2204  043-262-2204  남자      중장기   7.0   \n\n                                               홈페이지 주소  \\\n0                             http://www.nuryworld.kr/   \n1                                                  NaN   \n2                       http://www.ishelter.or.kr/gnu/   \n3                   http://www.gbdream.or.kr/index.php   \n4                        http://www.youthzone.or.kr/y/   \n..                                                 ...   \n131                         http://www.chingu3479.com/   \n132  https://www.jecheon.go.kr/www/contents.do?key=...   \n133                         http://cjfriend2676.co.kr/   \n134                   * 135와 동일? 136과 137 아무리 찾아도 안나옴.   \n135                                                NaN   \n\n                                 Unnamed: 11               lat  \\\n0                                        NaN  37.5528471041831   \n1                                        NaN  37.6254605814318   \n2                                        NaN  37.5420543398645   \n3                                        NaN  37.6412155946426   \n4                                        NaN  37.4761900248913   \n..                                       ...               ...   \n131                                      NaN  36.9639082245471   \n132  페이스북: https://www.facebook.com/jcbom79/  37.1554424525892   \n133                                      NaN  36.6189551477943   \n134                                      NaN                     \n135                                      NaN  36.6324090588617   \n\n                  lng  \n0    126.964368040702  \n1    126.919468871602  \n2    126.849224542569  \n3    127.026010594801  \n4    126.883723690494  \n..                ...  \n131  127.939893310234  \n132  128.216178022416  \n133  127.481473230901  \n134                    \n135  127.447700950233  \n\n[136 rows x 14 columns]",
      "text/html": "<div>\n<style scoped>\n    .dataframe tbody tr th:only-of-type {\n        vertical-align: middle;\n    }\n\n    .dataframe tbody tr th {\n        vertical-align: top;\n    }\n\n    .dataframe thead th {\n        text-align: right;\n    }\n</style>\n<table border=\"1\" class=\"dataframe\">\n  <thead>\n    <tr style=\"text-align: right;\">\n      <th></th>\n      <th>Unnamed: 0</th>\n      <th>인덱스</th>\n      <th>지역</th>\n      <th>기관명</th>\n      <th>주소</th>\n      <th>전화번호(1)</th>\n      <th>전화번호(2)</th>\n      <th>대상</th>\n      <th>유형</th>\n      <th>정원</th>\n      <th>홈페이지 주소</th>\n      <th>Unnamed: 11</th>\n      <th>lat</th>\n      <th>lng</th>\n    </tr>\n  </thead>\n  <tbody>\n    <tr>\n      <th>0</th>\n      <td>NaN</td>\n      <td>1.0</td>\n      <td>서울</td>\n      <td>서울시립용산일시청소년쉼터</td>\n      <td>서울 용산구 만리재로 156-1</td>\n      <td>02-718-1318</td>\n      <td>NaN</td>\n      <td>공용</td>\n      <td>일시</td>\n      <td>10.0</td>\n      <td>http://www.nuryworld.kr/</td>\n      <td>NaN</td>\n      <td>37.5528471041831</td>\n      <td>126.964368040702</td>\n    </tr>\n    <tr>\n      <th>1</th>\n      <td>NaN</td>\n      <td>2.0</td>\n      <td>서울</td>\n      <td>은평구립일시청소년쉼터</td>\n      <td>서울 은평구 통일로 89길 6-20 (갈현동)</td>\n      <td>02-382-1388</td>\n      <td>NaN</td>\n      <td>여자</td>\n      <td>일시(고정형)</td>\n      <td>10.0</td>\n      <td>NaN</td>\n      <td>NaN</td>\n      <td>37.6254605814318</td>\n      <td>126.919468871602</td>\n    </tr>\n    <tr>\n      <th>2</th>\n      <td>NaN</td>\n      <td>3.0</td>\n      <td>서울</td>\n      <td>강서청소년쉼터</td>\n      <td>서울 강서구 초록마을로 10길 5, 201호</td>\n      <td>02-2697-7377</td>\n      <td>NaN</td>\n      <td>남자</td>\n      <td>단기</td>\n      <td>8.0</td>\n      <td>http://www.ishelter.or.kr/gnu/</td>\n      <td>NaN</td>\n      <td>37.5420543398645</td>\n      <td>126.849224542569</td>\n    </tr>\n    <tr>\n      <th>3</th>\n      <td>NaN</td>\n      <td>4.0</td>\n      <td>서울</td>\n      <td>서울시립강북청소년드림센터</td>\n      <td>서울 강북구 한천로140길 5-26(수유 3동)</td>\n      <td>02-6435-7979</td>\n      <td>NaN</td>\n      <td>남자</td>\n      <td>일시(고정형)</td>\n      <td>10.0</td>\n      <td>http://www.gbdream.or.kr/index.php</td>\n      <td>NaN</td>\n      <td>37.6412155946426</td>\n      <td>127.026010594801</td>\n    </tr>\n    <tr>\n      <th>4</th>\n      <td>NaN</td>\n      <td>5.0</td>\n      <td>서울</td>\n      <td>서울시립금천청소년단기쉼터</td>\n      <td>서울특별시 금천구 가산디지털1로 120</td>\n      <td>02-3281-8200</td>\n      <td>NaN</td>\n      <td>여자</td>\n      <td>단기</td>\n      <td>20.0</td>\n      <td>http://www.youthzone.or.kr/y/</td>\n      <td>NaN</td>\n      <td>37.4761900248913</td>\n      <td>126.883723690494</td>\n    </tr>\n    <tr>\n      <th>...</th>\n      <td>...</td>\n      <td>...</td>\n      <td>...</td>\n      <td>...</td>\n      <td>...</td>\n      <td>...</td>\n      <td>...</td>\n      <td>...</td>\n      <td>...</td>\n      <td>...</td>\n      <td>...</td>\n      <td>...</td>\n      <td>...</td>\n      <td>...</td>\n    </tr>\n    <tr>\n      <th>131</th>\n      <td>NaN</td>\n      <td>132.0</td>\n      <td>충북</td>\n      <td>친구청소년쉼터(남자)</td>\n      <td>충북 충주시 금봉 3길 27</td>\n      <td>043-911-3479</td>\n      <td>NaN</td>\n      <td>남자</td>\n      <td>단기</td>\n      <td>7.0</td>\n      <td>http://www.chingu3479.com/</td>\n      <td>NaN</td>\n      <td>36.9639082245471</td>\n      <td>127.939893310234</td>\n    </tr>\n    <tr>\n      <th>132</th>\n      <td>NaN</td>\n      <td>133.0</td>\n      <td>충북</td>\n      <td>제천여자단기펑소년쉼터(본청소년쉼터)</td>\n      <td>충북 제천시 고암로4가길 3</td>\n      <td>043-643-7946</td>\n      <td>NaN</td>\n      <td>여자</td>\n      <td>단기</td>\n      <td>7.0</td>\n      <td>https://www.jecheon.go.kr/www/contents.do?key=...</td>\n      <td>페이스북: https://www.facebook.com/jcbom79/</td>\n      <td>37.1554424525892</td>\n      <td>128.216178022416</td>\n    </tr>\n    <tr>\n      <th>133</th>\n      <td>NaN</td>\n      <td>134.0</td>\n      <td>충북</td>\n      <td>청주남자단기청소년쉼터</td>\n      <td>충청북도 청주시 서원구 구룡산로 331-9</td>\n      <td>043-231-2676</td>\n      <td>NaN</td>\n      <td>남자</td>\n      <td>단기</td>\n      <td>15.0</td>\n      <td>http://cjfriend2676.co.kr/</td>\n      <td>NaN</td>\n      <td>36.6189551477943</td>\n      <td>127.481473230901</td>\n    </tr>\n    <tr>\n      <th>134</th>\n      <td>NaN</td>\n      <td>135.0</td>\n      <td>충북</td>\n      <td>충추시여자중장기청소년쉼터</td>\n      <td>충북 충주시 봉헌로 109</td>\n      <td>043-853-0924</td>\n      <td>NaN</td>\n      <td>여자</td>\n      <td>중장기</td>\n      <td>7.0</td>\n      <td>* 135와 동일? 136과 137 아무리 찾아도 안나옴.</td>\n      <td>NaN</td>\n      <td></td>\n      <td></td>\n    </tr>\n    <tr>\n      <th>135</th>\n      <td>NaN</td>\n      <td>136.0</td>\n      <td>충북</td>\n      <td>충청북도중장기청소년쉼터</td>\n      <td>충북 청주시 흥덕구 신율로 166, 3층</td>\n      <td>043-266-2204</td>\n      <td>043-262-2204</td>\n      <td>남자</td>\n      <td>중장기</td>\n      <td>7.0</td>\n      <td>NaN</td>\n      <td>NaN</td>\n      <td>36.6324090588617</td>\n      <td>127.447700950233</td>\n    </tr>\n  </tbody>\n</table>\n<p>136 rows × 14 columns</p>\n</div>"
     },
     "execution_count": 20,
     "metadata": {},
     "output_type": "execute_result"
    }
   ],
   "source": [
    "result"
   ],
   "metadata": {
    "collapsed": false,
    "pycharm": {
     "name": "#%%\n"
    }
   }
  },
  {
   "cell_type": "code",
   "execution_count": 21,
   "outputs": [],
   "source": [
    "result.to_excel('./기관_정보_위경도.xlsx')"
   ],
   "metadata": {
    "collapsed": false,
    "pycharm": {
     "name": "#%%\n"
    }
   }
  },
  {
   "cell_type": "code",
   "execution_count": null,
   "outputs": [],
   "source": [],
   "metadata": {
    "collapsed": false,
    "pycharm": {
     "name": "#%%\n"
    }
   }
  }
 ],
 "metadata": {
  "kernelspec": {
   "display_name": "Python 3",
   "language": "python",
   "name": "python3"
  },
  "language_info": {
   "codemirror_mode": {
    "name": "ipython",
    "version": 2
   },
   "file_extension": ".py",
   "mimetype": "text/x-python",
   "name": "python",
   "nbconvert_exporter": "python",
   "pygments_lexer": "ipython2",
   "version": "2.7.6"
  }
 },
 "nbformat": 4,
 "nbformat_minor": 0
}