{
 "cells": [
  {
   "cell_type": "markdown",
   "metadata": {},
   "source": [
    "from selenium import webdriver\n",
    "import pandas as pd\n",
    "from bs4 import BeautifulSoup\n",
    "from selenium.common.exceptions import NoSuchElementException, TimeoutException\n",
    "from selenium.webdriver.support.wait import WebDriverWait\n",
    "from selenium.webdriver.support import expected_conditions as EC\n",
    "from tqdm import tqdm\n",
    "import chromedriver_autoinstaller\n",
    "import time\n",
    "import random\n",
    "from numpy import dot\n",
    "import requests\n",
    "import json\n",
    "import difflib\n",
    "import sys\n",
    "from numpy.linalg import norm\n",
    "import numpy as np\n",
    "import re\n",
    "from selenium.webdriver.common.by import By\n",
    "from selenium.webdriver.common.keys import Keys\n",
    "tqdm.pandas()\n"
   ]
  },
  {
   "cell_type": "code",
   "execution_count": 4,
   "metadata": {
    "pycharm": {
     "name": "#%%\n"
    }
   },
   "outputs": [
    {
     "name": "stderr",
     "output_type": "stream",
     "text": [
      "C:\\Users\\foxgi\\AppData\\Local\\Temp/ipykernel_50728/4060819270.py:2: DeprecationWarning: executable_path has been deprecated, please pass in a Service object\n",
      "  driver = webdriver.Chrome(path)\n"
     ]
    },
    {
     "name": "stdout",
     "output_type": "stream",
     "text": [
      "https://www.agoda.comhttps://www.agoda.com/ko-kr/songdo-beach-hotel_2/hotel/busan-kr.html?finalPriceView=1&isShowMobileAppPrice=false&cid=1891463&numberOfBedrooms=&familyMode=false&adults=2&children=0&rooms=1&maxRooms=0&checkIn=2021-12-13&isCalendarCallout=false&childAges=&numberOfGuest=0&missingChildAges=false&travellerType=1&showReviewSubmissionEntry=false&currencyCode=KRW&isFreeOccSearch=false&tag=45b17d1d-e0b0-fe2a-ce90-5513829d856b&isCityHaveAsq=false&los=1&searchrequestid=944a6911-399b-4661-a9b6-937b700c5100\n"
     ]
    }
   ],
   "source": [
    "path = chromedriver_autoinstaller.install() # 크롬 드라이버 install\n",
    "driver = webdriver.Chrome(path)\n",
    "\n",
    "# 호텔 서치\n",
    "driver.get('https://www.agoda.com/ko-kr/search?guid=c0f65e50-7e04-4146-a5e0-9f1cde75827c&hotel=10580060'\n",
    "           '&selectedproperty=10580060&asq=kw7ycJuLx0pqYJtiutQIlpufa9Vwpz6XltTHq4n%2B9gNeVdXm8A0i72m15emY'\n",
    "           '%2FhLA0Ie9xH4KTMU6FDHxmO8AwqpyZXPQnOtpcmmoYV0xtxJnE1luFNyeyetLe5%2FgqPsUFMRs%2BeNK0Q2KZGcQYBN3FYRv8tx7u5Iw'\n",
    "           '%2BNjDF2wMvW8KkDMnL4g9wiFkiVcKUPLKcT67VLuGx6VeshlFVnbDSKr9lp8Yp5Dbi2gmvELP5VB'\n",
    "           '%2FaxdITZS96uiIM2HB2oEvfSfiSk0P2hTpgqJRxd62HBWSzqLmjLziHna4Qgc9hUY%3D&tick=637740475228&locale=ko-kr'\n",
    "           '&ckuid=e5e0f971-b737-460e-a429-0e88a809b971&prid=0&gclid=Cj0KCQiA15yNBhDTARIsAGnwe0WpHEvoonTnJhq02LSOTyufNJf2CcP4dwGLvUQhFDMF4v889l0AlHMaAl-KEALw_wcB'\n",
    "           '&currency=KRW&correlationId=17fa777a-d6a3-4e4e-8167-6845b728d80a&pageTypeId=1&realLanguageId=9&languageId=9'\n",
    "           '&origin=KR&cid=1891463&tag=45b17d1d-e0b0-fe2a-ce90-5513829d856b&userId=e5e0f971-b737-460e-a429-0e88a809b971'\n",
    "           '&whitelabelid=1&loginLvl=0&storefrontId=3&currencyId=26&currencyCode=KRW&htmlLanguage=ko-kr&cultureInfoName=ko-kr'\n",
    "           '&machineName=hk-crweb-2025&trafficGroupId=5&sessionId=uxvxqixldfgbcjfgnzr4exwh&trafficSubGroupId=122&aid=82361'\n",
    "           '&useFullPageLogin=true&cttp=4&isRealUser=true&mode=production&rooms=1&adults=2&children=0&priceCur=KRW&los=1'\n",
    "           '&travellerType=1&familyMode=off&productType=-1&checkIn=2021-12-13&checkOut=2021-12-14&textToSearch=송도비치관광호텔')\n",
    "\n",
    "time.sleep(random.uniform(3, 5))\n",
    "\n",
    "# ol class #hotel-list-container\n",
    "\n",
    "search_hotel = driver.find_element(By.CLASS_NAME, 'hotel-list-container')\n",
    "first_hotel = search_hotel.find_element(By.TAG_NAME, 'li')\n",
    "\n",
    "first_hotel_url = first_hotel.find_element(By.TAG_NAME, 'a').get_attribute('href')\n",
    "print(first_hotel_url)"
   ]
  },
  {
   "cell_type": "code",
   "execution_count": 2,
   "metadata": {
    "pycharm": {
     "name": "#%%\n"
    },
    "scrolled": true
   },
   "outputs": [
    {
     "name": "stderr",
     "output_type": "stream",
     "text": [
      "C:\\Users\\LEESOY~1\\AppData\\Local\\Temp/ipykernel_21888/3263337059.py:3: DeprecationWarning: executable_path has been deprecated, please pass in a Service object\n",
      "  driver = webdriver.Chrome(path)\n"
     ]
    },
    {
     "name": "stdout",
     "output_type": "stream",
     "text": [
      "35.1575472336057\n",
      "129.128730297089\n",
      "민락본동로 12-4, (광안해변로)\n",
      "호텔 런더너 광안리 (Hotel Londoner Gwanganlli)\n"
     ]
    },
    {
     "ename": "NameError",
     "evalue": "name 'cleansing' is not defined",
     "output_type": "error",
     "traceback": [
      "\u001b[1;31m---------------------------------------------------------------------------\u001b[0m",
      "\u001b[1;31mNameError\u001b[0m                                 Traceback (most recent call last)",
      "\u001b[1;32mC:\\Users\\LEESOY~1\\AppData\\Local\\Temp/ipykernel_21888/3263337059.py\u001b[0m in \u001b[0;36m<module>\u001b[1;34m\u001b[0m\n\u001b[0;32m     33\u001b[0m \u001b[0mprint\u001b[0m\u001b[1;33m(\u001b[0m\u001b[0mname\u001b[0m\u001b[1;33m)\u001b[0m\u001b[1;33m\u001b[0m\u001b[1;33m\u001b[0m\u001b[0m\n\u001b[0;32m     34\u001b[0m \u001b[1;33m\u001b[0m\u001b[0m\n\u001b[1;32m---> 35\u001b[1;33m \u001b[0mkor_nm\u001b[0m \u001b[1;33m=\u001b[0m \u001b[0mcleansing\u001b[0m\u001b[1;33m(\u001b[0m\u001b[0mname\u001b[0m\u001b[1;33m,\u001b[0m \u001b[0mtype\u001b[0m\u001b[1;33m=\u001b[0m\u001b[1;34m'HOTEL'\u001b[0m\u001b[1;33m)\u001b[0m\u001b[1;33m\u001b[0m\u001b[1;33m\u001b[0m\u001b[0m\n\u001b[0m\u001b[0;32m     36\u001b[0m \u001b[0meng_nm\u001b[0m \u001b[1;33m=\u001b[0m \u001b[0mget_hotel_en\u001b[0m\u001b[1;33m(\u001b[0m\u001b[0mname\u001b[0m\u001b[1;33m)\u001b[0m\u001b[1;33m\u001b[0m\u001b[1;33m\u001b[0m\u001b[0m\n\u001b[0;32m     37\u001b[0m \u001b[1;33m\u001b[0m\u001b[0m\n",
      "\u001b[1;31mNameError\u001b[0m: name 'cleansing' is not defined"
     ]
    }
   ],
   "source": [
    "# agoda details\n",
    "path = chromedriver_autoinstaller.install()\n",
    "driver = webdriver.Chrome(path)\n",
    "\n",
    "# URL = 'https://www.agoda.com/ko-kr/songdo-beach-hotel_2/hotel/busan-kr.html?finalPriceView=1'\\\n",
    "#    '&isShowMobileAppPrice=false&cid=1891463&numberOfBedrooms=&familyMode=false&adults=2'\\\n",
    "#    '&children=0&rooms=1&maxRooms=0&checkIn=2021-12-13&isCalendarCallout=false&childAges='\\\n",
    "#   '&numberOfGuest=0&missingChildAges=false&travellerType=1&showReviewSubmissionEntry=false&currencyCode=KRW'\\\n",
    "#   '&isFreeOccSearch=false&tag=45b17d1d-e0b0-fe2a-ce90-5513829d856b&isCityHaveAsq=false&los=1'\\\n",
    "#   '&searchrequestid=944a6911-399b-4661-a9b6-937b700c5100'\n",
    "\n",
    "# 유토피아 관광호텔\n",
    "URL = 'https://www.agoda.com/ko-kr/hotel-londoner-gwanganlli/hotel/busan-kr.html?finalPriceView=1&isShowMobileAppPrice=false&cid=1844104&numberOfBedrooms=&familyMode=false&adults=2&children=0&rooms=1&maxRooms=0&checkIn=2021-12-13&isCalendarCallout=false&childAges=&numberOfGuest=0&missingChildAges=false&travellerType=1&showReviewSubmissionEntry=false&currencyCode=KRW&isFreeOccSearch=false&isCityHaveAsq=false&tspTypes=6,8&los=1&searchrequestid=ae3ec477-697e-4f05-8138-5434f2b1d0f0'\n",
    "\n",
    "driver.get(URL)\n",
    "\n",
    "WebDriverWait(driver, 10).until(EC.presence_of_element_located((By.XPATH, \"/html/head/meta[11]\")))\n",
    "\n",
    "# latitude\n",
    "latitude = driver.find_element(By.XPATH, '/html/head/meta[11]').get_attribute('content')\n",
    "print(latitude)\n",
    "\n",
    "# longitude\n",
    "longitude = driver.find_element(By.XPATH, '/html/head/meta[12]').get_attribute('content')\n",
    "print(longitude)\n",
    "\n",
    "# address\n",
    "address = driver.find_element(By.XPATH, '/html/head/meta[13]').get_attribute('content')\n",
    "print(address)\n",
    "\n",
    "# hotel name\n",
    "name = driver.find_element(By.CLASS_NAME, 'HeaderCerebrum__Name').text\n",
    "print(name)\n",
    "\n",
    "kor_nm = cleansing(name, type='HOTEL')\n",
    "eng_nm = get_hotel_en(name)\n",
    "\n",
    "# similar 값이 True 이면 진행\n",
    "\n",
    "# 맨 위의 방 찾기\n",
    "hotel_room = driver.find_elements(By.CLASS_NAME, 'MasterRoom')[1]\n",
    "\n",
    "# 방 이름\n",
    "room_nm = hotel_room.find_element(By.CLASS_NAME, 'MasterRoom__HotelName').text\n",
    "print(room_nm)\n",
    "\n",
    "# 방 크기\n",
    "room_area = ''\n",
    "room_amenities = hotel_room.find_elements(By.CLASS_NAME, 'MasterRoom-amenitiesTitle')\n",
    "for ra in room_amenities:\n",
    "    check_room_area = get_room_area(ra.find_element(By.TAG_NAME, 'div').get_attribute('innerHTML'))\n",
    "    if check_room_area:\n",
    "        room_area = check_room_area\n",
    "print(room_area)\n",
    "\n",
    "\n",
    "# 방 가격\n",
    "price_cont = WebDriverWait(driver, 10).until(EC.presence_of_element_located((By.CLASS_NAME, \"finalPrice\")))\n",
    "\n",
    "room_price = price_cont.find_element(By.CLASS_NAME, 'pd-price').text\n",
    "# room_price = room_price.replace('₩', '').lstrip()\n",
    "print(room_price)\n",
    "\n",
    "crawl_dic = {'hotel_en_nm': eng_nm,'room_nm': room_nm, 'room_price': room_price,\n",
    "             'room_area': room_area, 'standard_date': ''}\n",
    "print('>> crawl result : ', crawl_dic)\n"
   ]
  },
  {
   "cell_type": "code",
   "execution_count": 12,
   "metadata": {
    "scrolled": true
   },
   "outputs": [
    {
     "name": "stderr",
     "output_type": "stream",
     "text": [
      "C:\\Users\\LEESOY~1\\AppData\\Local\\Temp/ipykernel_21888/1869357822.py:3: DeprecationWarning: executable_path has been deprecated, please pass in a Service object\n",
      "  driver = webdriver.Chrome(path)\n"
     ]
    },
    {
     "name": "stdout",
     "output_type": "stream",
     "text": [
      "35.16750890000001\n",
      "129.11707409999997\n",
      "무학로9번길 133\n",
      "유토피아 관광 호텔 (Utopia Tourist Hotel)\n",
      "스탠다드 더블 (Standard Double)\n",
      "\n",
      "room_price :  31,325\n",
      ">> first element of name, area, price :  스탠다드 더블 (Standard Double)  31,325\n",
      "디럭스 트윈 (Deluxe Twins)\n",
      "\n",
      "room_price :  46,375\n",
      "Family Suite\n",
      "40m²\n",
      "room_price :  61,834\n",
      "2 Family Suite 40m² 61,834\n"
     ]
    }
   ],
   "source": [
    "# agoda details\n",
    "path = chromedriver_autoinstaller.install()\n",
    "driver = webdriver.Chrome(path)\n",
    "\n",
    "# URL = 'https://www.agoda.com/ko-kr/songdo-beach-hotel_2/hotel/busan-kr.html?finalPriceView=1'\\\n",
    "#    '&isShowMobileAppPrice=false&cid=1891463&numberOfBedrooms=&familyMode=false&adults=2'\\\n",
    "#    '&children=0&rooms=1&maxRooms=0&checkIn=2021-12-13&isCalendarCallout=false&childAges='\\\n",
    "#   '&numberOfGuest=0&missingChildAges=false&travellerType=1&showReviewSubmissionEntry=false&currencyCode=KRW'\\\n",
    "#   '&isFreeOccSearch=false&tag=45b17d1d-e0b0-fe2a-ce90-5513829d856b&isCityHaveAsq=false&los=1'\\\n",
    "#   '&searchrequestid=944a6911-399b-4661-a9b6-937b700c5100'\n",
    "\n",
    "# 유토피아 관광 호텔\n",
    "URL = 'https://www.agoda.com/ko-kr/utopia-tourist-hotel/hotel/busan-kr.html?finalPriceView=1&isShowMobileAppPrice=false&cid=1844104&numberOfBedrooms=&familyMode=false&adults=2&children=0&rooms=1&maxRooms=0&checkIn=2021-12-13&isCalendarCallout=false&childAges=&numberOfGuest=0&missingChildAges=false&travellerType=1&showReviewSubmissionEntry=false&currencyCode=KRW&isFreeOccSearch=false&isCityHaveAsq=false&tspTypes=3&los=1&searchrequestid=6a6be066-8ee0-4348-9403-bec50514db67'\n",
    "\n",
    "driver.get(URL)\n",
    "\n",
    "WebDriverWait(driver, 10).until(EC.presence_of_element_located((By.XPATH, \"/html/head/meta[11]\")))\n",
    "\n",
    "# latitude\n",
    "latitude = driver.find_element(By.XPATH, '/html/head/meta[11]').get_attribute('content')\n",
    "print(latitude)\n",
    "\n",
    "# longitude\n",
    "longitude = driver.find_element(By.XPATH, '/html/head/meta[12]').get_attribute('content')\n",
    "print(longitude)\n",
    "\n",
    "# address\n",
    "address = driver.find_element(By.XPATH, '/html/head/meta[13]').get_attribute('content')\n",
    "print(address)\n",
    "\n",
    "# hotel name\n",
    "name = driver.find_element(By.CLASS_NAME, 'HeaderCerebrum__Name').text\n",
    "print(name)\n",
    "\n",
    "kor_nm = cleansing(name, type='HOTEL')\n",
    "eng_nm = get_hotel_en(name)\n",
    "\n",
    "# similar 값이 True 이면 진행\n",
    "\n",
    "# 방들 목록 찾기 \n",
    "\n",
    "WebDriverWait(driver, 10).until(EC.presence_of_element_located((By.CLASS_NAME, \"PriceContainer\")))\n",
    "\n",
    "hotel_rooms = driver.find_elements(By.CLASS_NAME, 'MasterRoom')\n",
    "\n",
    "index = 1\n",
    "room_nm, room_area, room_price = get_room_info(hotel_rooms[0])\n",
    "print('>> first element of name, area, price : ', room_nm, room_area, room_price)\n",
    "if not room_area:\n",
    "    for idx, hotel_room in enumerate(hotel_rooms[1:]):\n",
    "        nm, area, price = get_room_info(hotel_room)\n",
    "        if area:\n",
    "            index = idx + 2\n",
    "            room_nm = nm\n",
    "            room_area = area\n",
    "            room_price = price\n",
    "            break\n",
    "\n",
    "print(index, room_nm, room_area, room_price)"
   ]
  },
  {
   "cell_type": "code",
   "execution_count": 80,
   "metadata": {},
   "outputs": [
    {
     "data": {
      "text/plain": [
       "False"
      ]
     },
     "execution_count": 80,
     "metadata": {},
     "output_type": "execute_result"
    }
   ],
   "source": [
    "'부산광역시' in '부산'"
   ]
  },
  {
   "cell_type": "code",
   "execution_count": 3,
   "metadata": {},
   "outputs": [],
   "source": [
    "def calc_weekend_price(price):\n",
    "    price = int(price.replace(',', '')) * 1.2\n",
    "    price = 'W{:,.2f}'.format(price)\n",
    "    return price"
   ]
  },
  {
   "cell_type": "code",
   "execution_count": 4,
   "metadata": {},
   "outputs": [],
   "source": [
    "def get_room_info(element):\n",
    "    # 방 이름\n",
    "    room_nm = element.find_element(By.CLASS_NAME, 'MasterRoom__HotelName').text\n",
    "    print(room_nm)\n",
    "\n",
    "    # 방 크기\n",
    "    room_area = ''\n",
    "    room_amenities = element.find_elements(By.CLASS_NAME, 'MasterRoom-amenitiesTitle')\n",
    "    for ra in room_amenities:\n",
    "        check_room_area = get_room_area(ra.find_element(By.TAG_NAME, 'div').get_attribute('innerHTML'))\n",
    "        if check_room_area:\n",
    "            room_area = check_room_area\n",
    "    print(room_area)\n",
    "\n",
    "\n",
    "    # 방 가격\n",
    "    try:\n",
    "        price_cont = element.find_element(By.CLASS_NAME, 'PriceContainer')\n",
    "        room_price = price_cont.find_element(By.CLASS_NAME, 'pd-price').text\n",
    "    except NoSuchElementException:\n",
    "        try:\n",
    "            price_cont = element.find_element(By.CLASS_NAME, 'cor-tooltip-wrapper')\n",
    "            room_price = price_cont.find_element(By.CLASS_NAME, 'Typographystyled__TypographyStyled-sc-j18mtu-0').text\n",
    "        except NoSuchElementException:\n",
    "            room_price = price_cont.find_element(By.CLASS_NAME, 'Typographystyled__TypographyStyled-sc-j18mtu-0').text\n",
    "    \n",
    "    room_price = room_price.replace('₩', '').lstrip()\n",
    "    print('room_price : ', room_price)\n",
    "    \n",
    "    return room_nm, room_area, room_price"
   ]
  },
  {
   "cell_type": "code",
   "execution_count": 64,
   "metadata": {
    "pycharm": {
     "name": "#%%\n"
    }
   },
   "outputs": [
    {
     "name": "stdout",
     "output_type": "stream",
     "text": [
      "NONE\n"
     ]
    }
   ],
   "source": [
    "test = None\n",
    "\n",
    "if test:\n",
    "    print('tes')\n",
    "else:\n",
    "    print('NONE')"
   ]
  },
  {
   "cell_type": "code",
   "execution_count": 5,
   "metadata": {
    "pycharm": {
     "name": "#%%\n"
    }
   },
   "outputs": [
    {
     "name": "stdout",
     "output_type": "stream",
     "text": [
      "2021-12-13\n",
      "2021-12-14\n"
     ]
    }
   ],
   "source": [
    "from datetime import timedelta, datetime\n",
    "\n",
    "\n",
    "def calc_date(text, mode=None):\n",
    "    days = timedelta(days=1)\n",
    "    convert_date = datetime.strptime(text, \"%Y-%m-%d\").date()\n",
    "    if mode:\n",
    "        convert_date = convert_date + timedelta(days=7)\n",
    "    in_date = convert_date.isoformat()\n",
    "    out_date = (convert_date + days).isoformat()\n",
    "    return in_date, out_date\n",
    "\n",
    "one, two = calc_date('2021-12-13')\n",
    "print(one)\n",
    "print(two)"
   ]
  },
  {
   "cell_type": "code",
   "execution_count": 6,
   "metadata": {
    "pycharm": {
     "name": "#%%\n"
    }
   },
   "outputs": [],
   "source": [
    "def get_room_area(text):\n",
    "    pattern = '\\d+m²'\n",
    "    text = re.search(pattern, text)\n",
    "    if text:\n",
    "        return text.group()\n",
    "    else:\n",
    "        return False"
   ]
  },
  {
   "cell_type": "code",
   "execution_count": 7,
   "metadata": {},
   "outputs": [],
   "source": [
    "def get_hotel_en(text):\n",
    "    pattern = '[\\(\\[].*?[\\)\\]]'\n",
    "    text = re.search(pattern, text)\n",
    "    text = text.group()\n",
    "    text = text.replace(')', '')\n",
    "    text = text.replace('(', '')\n",
    "\n",
    "    return text"
   ]
  },
  {
   "cell_type": "code",
   "execution_count": 8,
   "metadata": {
    "pycharm": {
     "name": "#%%\n"
    }
   },
   "outputs": [
    {
     "name": "stdout",
     "output_type": "stream",
     "text": [
      "(Brown Dot hotel Gwangalli Minlak)\n"
     ]
    }
   ],
   "source": [
    "# 영어 이름 뺴내오기 검사\n",
    "import re\n",
    "\n",
    "text = '브라운도트 호텔 광안리 민락점 (Brown Dot hotel Gwangalli Minlak)'\n",
    "pattern = '[\\(\\[].*?[\\)\\]]'\n",
    "text = re.search(pattern, text)\n",
    "print(text.group())"
   ]
  },
  {
   "cell_type": "code",
   "execution_count": 6,
   "metadata": {
    "pycharm": {
     "name": "#%%\n"
    }
   },
   "outputs": [
    {
     "ename": "TypeError",
     "evalue": "expected string or bytes-like object",
     "output_type": "error",
     "traceback": [
      "\u001b[1;31m---------------------------------------------------------------------------\u001b[0m",
      "\u001b[1;31mTypeError\u001b[0m                                 Traceback (most recent call last)",
      "\u001b[1;32mC:\\Users\\LEESOY~1\\AppData\\Local\\Temp/ipykernel_1128/1491875598.py\u001b[0m in \u001b[0;36m<module>\u001b[1;34m\u001b[0m\n\u001b[0;32m      1\u001b[0m \u001b[1;31m# text = '객실 크기: 27m²'\u001b[0m\u001b[1;33m\u001b[0m\u001b[1;33m\u001b[0m\u001b[1;33m\u001b[0m\u001b[0m\n\u001b[0;32m      2\u001b[0m \u001b[0mpattern\u001b[0m \u001b[1;33m=\u001b[0m \u001b[1;34m'\\d+m²'\u001b[0m\u001b[1;33m\u001b[0m\u001b[1;33m\u001b[0m\u001b[0m\n\u001b[1;32m----> 3\u001b[1;33m \u001b[0mtext\u001b[0m \u001b[1;33m=\u001b[0m \u001b[0mre\u001b[0m\u001b[1;33m.\u001b[0m\u001b[0msearch\u001b[0m\u001b[1;33m(\u001b[0m\u001b[0mpattern\u001b[0m\u001b[1;33m,\u001b[0m \u001b[0mtext\u001b[0m\u001b[1;33m)\u001b[0m\u001b[1;33m\u001b[0m\u001b[1;33m\u001b[0m\u001b[0m\n\u001b[0m\u001b[0;32m      4\u001b[0m \u001b[1;32mif\u001b[0m \u001b[0mtext\u001b[0m\u001b[1;33m:\u001b[0m\u001b[1;33m\u001b[0m\u001b[1;33m\u001b[0m\u001b[0m\n\u001b[0;32m      5\u001b[0m     \u001b[0mprint\u001b[0m\u001b[1;33m(\u001b[0m\u001b[0mtext\u001b[0m\u001b[1;33m.\u001b[0m\u001b[0mgroup\u001b[0m\u001b[1;33m(\u001b[0m\u001b[1;33m)\u001b[0m\u001b[1;33m)\u001b[0m\u001b[1;33m\u001b[0m\u001b[1;33m\u001b[0m\u001b[0m\n",
      "\u001b[1;32m~\\AppData\\Local\\Programs\\Python\\Python39\\lib\\re.py\u001b[0m in \u001b[0;36msearch\u001b[1;34m(pattern, string, flags)\u001b[0m\n\u001b[0;32m    199\u001b[0m     \"\"\"Scan through string looking for a match to the pattern, returning\n\u001b[0;32m    200\u001b[0m     a Match object, or None if no match was found.\"\"\"\n\u001b[1;32m--> 201\u001b[1;33m     \u001b[1;32mreturn\u001b[0m \u001b[0m_compile\u001b[0m\u001b[1;33m(\u001b[0m\u001b[0mpattern\u001b[0m\u001b[1;33m,\u001b[0m \u001b[0mflags\u001b[0m\u001b[1;33m)\u001b[0m\u001b[1;33m.\u001b[0m\u001b[0msearch\u001b[0m\u001b[1;33m(\u001b[0m\u001b[0mstring\u001b[0m\u001b[1;33m)\u001b[0m\u001b[1;33m\u001b[0m\u001b[1;33m\u001b[0m\u001b[0m\n\u001b[0m\u001b[0;32m    202\u001b[0m \u001b[1;33m\u001b[0m\u001b[0m\n\u001b[0;32m    203\u001b[0m \u001b[1;32mdef\u001b[0m \u001b[0msub\u001b[0m\u001b[1;33m(\u001b[0m\u001b[0mpattern\u001b[0m\u001b[1;33m,\u001b[0m \u001b[0mrepl\u001b[0m\u001b[1;33m,\u001b[0m \u001b[0mstring\u001b[0m\u001b[1;33m,\u001b[0m \u001b[0mcount\u001b[0m\u001b[1;33m=\u001b[0m\u001b[1;36m0\u001b[0m\u001b[1;33m,\u001b[0m \u001b[0mflags\u001b[0m\u001b[1;33m=\u001b[0m\u001b[1;36m0\u001b[0m\u001b[1;33m)\u001b[0m\u001b[1;33m:\u001b[0m\u001b[1;33m\u001b[0m\u001b[1;33m\u001b[0m\u001b[0m\n",
      "\u001b[1;31mTypeError\u001b[0m: expected string or bytes-like object"
     ]
    }
   ],
   "source": [
    "# text = '객실 크기: 27m²'\n",
    "pattern = '\\d+m²'\n",
    "text = re.search(pattern, text)\n",
    "if text:\n",
    "    print(text.group())"
   ]
  },
  {
   "cell_type": "code",
   "execution_count": 10,
   "metadata": {
    "pycharm": {
     "name": "#%%\n"
    },
    "scrolled": true
   },
   "outputs": [],
   "source": [
    "from haversine import haversine\n",
    "from difflib import SequenceMatcher\n",
    "\n",
    "\n",
    "def similar(a, b):\n",
    "    # a : origin, b : to compare; key: name, loc, latitude, longitude\n",
    "    print(\"a : {0}, \\n b: {1}\".format(a, b))\n",
    "    if check_distance(a['latitude'], a['longitude'], b['latitude'], b['longitude']):\n",
    "        if check_loc(a['loc'], b['loc']):\n",
    "            if check_name(a['name'], b['name']):\n",
    "                return True\n",
    "    return False\n",
    "\n",
    "\n",
    "def check_name(a, b):\n",
    "    # a : search keyword, b : search result name\n",
    "    res = SequenceMatcher(None, a, b).ratio()\n",
    "    print('>> Check name : ', res)\n",
    "    if res > 0.6:\n",
    "        return True\n",
    "    return False\n",
    "\n",
    "\n",
    "def check_distance(a_x, a_y, b_x, b_y):\n",
    "    origin = (float(a_x), float(a_y))\n",
    "    compare = (float(b_x), float(b_y))\n",
    "    try:\n",
    "        res = haversine(origin, compare, unit='km')\n",
    "        print('>> Check distance : ', res)\n",
    "        if res > 5.0:\n",
    "            return False\n",
    "    except TypeError:\n",
    "        return False\n",
    "    return True\n",
    "\n",
    "\n",
    "def check_loc(a, b):\n",
    "    print('>> Check location : ', a == b)\n",
    "    if a == b:\n",
    "        return True\n",
    "    return False"
   ]
  },
  {
   "cell_type": "code",
   "execution_count": 11,
   "metadata": {},
   "outputs": [],
   "source": [
    "def cleansing(text, type=None):\n",
    "\n",
    "    # (), [] 및 사이 단어들 제거\n",
    "    pattern = '[\\(\\[].*?[\\)\\]]'\n",
    "    text = re.sub(pattern, repl='', string=text)\n",
    "\n",
    "    if type == 'HOTEL':\n",
    "        return text.rstrip()\n",
    "\n",
    "    # 공백 제거\n",
    "    text = text.replace(\" \", \"\")\n",
    "\n",
    "    return text"
   ]
  },
  {
   "cell_type": "code",
   "execution_count": 11,
   "metadata": {
    "pycharm": {
     "name": "#%%\n"
    }
   },
   "outputs": [
    {
     "name": "stdout",
     "output_type": "stream",
     "text": [
      "부산광역시 서구 암남공원로 9\n"
     ]
    }
   ],
   "source": [
    "text = '부산광역시 서구 암남공원로 9 (암남동)'\n",
    "print(cleansing(text, type='HOTEL'))"
   ]
  },
  {
   "cell_type": "code",
   "execution_count": 71,
   "metadata": {
    "pycharm": {
     "name": "#%%\n"
    }
   },
   "outputs": [
    {
     "name": "stderr",
     "output_type": "stream",
     "text": [
      "C:\\Users\\foxgi\\AppData\\Local\\Temp/ipykernel_50728/2070683648.py:2: DeprecationWarning: executable_path has been deprecated, please pass in a Service object\n",
      "  driver = webdriver.Chrome(path)\n"
     ]
    }
   ],
   "source": [
    "path = chromedriver_autoinstaller.install()\n",
    "driver = webdriver.Chrome(path)\n",
    "\n",
    "# 부산 url\n",
    "url = 'https://www.agoda.com/ko-kr/search?guid=bf397690-2f46-488c-bcbd-cff9cffb2b17' \\\n",
    "      '&asq=u2qcKLxwzRU5NDuxJ0kOF3T91go8JoYYMxAgy8FkBH1BN0lGAtYH25sdXoy34qb9' \\\n",
    "      '%2BhzuLOrKzSr6JFEJ0k3mSyfy0007nWWyKbObtVe6S9McO%2F40GalFBfqxHkgpPRBg1f4tMtCkUOcG6AQSFmkuYt' \\\n",
    "      '%2ByDbhank09acW2V3PHXdWgz2CrV%2BniEOdBqQjmR%2FUT4vYBSd86EVFMQNW14nE%2FIg%3D%3D&' \\\n",
    "      'city=17172&tick=637740703793&txtuuid=bf397690-2f46-488c-bcbd-cff9cffb2b17&' \\\n",
    "      'locale=ko-kr&ckuid=b751e731-0680-4493-a511-cc53a607df65&prid=0&' \\\n",
    "      'currency=KRW&correlationId=35bf3988-5ba9-4180-ab23-9b3c567fe6f5&pageTypeId=1&' \\\n",
    "      'realLanguageId=9&languageId=9&origin=KR' \\\n",
    "      '&cid=-1&userId=b751e731-0680-4493-a511-cc53a607df65&whitelabelid=1&loginLvl=0&storefrontId=3&currencyId=26' \\\n",
    "      '&currencyCode=KRW&htmlLanguage=ko-kr&cultureInfoName=ko-kr&machineName=hk-crweb-2019&' \\\n",
    "      'trafficGroupId=4&sessionId=qd3vrdnhvdv5lf2vgfu1sdt2&trafficSubGroupId=4&aid=130243&useFullPageLogin=true&' \\\n",
    "      'cttp=4&isRealUser=true&mode=production&checkIn=2021-12-07&checkOut=2021-12-08&rooms=1&adults=2&children=0' \\\n",
    "      '&priceCur=KRW&los=1&textToSearch=%EB%B6%80%EC%82%B0&productType=-1&travellerType=1&familyMode=off'\n",
    "url = url.replace('2021-12-07', '2021-12-13')\n",
    "url = url.replace('2021-12-08', '2021-12-14')\n",
    "driver.get(url)\n",
    "\n",
    "WebDriverWait(driver, 10).until(EC.presence_of_element_located((By.CSS_SELECTOR, \"div.IconBox__child\")))\n",
    "# search_box = driver.find_element(By.XPATH, '/html/body/div[9]/div/div[1]/div[1]/div[1]/div/div/div[1]/div')\n",
    "# search_box.click()\n",
    "\n",
    "search_box = driver.find_element(By.XPATH, '/html/body/div[9]/div/div[1]/div[1]/div[2]/div[1]/div[5]/div/input')\n",
    "search_box.send_keys(\"아난티 힐튼 부산\", Keys.ENTER)\n",
    "\n",
    "\n"
   ]
  },
  {
   "cell_type": "code",
   "execution_count": 33,
   "metadata": {
    "scrolled": true
   },
   "outputs": [
    {
     "name": "stderr",
     "output_type": "stream",
     "text": [
      "C:\\Users\\LEESOY~1\\AppData\\Local\\Temp/ipykernel_19196/1183652974.py:11: DeprecationWarning: executable_path has been deprecated, please pass in a Service object\n",
      "  driver = webdriver.Chrome(path)\n"
     ]
    },
    {
     "name": "stdout",
     "output_type": "stream",
     "text": [
      "['https://www.agoda.com/ko-kr/ibis-styles-ambassador-seoul-yongsan/hotel/seoul-kr.html?finalPriceView=1&isShowMobileAppPrice=false&cid=1891463&numberOfBedrooms=&familyMode=false&adults=2&children=0&rooms=1&maxRooms=0&checkIn=2022-01-10&isCalendarCallout=false&childAges=&numberOfGuest=0&missingChildAges=false&travellerType=1&showReviewSubmissionEntry=false&currencyCode=KRW&isFreeOccSearch=false&tag=45b17d1d-e0b0-fe2a-ce90-5513829d856b&isCityHaveAsq=false&tspTypes=4,8&los=1&searchrequestid=b35be95a-c26a-47ab-851d-5237167d1e0c', 'https://www.agoda.com/ko-kr/ibis-styles-ambassador-seoul-myeongdong/hotel/seoul-kr.html?finalPriceView=1&isShowMobileAppPrice=false&cid=1891463&numberOfBedrooms=&familyMode=false&adults=2&children=0&rooms=1&maxRooms=0&checkIn=2022-01-10&isCalendarCallout=false&childAges=&numberOfGuest=0&missingChildAges=false&travellerType=1&showReviewSubmissionEntry=false&currencyCode=KRW&isFreeOccSearch=false&tag=45b17d1d-e0b0-fe2a-ce90-5513829d856b&isCityHaveAsq=false&tspTypes=7,6&los=1&searchrequestid=b35be95a-c26a-47ab-851d-5237167d1e0c', 'https://www.agoda.com/ko-kr/ibis-styles-ambassador-seoul-gangnam/hotel/seoul-kr.html?finalPriceView=1&isShowMobileAppPrice=false&cid=1891463&numberOfBedrooms=&familyMode=false&adults=2&children=0&rooms=1&maxRooms=0&checkIn=2022-01-10&isCalendarCallout=false&childAges=&numberOfGuest=0&missingChildAges=false&travellerType=1&showReviewSubmissionEntry=false&currencyCode=KRW&isFreeOccSearch=false&tag=45b17d1d-e0b0-fe2a-ce90-5513829d856b&isCityHaveAsq=false&tspTypes=3,8&los=1&searchrequestid=b35be95a-c26a-47ab-851d-5237167d1e0c']\n"
     ]
    }
   ],
   "source": [
    "import chromedriver_autoinstaller\n",
    "from selenium import webdriver\n",
    "from selenium.webdriver.support.wait import WebDriverWait\n",
    "import time\n",
    "import random\n",
    "from selenium.webdriver.common.by import By\n",
    "from selenium.webdriver.common.keys import Keys\n",
    "from selenium.webdriver.support import expected_conditions as EC\n",
    "\n",
    "path = chromedriver_autoinstaller.install()\n",
    "driver = webdriver.Chrome(path)\n",
    "\n",
    "url = 'https://www.agoda.com/ko-kr/search?city=14690&locale=ko-kr&ckuid=0d7e3337-8b84-40d6-8725-ed8fd616af1b&prid=0&currency=KRW&correlationId=1a1dec84-bd24-49c3-9b8a-97d0483eeb45&pageTypeId=103&realLanguageId=9&languageId=9&origin=KR&cid=1891463&tag=45b17d1d-e0b0-fe2a-ce90-5513829d856b&userId=0d7e3337-8b84-40d6-8725-ed8fd616af1b&whitelabelid=1&loginLvl=0&storefrontId=3&currencyId=26&currencyCode=KRW&htmlLanguage=ko-kr&cultureInfoName=ko-kr&machineName=hk-crweb-2008&trafficGroupId=5&sessionId=ecz1fu0hoqvlj430u5u3jdvg&trafficSubGroupId=122&aid=82361&useFullPageLogin=true&cttp=4&isRealUser=true&mode=production&checkIn=2022-01-10&checkOut=2022-01-11&rooms=1&adults=2&children=0&priceCur=KRW&los=1&textToSearch=%EC%84%9C%EC%9A%B8&travellerType=1&familyMode=off&hotelName=%EC%9D%B4%EB%B9%84%EC%8A%A4%20%EC%8A%A4%ED%83%80%EC%9D%BC%20%EC%95%B0%EB%B0%B0%EC%84%9C%EB%8D%94'\n",
    "\n",
    "driver.get(url)\n",
    "\n",
    "time.sleep(random.uniform(3, 6))\n",
    "\n",
    "WebDriverWait(driver, 10).until(EC.presence_of_element_located((By.CSS_SELECTOR, \"div.IconBox__child\")))\n",
    "# search_box = driver.find_element(By.XPATH, '/html/body/div[9]/div/div[1]/div[1]/div[1]/div/div/div[1]/div')\n",
    "# search_box.click()\n",
    "\n",
    "time.sleep(random.uniform(3, 6))\n",
    "\n",
    "# ol class #hotel-list-container\n",
    "\n",
    "search_hotel = driver.find_element(By.CLASS_NAME, 'hotel-list-container')\n",
    "\n",
    "time.sleep(random.uniform(3, 6))\n",
    "\n",
    "hotels = search_hotel.find_elements(By.CLASS_NAME, 'JacketContent')\n",
    "print([hotel.find_element(By.TAG_NAME, 'a').get_attribute('href') for hotel in hotels])\n",
    "\n",
    "# print([hotel.find_element(By.TAG_NAME, 'a').get_attribute('href') for hotel in hotels])\n"
   ]
  },
  {
   "cell_type": "code",
   "execution_count": 36,
   "metadata": {},
   "outputs": [
    {
     "name": "stderr",
     "output_type": "stream",
     "text": [
      "C:\\Users\\LEESOY~1\\AppData\\Local\\Temp/ipykernel_19196/1852683452.py:4: DeprecationWarning: executable_path has been deprecated, please pass in a Service object\n",
      "  driver = webdriver.Chrome(path)\n"
     ]
    },
    {
     "name": "stdout",
     "output_type": "stream",
     "text": [
      "37.48932217839304\n",
      "127.03013777732849\n"
     ]
    }
   ],
   "source": [
    "url = 'https://www.agoda.com/ko-kr/shilla-stay-seocho/hotel/seoul-kr.html?finalPriceView=1&isShowMobileAppPrice=false&cid=1891463&numberOfBedrooms=&familyMode=false&adults=2&children=0&rooms=1&maxRooms=0&checkIn=2022-01-10&isCalendarCallout=false&childAges=&numberOfGuest=0&missingChildAges=false&travellerType=1&showReviewSubmissionEntry=false&currencyCode=KRW&isFreeOccSearch=false&tag=45b17d1d-e0b0-fe2a-ce90-5513829d856b&isCityHaveAsq=false&tspTypes=7,6&los=1&searchrequestid=23ad8f48-b3fa-4a62-8a30-358dfce88ef6'\n",
    "\n",
    "path = chromedriver_autoinstaller.install()\n",
    "driver = webdriver.Chrome(path)\n",
    "\n",
    "driver.get(url)\n",
    "\n",
    "\n",
    "WebDriverWait(driver, 10).until(EC.presence_of_element_located((By.XPATH, \"/html/head/meta[11]\")))\n",
    "\n",
    "# latitude\n",
    "latitude = driver.find_element(By.XPATH, '/html/head/meta[11]').get_attribute('content')\n",
    "print(latitude)\n",
    "\n",
    "# longitude\n",
    "longitude = driver.find_element(By.XPATH, '/html/head/meta[12]').get_attribute('content')\n",
    "print(longitude)"
   ]
  }
 ],
 "metadata": {
  "kernelspec": {
   "display_name": "Python 3 (ipykernel)",
   "language": "python",
   "name": "python3"
  },
  "language_info": {
   "codemirror_mode": {
    "name": "ipython",
    "version": 3
   },
   "file_extension": ".py",
   "mimetype": "text/x-python",
   "name": "python",
   "nbconvert_exporter": "python",
   "pygments_lexer": "ipython3",
   "version": "3.9.5"
  }
 },
 "nbformat": 4,
 "nbformat_minor": 1
}
