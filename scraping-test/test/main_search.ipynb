{
 "cells": [
  {
   "cell_type": "code",
   "execution_count": 1,
   "id": "8d1c595f",
   "metadata": {},
   "outputs": [],
   "source": [
    "from selenium import webdriver\n",
    "import pandas as pd\n",
    "from bs4 import BeautifulSoup\n",
    "from tqdm import tqdm\n",
    "import time\n",
    "import random\n",
    "from numpy import dot\n",
    "import requests\n",
    "import json\n",
    "import difflib\n",
    "import sys\n",
    "from numpy.linalg import norm\n",
    "import numpy as np\n",
    "import chromedriver_autoinstaller\n",
    "import re\n",
    "from selenium.webdriver.common.by import By\n",
    "from selenium.webdriver.common.keys import Keys\n",
    "tqdm.pandas()"
   ]
  },
  {
   "cell_type": "code",
   "execution_count": 2,
   "id": "7bb96067",
   "metadata": {
    "scrolled": false
   },
   "outputs": [
    {
     "name": "stderr",
     "output_type": "stream",
     "text": [
      "C:\\Users\\foxgi\\AppData\\Local\\Temp/ipykernel_47660/2253652889.py:2: DeprecationWarning: executable_path has been deprecated, please pass in a Service object\n",
      "  driver = webdriver.Chrome(path)\n",
      "C:\\Users\\foxgi\\AppData\\Local\\Temp/ipykernel_47660/2253652889.py:8: DeprecationWarning: find_element_by_* commands are deprecated. Please use find_element() instead\n",
      "  driver.find_element_by_class_name(\"domestic_hotel\").click()\n",
      "C:\\Users\\foxgi\\AppData\\Local\\Temp/ipykernel_47660/2253652889.py:13: DeprecationWarning: find_element_by_* commands are deprecated. Please use find_element() instead\n",
      "  driver.find_element_by_id(\"txt_city\").send_keys(\"속초\")\n",
      "C:\\Users\\foxgi\\AppData\\Local\\Temp/ipykernel_47660/2253652889.py:14: DeprecationWarning: find_element_by_* commands are deprecated. Please use find_element() instead\n",
      "  driver.find_element_by_xpath(\"/html/body/div[3]/div[1]/div/div/div[6]/div/ul/li/a\").click()\n",
      "C:\\Users\\foxgi\\AppData\\Local\\Temp/ipykernel_47660/2253652889.py:21: DeprecationWarning: find_element_by_* commands are deprecated. Please use find_element() instead\n",
      "  driver.find_element_by_xpath(\"//td[@title='2021-12-23']\").click()\n"
     ]
    },
    {
     "ename": "NoSuchWindowException",
     "evalue": "Message: no such window: target window already closed\nfrom unknown error: web view not found\n  (Session info: chrome=95.0.4638.69)\nStacktrace:\nBacktrace:\n\tOrdinal0 [0x00C839D3+2505171]\n\tOrdinal0 [0x00C1AE61+2076257]\n\tOrdinal0 [0x00B22498+1057944]\n\tOrdinal0 [0x00B0BE96+966294]\n\tOrdinal0 [0x00B67F19+1343257]\n\tOrdinal0 [0x00B748C2+1394882]\n\tOrdinal0 [0x00B658BB+1333435]\n\tOrdinal0 [0x00B423E4+1188836]\n\tOrdinal0 [0x00B4323F+1192511]\n\tGetHandleVerifier [0x00E0CA56+1554566]\n\tGetHandleVerifier [0x00EB4B9C+2243020]\n\tGetHandleVerifier [0x00D10D2B+523099]\n\tGetHandleVerifier [0x00D0FDD0+519168]\n\tOrdinal0 [0x00C2031D+2097949]\n\tOrdinal0 [0x00C243A8+2114472]\n\tOrdinal0 [0x00C244E2+2114786]\n\tOrdinal0 [0x00C2E061+2154593]\n\tBaseThreadInitThunk [0x777DFA29+25]\n\tRtlGetAppContainerNamedObjectPath [0x77E57A9E+286]\n\tRtlGetAppContainerNamedObjectPath [0x77E57A6E+238]\n",
     "output_type": "error",
     "traceback": [
      "\u001B[1;31m---------------------------------------------------------------------------\u001B[0m",
      "\u001B[1;31mNoSuchWindowException\u001B[0m                     Traceback (most recent call last)",
      "\u001B[1;32m~\\AppData\\Local\\Temp/ipykernel_47660/2253652889.py\u001B[0m in \u001B[0;36m<module>\u001B[1;34m\u001B[0m\n\u001B[0;32m     19\u001B[0m \u001B[1;31m# check_in = driver.find_element_by_xpath(\"/html/body/div[3]/div[1]/div/div/div[2]/div[1]/div[2]/a/span[1]/span[1]\")\u001B[0m\u001B[1;33m\u001B[0m\u001B[1;33m\u001B[0m\u001B[1;33m\u001B[0m\u001B[0m\n\u001B[0;32m     20\u001B[0m \u001B[1;31m# driver.execute_script(\"arguments[0].innerText='2021-12-22'\", check_in)\u001B[0m\u001B[1;33m\u001B[0m\u001B[1;33m\u001B[0m\u001B[1;33m\u001B[0m\u001B[0m\n\u001B[1;32m---> 21\u001B[1;33m \u001B[0mdriver\u001B[0m\u001B[1;33m.\u001B[0m\u001B[0mfind_element_by_xpath\u001B[0m\u001B[1;33m(\u001B[0m\u001B[1;34m\"//td[@title='2021-12-23']\"\u001B[0m\u001B[1;33m)\u001B[0m\u001B[1;33m.\u001B[0m\u001B[0mclick\u001B[0m\u001B[1;33m(\u001B[0m\u001B[1;33m)\u001B[0m\u001B[1;33m\u001B[0m\u001B[1;33m\u001B[0m\u001B[0m\n\u001B[0m\u001B[0;32m     22\u001B[0m \u001B[1;33m\u001B[0m\u001B[0m\n\u001B[0;32m     23\u001B[0m \u001B[0mtime\u001B[0m\u001B[1;33m.\u001B[0m\u001B[0msleep\u001B[0m\u001B[1;33m(\u001B[0m\u001B[0mrandom\u001B[0m\u001B[1;33m.\u001B[0m\u001B[0muniform\u001B[0m\u001B[1;33m(\u001B[0m\u001B[1;36m2\u001B[0m\u001B[1;33m,\u001B[0m \u001B[1;36m4\u001B[0m\u001B[1;33m)\u001B[0m\u001B[1;33m)\u001B[0m\u001B[1;33m\u001B[0m\u001B[1;33m\u001B[0m\u001B[0m\n",
      "\u001B[1;32m~\\OneDrive\\project\\scraping_test\\venv\\lib\\site-packages\\selenium\\webdriver\\remote\\webdriver.py\u001B[0m in \u001B[0;36mfind_element_by_xpath\u001B[1;34m(self, xpath)\u001B[0m\n\u001B[0;32m    518\u001B[0m             \u001B[0mstacklevel\u001B[0m\u001B[1;33m=\u001B[0m\u001B[1;36m2\u001B[0m\u001B[1;33m,\u001B[0m\u001B[1;33m\u001B[0m\u001B[1;33m\u001B[0m\u001B[0m\n\u001B[0;32m    519\u001B[0m         )\n\u001B[1;32m--> 520\u001B[1;33m         \u001B[1;32mreturn\u001B[0m \u001B[0mself\u001B[0m\u001B[1;33m.\u001B[0m\u001B[0mfind_element\u001B[0m\u001B[1;33m(\u001B[0m\u001B[0mby\u001B[0m\u001B[1;33m=\u001B[0m\u001B[0mBy\u001B[0m\u001B[1;33m.\u001B[0m\u001B[0mXPATH\u001B[0m\u001B[1;33m,\u001B[0m \u001B[0mvalue\u001B[0m\u001B[1;33m=\u001B[0m\u001B[0mxpath\u001B[0m\u001B[1;33m)\u001B[0m\u001B[1;33m\u001B[0m\u001B[1;33m\u001B[0m\u001B[0m\n\u001B[0m\u001B[0;32m    521\u001B[0m \u001B[1;33m\u001B[0m\u001B[0m\n\u001B[0;32m    522\u001B[0m     \u001B[1;32mdef\u001B[0m \u001B[0mfind_elements_by_xpath\u001B[0m\u001B[1;33m(\u001B[0m\u001B[0mself\u001B[0m\u001B[1;33m,\u001B[0m \u001B[0mxpath\u001B[0m\u001B[1;33m)\u001B[0m \u001B[1;33m->\u001B[0m \u001B[0mWebElement\u001B[0m\u001B[1;33m:\u001B[0m\u001B[1;33m\u001B[0m\u001B[1;33m\u001B[0m\u001B[0m\n",
      "\u001B[1;32m~\\OneDrive\\project\\scraping_test\\venv\\lib\\site-packages\\selenium\\webdriver\\remote\\webdriver.py\u001B[0m in \u001B[0;36mfind_element\u001B[1;34m(self, by, value)\u001B[0m\n\u001B[0;32m   1242\u001B[0m             \u001B[0mvalue\u001B[0m \u001B[1;33m=\u001B[0m \u001B[1;34m'[name=\"%s\"]'\u001B[0m \u001B[1;33m%\u001B[0m \u001B[0mvalue\u001B[0m\u001B[1;33m\u001B[0m\u001B[1;33m\u001B[0m\u001B[0m\n\u001B[0;32m   1243\u001B[0m \u001B[1;33m\u001B[0m\u001B[0m\n\u001B[1;32m-> 1244\u001B[1;33m         return self.execute(Command.FIND_ELEMENT, {\n\u001B[0m\u001B[0;32m   1245\u001B[0m             \u001B[1;34m'using'\u001B[0m\u001B[1;33m:\u001B[0m \u001B[0mby\u001B[0m\u001B[1;33m,\u001B[0m\u001B[1;33m\u001B[0m\u001B[1;33m\u001B[0m\u001B[0m\n\u001B[0;32m   1246\u001B[0m             'value': value})['value']\n",
      "\u001B[1;32m~\\OneDrive\\project\\scraping_test\\venv\\lib\\site-packages\\selenium\\webdriver\\remote\\webdriver.py\u001B[0m in \u001B[0;36mexecute\u001B[1;34m(self, driver_command, params)\u001B[0m\n\u001B[0;32m    422\u001B[0m         \u001B[0mresponse\u001B[0m \u001B[1;33m=\u001B[0m \u001B[0mself\u001B[0m\u001B[1;33m.\u001B[0m\u001B[0mcommand_executor\u001B[0m\u001B[1;33m.\u001B[0m\u001B[0mexecute\u001B[0m\u001B[1;33m(\u001B[0m\u001B[0mdriver_command\u001B[0m\u001B[1;33m,\u001B[0m \u001B[0mparams\u001B[0m\u001B[1;33m)\u001B[0m\u001B[1;33m\u001B[0m\u001B[1;33m\u001B[0m\u001B[0m\n\u001B[0;32m    423\u001B[0m         \u001B[1;32mif\u001B[0m \u001B[0mresponse\u001B[0m\u001B[1;33m:\u001B[0m\u001B[1;33m\u001B[0m\u001B[1;33m\u001B[0m\u001B[0m\n\u001B[1;32m--> 424\u001B[1;33m             \u001B[0mself\u001B[0m\u001B[1;33m.\u001B[0m\u001B[0merror_handler\u001B[0m\u001B[1;33m.\u001B[0m\u001B[0mcheck_response\u001B[0m\u001B[1;33m(\u001B[0m\u001B[0mresponse\u001B[0m\u001B[1;33m)\u001B[0m\u001B[1;33m\u001B[0m\u001B[1;33m\u001B[0m\u001B[0m\n\u001B[0m\u001B[0;32m    425\u001B[0m             response['value'] = self._unwrap_value(\n\u001B[0;32m    426\u001B[0m                 response.get('value', None))\n",
      "\u001B[1;32m~\\OneDrive\\project\\scraping_test\\venv\\lib\\site-packages\\selenium\\webdriver\\remote\\errorhandler.py\u001B[0m in \u001B[0;36mcheck_response\u001B[1;34m(self, response)\u001B[0m\n\u001B[0;32m    245\u001B[0m                 \u001B[0malert_text\u001B[0m \u001B[1;33m=\u001B[0m \u001B[0mvalue\u001B[0m\u001B[1;33m[\u001B[0m\u001B[1;34m'alert'\u001B[0m\u001B[1;33m]\u001B[0m\u001B[1;33m.\u001B[0m\u001B[0mget\u001B[0m\u001B[1;33m(\u001B[0m\u001B[1;34m'text'\u001B[0m\u001B[1;33m)\u001B[0m\u001B[1;33m\u001B[0m\u001B[1;33m\u001B[0m\u001B[0m\n\u001B[0;32m    246\u001B[0m             \u001B[1;32mraise\u001B[0m \u001B[0mexception_class\u001B[0m\u001B[1;33m(\u001B[0m\u001B[0mmessage\u001B[0m\u001B[1;33m,\u001B[0m \u001B[0mscreen\u001B[0m\u001B[1;33m,\u001B[0m \u001B[0mstacktrace\u001B[0m\u001B[1;33m,\u001B[0m \u001B[0malert_text\u001B[0m\u001B[1;33m)\u001B[0m  \u001B[1;31m# type: ignore[call-arg]  # mypy is not smart enough here\u001B[0m\u001B[1;33m\u001B[0m\u001B[1;33m\u001B[0m\u001B[0m\n\u001B[1;32m--> 247\u001B[1;33m         \u001B[1;32mraise\u001B[0m \u001B[0mexception_class\u001B[0m\u001B[1;33m(\u001B[0m\u001B[0mmessage\u001B[0m\u001B[1;33m,\u001B[0m \u001B[0mscreen\u001B[0m\u001B[1;33m,\u001B[0m \u001B[0mstacktrace\u001B[0m\u001B[1;33m)\u001B[0m\u001B[1;33m\u001B[0m\u001B[1;33m\u001B[0m\u001B[0m\n\u001B[0m\u001B[0;32m    248\u001B[0m \u001B[1;33m\u001B[0m\u001B[0m\n\u001B[0;32m    249\u001B[0m     \u001B[1;32mdef\u001B[0m \u001B[0m_value_or_default\u001B[0m\u001B[1;33m(\u001B[0m\u001B[0mself\u001B[0m\u001B[1;33m,\u001B[0m \u001B[0mobj\u001B[0m\u001B[1;33m:\u001B[0m \u001B[0mMapping\u001B[0m\u001B[1;33m[\u001B[0m\u001B[0m_KT\u001B[0m\u001B[1;33m,\u001B[0m \u001B[0m_VT\u001B[0m\u001B[1;33m]\u001B[0m\u001B[1;33m,\u001B[0m \u001B[0mkey\u001B[0m\u001B[1;33m:\u001B[0m \u001B[0m_KT\u001B[0m\u001B[1;33m,\u001B[0m \u001B[0mdefault\u001B[0m\u001B[1;33m:\u001B[0m \u001B[0m_VT\u001B[0m\u001B[1;33m)\u001B[0m \u001B[1;33m->\u001B[0m \u001B[0m_VT\u001B[0m\u001B[1;33m:\u001B[0m\u001B[1;33m\u001B[0m\u001B[1;33m\u001B[0m\u001B[0m\n",
      "\u001B[1;31mNoSuchWindowException\u001B[0m: Message: no such window: target window already closed\nfrom unknown error: web view not found\n  (Session info: chrome=95.0.4638.69)\nStacktrace:\nBacktrace:\n\tOrdinal0 [0x00C839D3+2505171]\n\tOrdinal0 [0x00C1AE61+2076257]\n\tOrdinal0 [0x00B22498+1057944]\n\tOrdinal0 [0x00B0BE96+966294]\n\tOrdinal0 [0x00B67F19+1343257]\n\tOrdinal0 [0x00B748C2+1394882]\n\tOrdinal0 [0x00B658BB+1333435]\n\tOrdinal0 [0x00B423E4+1188836]\n\tOrdinal0 [0x00B4323F+1192511]\n\tGetHandleVerifier [0x00E0CA56+1554566]\n\tGetHandleVerifier [0x00EB4B9C+2243020]\n\tGetHandleVerifier [0x00D10D2B+523099]\n\tGetHandleVerifier [0x00D0FDD0+519168]\n\tOrdinal0 [0x00C2031D+2097949]\n\tOrdinal0 [0x00C243A8+2114472]\n\tOrdinal0 [0x00C244E2+2114786]\n\tOrdinal0 [0x00C2E061+2154593]\n\tBaseThreadInitThunk [0x777DFA29+25]\n\tRtlGetAppContainerNamedObjectPath [0x77E57A9E+286]\n\tRtlGetAppContainerNamedObjectPath [0x77E57A6E+238]\n"
     ]
    }
   ],
   "source": [
    "path = chromedriver_autoinstaller.install() # 크롬 드라이버 install\n",
    "driver = webdriver.Chrome(path) \n",
    "\n",
    "# 호텔 서치\n",
    "driver.get('https://www.modetour.com/Livebooking/Hotel3/Main.aspx?MLoc=02')\n",
    "\n",
    "# 국내호텔 선택\n",
    "driver.find_element_by_class_name(\"domestic_hotel\").click()\n",
    "\n",
    "time.sleep(random.uniform(2, 4)) \n",
    "\n",
    "# 도시명 입력\n",
    "driver.find_element_by_id(\"txt_city\").send_keys(\"속초\")\n",
    "driver.find_element_by_xpath(\"/html/body/div[3]/div[1]/div/div/div[6]/div/ul/li/a\").click()\n",
    "\n",
    "time.sleep(random.uniform(2, 4))\n",
    "\n",
    "# 날짜 지정\n",
    "# check_in = driver.find_element_by_xpath(\"/html/body/div[3]/div[1]/div/div/div[2]/div[1]/div[2]/a/span[1]/span[1]\")\n",
    "# driver.execute_script(\"arguments[0].innerText='2021-12-22'\", check_in)\n",
    "driver.find_element_by_xpath(\"//td[@title='2021-12-23']\").click()\n",
    "\n",
    "time.sleep(random.uniform(2, 4))\n",
    "\n",
    "# check_out = driver.find_element_by_xpath(\"/html/body/div[3]/div[1]/div/div/div[2]/div[1]/div[2]/a/span[1]/span[2]\")\n",
    "# driver.execute_script(\"arguments[0].innerText='2021-12-24'\", check_out)  # 추후 날짜 계산 +2일로 알아서 하게끔 처리\n",
    "driver.find_element_by_xpath(\"//td[@title='2021-12-25']\").click()\n",
    "\n",
    "time.sleep(random.uniform(2, 4))\n",
    "\n",
    "# 검색 버튼 누르기\n",
    "driver.find_element_by_xpath(\"/html/body/div[3]/div[1]/div/div/div[2]/div[2]/button\").click()\n",
    "\n",
    "time.sleep(random.uniform(2, 4))\n",
    "\n",
    "# 상세검색 > 호텔 검색\n",
    "hotel_search_text = driver.find_element_by_xpath(\"/html/body/div[3]/div[4]/div[1]/div[1]/div[2]/div[1]/form/div/div/label/input\")\n",
    "driver.execute_script(\"arguments[0].innerText='롯데리조트'\", hotel_search_text)\n",
    "driver.send_keys(Keys.ENTER)\n"
   ]
  }
 ],
 "metadata": {
  "kernelspec": {
   "name": "pycharm-aa66efb1",
   "language": "python",
   "display_name": "PyCharm (hotel)"
  },
  "language_info": {
   "codemirror_mode": {
    "name": "ipython",
    "version": 3
   },
   "file_extension": ".py",
   "mimetype": "text/x-python",
   "name": "python",
   "nbconvert_exporter": "python",
   "pygments_lexer": "ipython3",
   "version": "3.9.5"
  }
 },
 "nbformat": 4,
 "nbformat_minor": 5
}