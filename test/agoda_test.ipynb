{
 "cells": [
  {
   "cell_type": "code",
   "execution_count": 43,
   "metadata": {
    "collapsed": true
   },
   "outputs": [
    {
     "ename": "ImportError",
     "evalue": "cannot import name 'get_room_area' from 'src.data_utils' (C:\\Users\\foxgi\\OneDrive\\project\\scraping_test\\src\\data_utils.py)",
     "output_type": "error",
     "traceback": [
      "\u001B[1;31m---------------------------------------------------------------------------\u001B[0m",
      "\u001B[1;31mImportError\u001B[0m                               Traceback (most recent call last)",
      "\u001B[1;32m~\\AppData\\Local\\Temp/ipykernel_50728/3524732129.py\u001B[0m in \u001B[0;36m<module>\u001B[1;34m\u001B[0m\n\u001B[0;32m     19\u001B[0m \u001B[1;32mfrom\u001B[0m \u001B[0mselenium\u001B[0m\u001B[1;33m.\u001B[0m\u001B[0mwebdriver\u001B[0m\u001B[1;33m.\u001B[0m\u001B[0mcommon\u001B[0m\u001B[1;33m.\u001B[0m\u001B[0mby\u001B[0m \u001B[1;32mimport\u001B[0m \u001B[0mBy\u001B[0m\u001B[1;33m\u001B[0m\u001B[1;33m\u001B[0m\u001B[0m\n\u001B[0;32m     20\u001B[0m \u001B[1;32mfrom\u001B[0m \u001B[0mselenium\u001B[0m\u001B[1;33m.\u001B[0m\u001B[0mwebdriver\u001B[0m\u001B[1;33m.\u001B[0m\u001B[0mcommon\u001B[0m\u001B[1;33m.\u001B[0m\u001B[0mkeys\u001B[0m \u001B[1;32mimport\u001B[0m \u001B[0mKeys\u001B[0m\u001B[1;33m\u001B[0m\u001B[1;33m\u001B[0m\u001B[0m\n\u001B[1;32m---> 21\u001B[1;33m \u001B[1;32mfrom\u001B[0m \u001B[0msrc\u001B[0m\u001B[1;33m.\u001B[0m\u001B[0mdata_utils\u001B[0m \u001B[1;32mimport\u001B[0m \u001B[0mcleansing\u001B[0m\u001B[1;33m,\u001B[0m \u001B[0mget_hotel_en\u001B[0m\u001B[1;33m,\u001B[0m \u001B[0msimilar\u001B[0m\u001B[1;33m,\u001B[0m \u001B[0mget_room_area\u001B[0m\u001B[1;33m\u001B[0m\u001B[1;33m\u001B[0m\u001B[0m\n\u001B[0m\u001B[0;32m     22\u001B[0m \u001B[0mtqdm\u001B[0m\u001B[1;33m.\u001B[0m\u001B[0mpandas\u001B[0m\u001B[1;33m(\u001B[0m\u001B[1;33m)\u001B[0m\u001B[1;33m\u001B[0m\u001B[1;33m\u001B[0m\u001B[0m\n\u001B[0;32m     23\u001B[0m \u001B[1;33m\u001B[0m\u001B[0m\n",
      "\u001B[1;31mImportError\u001B[0m: cannot import name 'get_room_area' from 'src.data_utils' (C:\\Users\\foxgi\\OneDrive\\project\\scraping_test\\src\\data_utils.py)"
     ]
    }
   ],
   "source": [
    "\n",
    "from selenium import webdriver\n",
    "import pandas as pd\n",
    "from bs4 import BeautifulSoup\n",
    "from selenium.common.exceptions import NoSuchElementException, TimeoutException\n",
    "from selenium.webdriver.support.wait import WebDriverWait\n",
    "from selenium.webdriver.support import expected_conditions as EC\n",
    "from tqdm import tqdm\n",
    "import chromedriver_autoinstaller\n",
    "import time\n",
    "import random\n",
    "from numpy import dot\n",
    "import requests\n",
    "import json\n",
    "import difflib\n",
    "import sys\n",
    "from numpy.linalg import norm\n",
    "import numpy as np\n",
    "import re\n",
    "from selenium.webdriver.common.by import By\n",
    "from selenium.webdriver.common.keys import Keys\n",
    "from src.data_utils import cleansing, get_hotel_en, similar, get_room_area\n",
    "tqdm.pandas()\n"
   ]
  },
  {
   "cell_type": "code",
   "execution_count": 4,
   "outputs": [
    {
     "name": "stderr",
     "output_type": "stream",
     "text": [
      "C:\\Users\\foxgi\\AppData\\Local\\Temp/ipykernel_50728/4060819270.py:2: DeprecationWarning: executable_path has been deprecated, please pass in a Service object\n",
      "  driver = webdriver.Chrome(path)\n"
     ]
    },
    {
     "name": "stdout",
     "output_type": "stream",
     "text": [
      "https://www.agoda.comhttps://www.agoda.com/ko-kr/songdo-beach-hotel_2/hotel/busan-kr.html?finalPriceView=1&isShowMobileAppPrice=false&cid=1891463&numberOfBedrooms=&familyMode=false&adults=2&children=0&rooms=1&maxRooms=0&checkIn=2021-12-13&isCalendarCallout=false&childAges=&numberOfGuest=0&missingChildAges=false&travellerType=1&showReviewSubmissionEntry=false&currencyCode=KRW&isFreeOccSearch=false&tag=45b17d1d-e0b0-fe2a-ce90-5513829d856b&isCityHaveAsq=false&los=1&searchrequestid=944a6911-399b-4661-a9b6-937b700c5100\n"
     ]
    }
   ],
   "source": [
    "path = chromedriver_autoinstaller.install() # 크롬 드라이버 install\n",
    "driver = webdriver.Chrome(path)\n",
    "\n",
    "# 호텔 서치\n",
    "driver.get('https://www.agoda.com/ko-kr/search?guid=c0f65e50-7e04-4146-a5e0-9f1cde75827c&hotel=10580060'\n",
    "           '&selectedproperty=10580060&asq=kw7ycJuLx0pqYJtiutQIlpufa9Vwpz6XltTHq4n%2B9gNeVdXm8A0i72m15emY'\n",
    "           '%2FhLA0Ie9xH4KTMU6FDHxmO8AwqpyZXPQnOtpcmmoYV0xtxJnE1luFNyeyetLe5%2FgqPsUFMRs%2BeNK0Q2KZGcQYBN3FYRv8tx7u5Iw'\n",
    "           '%2BNjDF2wMvW8KkDMnL4g9wiFkiVcKUPLKcT67VLuGx6VeshlFVnbDSKr9lp8Yp5Dbi2gmvELP5VB'\n",
    "           '%2FaxdITZS96uiIM2HB2oEvfSfiSk0P2hTpgqJRxd62HBWSzqLmjLziHna4Qgc9hUY%3D&tick=637740475228&locale=ko-kr'\n",
    "           '&ckuid=e5e0f971-b737-460e-a429-0e88a809b971&prid=0&gclid=Cj0KCQiA15yNBhDTARIsAGnwe0WpHEvoonTnJhq02LSOTyufNJf2CcP4dwGLvUQhFDMF4v889l0AlHMaAl-KEALw_wcB'\n",
    "           '&currency=KRW&correlationId=17fa777a-d6a3-4e4e-8167-6845b728d80a&pageTypeId=1&realLanguageId=9&languageId=9'\n",
    "           '&origin=KR&cid=1891463&tag=45b17d1d-e0b0-fe2a-ce90-5513829d856b&userId=e5e0f971-b737-460e-a429-0e88a809b971'\n",
    "           '&whitelabelid=1&loginLvl=0&storefrontId=3&currencyId=26&currencyCode=KRW&htmlLanguage=ko-kr&cultureInfoName=ko-kr'\n",
    "           '&machineName=hk-crweb-2025&trafficGroupId=5&sessionId=uxvxqixldfgbcjfgnzr4exwh&trafficSubGroupId=122&aid=82361'\n",
    "           '&useFullPageLogin=true&cttp=4&isRealUser=true&mode=production&rooms=1&adults=2&children=0&priceCur=KRW&los=1'\n",
    "           '&travellerType=1&familyMode=off&productType=-1&checkIn=2021-12-13&checkOut=2021-12-14&textToSearch=송도비치관광호텔')\n",
    "\n",
    "time.sleep(random.uniform(3, 5))\n",
    "\n",
    "# ol class #hotel-list-container\n",
    "\n",
    "search_hotel = driver.find_element(By.CLASS_NAME, 'hotel-list-container')\n",
    "first_hotel = search_hotel.find_element(By.TAG_NAME, 'li')\n",
    "\n",
    "first_hotel_url = first_hotel.find_element(By.TAG_NAME, 'a').get_attribute('href')\n",
    "print(first_hotel_url)"
   ],
   "metadata": {
    "collapsed": false,
    "pycharm": {
     "name": "#%%\n"
    }
   }
  },
  {
   "cell_type": "code",
   "execution_count": 80,
   "outputs": [
    {
     "name": "stderr",
     "output_type": "stream",
     "text": [
      "C:\\Users\\foxgi\\AppData\\Local\\Temp/ipykernel_50728/3400647391.py:3: DeprecationWarning: executable_path has been deprecated, please pass in a Service object\n",
      "  driver = webdriver.Chrome(path)\n"
     ]
    },
    {
     "name": "stdout",
     "output_type": "stream",
     "text": [
      "35.18585968017578\n",
      "129.10690307617188\n",
      "161, Gwajeong-ro, Yeonje-gu\n",
      "더 킹 호텔 (The King Hotel)\n",
      "Junior Suite\n",
      "80m²\n",
      "135,855\n"
     ]
    }
   ],
   "source": [
    "# agoda details\n",
    "path = chromedriver_autoinstaller.install()\n",
    "driver = webdriver.Chrome(path)\n",
    "\n",
    "# URL = 'https://www.agoda.com/ko-kr/songdo-beach-hotel_2/hotel/busan-kr.html?finalPriceView=1'\\\n",
    "#    '&isShowMobileAppPrice=false&cid=1891463&numberOfBedrooms=&familyMode=false&adults=2'\\\n",
    "#    '&children=0&rooms=1&maxRooms=0&checkIn=2021-12-13&isCalendarCallout=false&childAges='\\\n",
    "#   '&numberOfGuest=0&missingChildAges=false&travellerType=1&showReviewSubmissionEntry=false&currencyCode=KRW'\\\n",
    "#   '&isFreeOccSearch=false&tag=45b17d1d-e0b0-fe2a-ce90-5513829d856b&isCityHaveAsq=false&los=1'\\\n",
    "#   '&searchrequestid=944a6911-399b-4661-a9b6-937b700c5100'\n",
    "\n",
    "URL = 'https://www.agoda.com/ko-kr/the-king-hotel/hotel/all/busan-kr.html?finalPriceView=1&isShowMobileAppPrice=false&cid=-142&numberOfBedrooms=&familyMode=false&adults=2&children=0&rooms=1&maxRooms=0&checkIn=2021-12-13&isCalendarCallout=false&childAges=&numberOfGuest=0&missingChildAges=false&travellerType=1&showReviewSubmissionEntry=false&currencyCode=KRW&isFreeOccSearch=false&isCityHaveAsq=false&los=1&searchrequestid=5b827e13-212f-4e99-ad6e-401189e2b71b'\n",
    "\n",
    "driver.get(URL)\n",
    "\n",
    "WebDriverWait(driver, 10).until(EC.presence_of_element_located((By.XPATH, \"/html/head/meta[11]\")))\n",
    "\n",
    "# latitude\n",
    "latitude = driver.find_element(By.XPATH, '/html/head/meta[11]').get_attribute('content')\n",
    "print(latitude)\n",
    "\n",
    "# longitude\n",
    "longitude = driver.find_element(By.XPATH, '/html/head/meta[12]').get_attribute('content')\n",
    "print(longitude)\n",
    "\n",
    "# address\n",
    "address = driver.find_element(By.XPATH, '/html/head/meta[13]').get_attribute('content')\n",
    "print(address)\n",
    "\n",
    "# hotel name\n",
    "name = driver.find_element(By.CLASS_NAME, 'HeaderCerebrum__Name').text\n",
    "print(name)\n",
    "\n",
    "kor_nm = cleansing(name, type='HOTEL')\n",
    "eng_nm = get_hotel_en(name)\n",
    "\n",
    "# similar 값이 True 이면 진행\n",
    "\n",
    "# 맨 위의 방 찾기\n",
    "hotel_room = driver.find_element(By.CLASS_NAME, 'MasterRoom')\n",
    "\n",
    "# 방 이름\n",
    "room_nm = hotel_room.find_element(By.CLASS_NAME, 'MasterRoom__HotelName').text\n",
    "print(room_nm)\n",
    "\n",
    "# 방 크기\n",
    "room_area = ''\n",
    "room_amenities = hotel_room.find_elements(By.CLASS_NAME, 'MasterRoom-amenitiesTitle')\n",
    "for ra in room_amenities:\n",
    "    check_room_area = get_room_area(ra.find_element(By.TAG_NAME, 'div').get_attribute('innerHTML'))\n",
    "    if check_room_area:\n",
    "        room_area = check_room_area\n",
    "print(room_area)\n",
    "\n",
    "\n",
    "# 방 가격\n",
    "price_cont = WebDriverWait(driver, 10).until(EC.presence_of_element_located((By.CLASS_NAME, \"PriceContainer\")))\n",
    "room_price = room_price = price_cont.find_element(By.CLASS_NAME, 'pd-price').text\n",
    "room_price = room_price.replace('₩', '').lstrip()\n",
    "print(room_price)\n",
    "\n",
    "crawl_dic = {'hotel_en_nm': eng_nm,'room_nm': room_nm, 'room_price': room_price,\n",
    "             'room_area': room_area, 'standard_date': ''}\n"
   ],
   "metadata": {
    "collapsed": false,
    "pycharm": {
     "name": "#%%\n"
    }
   }
  },
  {
   "cell_type": "code",
   "execution_count": 64,
   "outputs": [
    {
     "name": "stdout",
     "output_type": "stream",
     "text": [
      "NONE\n"
     ]
    }
   ],
   "source": [
    "test = None\n",
    "\n",
    "if test:\n",
    "    print('tes')\n",
    "else:\n",
    "    print('NONE')"
   ],
   "metadata": {
    "collapsed": false,
    "pycharm": {
     "name": "#%%\n"
    }
   }
  },
  {
   "cell_type": "code",
   "execution_count": 56,
   "outputs": [
    {
     "name": "stdout",
     "output_type": "stream",
     "text": [
      "2021-12-13\n",
      "2021-12-14\n"
     ]
    }
   ],
   "source": [
    "from datetime import timedelta, datetime\n",
    "\n",
    "\n",
    "def calc_date(text, mode=None):\n",
    "    days = timedelta(days=1)\n",
    "    convert_date = datetime.strptime(text, \"%Y-%m-%d\").date()\n",
    "    if mode:\n",
    "        convert_date = convert_date + timedelta(days=7)\n",
    "    in_date = convert_date.isoformat()\n",
    "    out_date = (convert_date + days).isoformat()\n",
    "    return in_date, out_date\n",
    "\n",
    "one, two = calc_date('2021-12-13')\n",
    "print(one)\n",
    "print(two)"
   ],
   "metadata": {
    "collapsed": false,
    "pycharm": {
     "name": "#%%\n"
    }
   }
  },
  {
   "cell_type": "code",
   "execution_count": 47,
   "outputs": [],
   "source": [
    "def get_room_area(text):\n",
    "    pattern = '\\d+m²'\n",
    "    text = re.search(pattern, text)\n",
    "    if text:\n",
    "        return text.group()\n",
    "    else:\n",
    "        return False"
   ],
   "metadata": {
    "collapsed": false,
    "pycharm": {
     "name": "#%%\n"
    }
   }
  },
  {
   "cell_type": "code",
   "execution_count": 9,
   "outputs": [
    {
     "name": "stdout",
     "output_type": "stream",
     "text": [
      "(Brown Dot hotel Gwangalli Minlak)\n",
      "()\n"
     ]
    }
   ],
   "source": [
    "# 영어 이름 뺴내오기 검사\n",
    "import re\n",
    "\n",
    "text = '브라운도트 호텔 광안리 민락점 (Brown Dot hotel Gwangalli Minlak)'\n",
    "pattern = '[\\(\\[].*?[\\)\\]]'\n",
    "text = re.search(pattern, text)\n",
    "print(text.group())"
   ],
   "metadata": {
    "collapsed": false,
    "pycharm": {
     "name": "#%%\n"
    }
   }
  },
  {
   "cell_type": "code",
   "execution_count": 42,
   "outputs": [],
   "source": [
    "# text = '객실 크기: 27m²'\n",
    "pattern = '\\d+m²'\n",
    "text = re.search(pattern, text)\n",
    "if text:\n",
    "    print(text.group())"
   ],
   "metadata": {
    "collapsed": false,
    "pycharm": {
     "name": "#%%\n"
    }
   }
  },
  {
   "cell_type": "code",
   "execution_count": 29,
   "outputs": [
    {
     "name": "stdout",
     "output_type": "stream",
     "text": [
      "a : {'name': '송도 비치 관광호텔', 'loc': '부산광역시 서구 암남공원로 9', 'latitude': '35.07471466064453', 'longitude': '129.01556396484375'}, \n",
      " b: {'name': '송도비치관광호텔', 'loc': '부산광역시 서구 암남공원로 9', 'latitude': 35.0746077, 'longitude': '129.0155456'}\n",
      ">> Check distance :  0.012010343315448521\n",
      ">> Check location :  True\n",
      ">> Check name :  0.8888888888888888\n",
      "True\n"
     ]
    }
   ],
   "source": [
    "from haversine import haversine\n",
    "from difflib import SequenceMatcher\n",
    "\n",
    "\n",
    "def similar(a, b):\n",
    "    # a : origin, b : to compare; key: name, loc, latitude, longitude\n",
    "    print(\"a : {0}, \\n b: {1}\".format(a, b))\n",
    "    if check_distance(a['latitude'], a['longitude'], b['latitude'], b['longitude']):\n",
    "        if check_loc(a['loc'], b['loc']):\n",
    "            if check_name(a['name'], b['name']):\n",
    "                return True\n",
    "    return False\n",
    "\n",
    "\n",
    "def check_name(a, b):\n",
    "    # a : search keyword, b : search result name\n",
    "    res = SequenceMatcher(None, a, b).ratio()\n",
    "    print('>> Check name : ', res)\n",
    "    if res > 0.6:\n",
    "        return True\n",
    "    return False\n",
    "\n",
    "\n",
    "def check_distance(a_x, a_y, b_x, b_y):\n",
    "    origin = (float(a_x), float(a_y))\n",
    "    compare = (float(b_x), float(b_y))\n",
    "    try:\n",
    "        res = haversine(origin, compare, unit='km')\n",
    "        print('>> Check distance : ', res)\n",
    "        if res > 5.0:\n",
    "            return False\n",
    "    except TypeError:\n",
    "        return False\n",
    "    return True\n",
    "\n",
    "\n",
    "def check_loc(a, b):\n",
    "    print('>> Check location : ', a == b)\n",
    "    if a == b:\n",
    "        return True\n",
    "    return False\n",
    "\n",
    "\n",
    "# similar test\n",
    "a = {'name': cleansing(name, type='HOTEL'), 'loc': address, 'latitude': latitude, 'longitude': longitude}\n",
    "b = {'name': '송도비치관광호텔', 'loc': cleansing('부산광역시 서구 암남공원로 9 (암남동)', type='HOTEL'), 'latitude': 35.0746077, 'longitude': '129.0155456'}\n",
    "\n",
    "print(similar(a, b))"
   ],
   "metadata": {
    "collapsed": false,
    "pycharm": {
     "name": "#%%\n"
    }
   }
  },
  {
   "cell_type": "code",
   "execution_count": 20,
   "outputs": [
    {
     "name": "stdout",
     "output_type": "stream",
     "text": [
      "부산광역시 서구 암남공원로 9\n"
     ]
    }
   ],
   "source": [
    "text = '부산광역시 서구 암남공원로 9 (암남동)'\n",
    "print(cleansing(text, type='HOTEL'))"
   ],
   "metadata": {
    "collapsed": false,
    "pycharm": {
     "name": "#%%\n"
    }
   }
  },
  {
   "cell_type": "code",
   "execution_count": 71,
   "outputs": [
    {
     "name": "stderr",
     "output_type": "stream",
     "text": [
      "C:\\Users\\foxgi\\AppData\\Local\\Temp/ipykernel_50728/2070683648.py:2: DeprecationWarning: executable_path has been deprecated, please pass in a Service object\n",
      "  driver = webdriver.Chrome(path)\n"
     ]
    }
   ],
   "source": [
    "path = chromedriver_autoinstaller.install()\n",
    "driver = webdriver.Chrome(path)\n",
    "\n",
    "# 부산 url\n",
    "url = 'https://www.agoda.com/ko-kr/search?guid=bf397690-2f46-488c-bcbd-cff9cffb2b17' \\\n",
    "      '&asq=u2qcKLxwzRU5NDuxJ0kOF3T91go8JoYYMxAgy8FkBH1BN0lGAtYH25sdXoy34qb9' \\\n",
    "      '%2BhzuLOrKzSr6JFEJ0k3mSyfy0007nWWyKbObtVe6S9McO%2F40GalFBfqxHkgpPRBg1f4tMtCkUOcG6AQSFmkuYt' \\\n",
    "      '%2ByDbhank09acW2V3PHXdWgz2CrV%2BniEOdBqQjmR%2FUT4vYBSd86EVFMQNW14nE%2FIg%3D%3D&' \\\n",
    "      'city=17172&tick=637740703793&txtuuid=bf397690-2f46-488c-bcbd-cff9cffb2b17&' \\\n",
    "      'locale=ko-kr&ckuid=b751e731-0680-4493-a511-cc53a607df65&prid=0&' \\\n",
    "      'currency=KRW&correlationId=35bf3988-5ba9-4180-ab23-9b3c567fe6f5&pageTypeId=1&' \\\n",
    "      'realLanguageId=9&languageId=9&origin=KR' \\\n",
    "      '&cid=-1&userId=b751e731-0680-4493-a511-cc53a607df65&whitelabelid=1&loginLvl=0&storefrontId=3&currencyId=26' \\\n",
    "      '&currencyCode=KRW&htmlLanguage=ko-kr&cultureInfoName=ko-kr&machineName=hk-crweb-2019&' \\\n",
    "      'trafficGroupId=4&sessionId=qd3vrdnhvdv5lf2vgfu1sdt2&trafficSubGroupId=4&aid=130243&useFullPageLogin=true&' \\\n",
    "      'cttp=4&isRealUser=true&mode=production&checkIn=2021-12-07&checkOut=2021-12-08&rooms=1&adults=2&children=0' \\\n",
    "      '&priceCur=KRW&los=1&textToSearch=%EB%B6%80%EC%82%B0&productType=-1&travellerType=1&familyMode=off'\n",
    "url = url.replace('2021-12-07', '2021-12-13')\n",
    "url = url.replace('2021-12-08', '2021-12-14')\n",
    "driver.get(url)\n",
    "\n",
    "WebDriverWait(driver, 10).until(EC.presence_of_element_located((By.CSS_SELECTOR, \"div.IconBox__child\")))\n",
    "# search_box = driver.find_element(By.XPATH, '/html/body/div[9]/div/div[1]/div[1]/div[1]/div/div/div[1]/div')\n",
    "# search_box.click()\n",
    "\n",
    "search_box = driver.find_element(By.XPATH, '/html/body/div[9]/div/div[1]/div[1]/div[2]/div[1]/div[5]/div/input')\n",
    "search_box.send_keys(\"아난티 힐튼 부산\", Keys.ENTER)\n",
    "\n",
    "\n"
   ],
   "metadata": {
    "collapsed": false,
    "pycharm": {
     "name": "#%%\n"
    }
   }
  }
 ],
 "metadata": {
  "kernelspec": {
   "name": "pycharm-aa66efb1",
   "language": "python",
   "display_name": "PyCharm (hotel)"
  },
  "language_info": {
   "codemirror_mode": {
    "name": "ipython",
    "version": 2
   },
   "file_extension": ".py",
   "mimetype": "text/x-python",
   "name": "python",
   "nbconvert_exporter": "python",
   "pygments_lexer": "ipython2",
   "version": "2.7.6"
  }
 },
 "nbformat": 4,
 "nbformat_minor": 0
}