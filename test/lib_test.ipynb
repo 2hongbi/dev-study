{
 "cells": [
  {
   "cell_type": "code",
   "execution_count": 1,
   "id": "bae1771d",
   "metadata": {},
   "outputs": [],
   "source": [
    "# python difflib - 호텔명ㅠ"
   ]
  },
  {
   "cell_type": "code",
   "execution_count": 2,
   "id": "7febb66b",
   "metadata": {},
   "outputs": [],
   "source": [
    "from difflib import SequenceMatcher"
   ]
  },
  {
   "cell_type": "code",
   "execution_count": 3,
   "id": "3380118a",
   "metadata": {},
   "outputs": [],
   "source": [
    "def similar(a, b):\n",
    "    # sequence가 같으면 1.0, 아니면 0.0\n",
    "    return SequenceMatcher(None, a, b).ratio()"
   ]
  },
  {
   "cell_type": "code",
   "execution_count": 13,
   "id": "4ca74bcf",
   "metadata": {},
   "outputs": [
    {
     "data": {
      "text/plain": [
       "0.9230769230769231"
      ]
     },
     "execution_count": 13,
     "metadata": {},
     "output_type": "execute_result"
    }
   ],
   "source": [
    "SequenceMatcher(None, '춘천 세종호텔', '춘천세종호텔').ratio()   # 호텔엔조이 검색 결과, excel파일에 기재된 호텔명"
   ]
  },
  {
   "cell_type": "code",
   "execution_count": 39,
   "id": "ad5d350d",
   "metadata": {},
   "outputs": [
    {
     "data": {
      "text/plain": [
       "0.6"
      ]
     },
     "execution_count": 39,
     "metadata": {},
     "output_type": "execute_result"
    }
   ],
   "source": [
    "SequenceMatcher(None, '강릉씨티호텔', '시티호텔').ratio()"
   ]
  },
  {
   "cell_type": "code",
   "execution_count": 9,
   "id": "3cec7310",
   "metadata": {},
   "outputs": [
    {
     "data": {
      "text/plain": [
       "0.6666666666666666"
      ]
     },
     "execution_count": 9,
     "metadata": {},
     "output_type": "execute_result"
    }
   ],
   "source": [
    "SequenceMatcher(None, '씨티 호텔', '시티호텔').ratio()"
   ]
  },
  {
   "cell_type": "code",
   "execution_count": 8,
   "id": "ec1ed0fd",
   "metadata": {},
   "outputs": [
    {
     "data": {
      "text/plain": [
       "0.7692307692307693"
      ]
     },
     "execution_count": 8,
     "metadata": {},
     "output_type": "execute_result"
    }
   ],
   "source": [
    "SequenceMatcher(None, '강릉 씨마크호텔', '씨마크호텔').ratio()"
   ]
  },
  {
   "cell_type": "code",
   "execution_count": 12,
   "id": "61e66886",
   "metadata": {},
   "outputs": [
    {
     "data": {
      "text/plain": [
       "0.7142857142857143"
      ]
     },
     "execution_count": 12,
     "metadata": {},
     "output_type": "execute_result"
    }
   ],
   "source": [
    "SequenceMatcher(None, '오키드 호텔 원주', '오키드호텔').ratio()"
   ]
  },
  {
   "cell_type": "code",
   "execution_count": 14,
   "id": "63b9f0d3",
   "metadata": {},
   "outputs": [
    {
     "data": {
      "text/plain": [
       "0.75"
      ]
     },
     "execution_count": 14,
     "metadata": {},
     "output_type": "execute_result"
    }
   ],
   "source": [
    "SequenceMatcher(None, '강릉 경포 비치호텔', '경포비치호텔').ratio()"
   ]
  },
  {
   "cell_type": "code",
   "execution_count": 15,
   "id": "fa3fca1a",
   "metadata": {},
   "outputs": [
    {
     "data": {
      "text/plain": [
       "1.0"
      ]
     },
     "execution_count": 15,
     "metadata": {},
     "output_type": "execute_result"
    }
   ],
   "source": [
    "SequenceMatcher(None, '롯데리조트 속초', '롯데리조트 속초').ratio()"
   ]
  },
  {
   "cell_type": "code",
   "execution_count": 16,
   "id": "68a1a0e7",
   "metadata": {},
   "outputs": [
    {
     "data": {
      "text/plain": [
       "0.6666666666666666"
      ]
     },
     "execution_count": 16,
     "metadata": {},
     "output_type": "execute_result"
    }
   ],
   "source": [
    "SequenceMatcher(None, '쏠비치 양양 호텔', '쏠비치 호텔 양양').ratio()"
   ]
  },
  {
   "cell_type": "code",
   "execution_count": 17,
   "id": "862e212e",
   "metadata": {},
   "outputs": [
    {
     "data": {
      "text/plain": [
       "0.8"
      ]
     },
     "execution_count": 17,
     "metadata": {},
     "output_type": "execute_result"
    }
   ],
   "source": [
    "SequenceMatcher(None, '쏠비치 양양 호텔', '쏠비치 양양').ratio()"
   ]
  },
  {
   "cell_type": "code",
   "execution_count": 18,
   "id": "b384d8fd",
   "metadata": {},
   "outputs": [
    {
     "data": {
      "text/plain": [
       "0.7692307692307693"
      ]
     },
     "execution_count": 18,
     "metadata": {},
     "output_type": "execute_result"
    }
   ],
   "source": [
    "SequenceMatcher(None, '춘천 호텔공지천', '호텔공지천').ratio()"
   ]
  },
  {
   "cell_type": "code",
   "execution_count": 40,
   "id": "8093ac84",
   "metadata": {},
   "outputs": [
    {
     "data": {
      "text/plain": [
       "0.6"
      ]
     },
     "execution_count": 40,
     "metadata": {},
     "output_type": "execute_result"
    }
   ],
   "source": [
    "SequenceMatcher(None, '춘천호텔공지천', '공지천').ratio()"
   ]
  },
  {
   "cell_type": "code",
   "execution_count": 20,
   "id": "8cbe3c4e",
   "metadata": {},
   "outputs": [
    {
     "data": {
      "text/plain": [
       "0.7058823529411765"
      ]
     },
     "execution_count": 20,
     "metadata": {},
     "output_type": "execute_result"
    }
   ],
   "source": [
    "SequenceMatcher(None, '팰리스 호텔 비에스테', '호텔 비에스').ratio()"
   ]
  },
  {
   "cell_type": "code",
   "execution_count": null,
   "id": "db8cc364",
   "metadata": {},
   "outputs": [],
   "source": []
  },
  {
   "cell_type": "code",
   "execution_count": 22,
   "id": "7d1a3876",
   "metadata": {},
   "outputs": [],
   "source": [
    "# haversine - 위경도\n",
    "from haversine import haversine"
   ]
  },
  {
   "cell_type": "code",
   "execution_count": 23,
   "id": "3d10df00",
   "metadata": {},
   "outputs": [
    {
     "data": {
      "text/plain": [
       "92.39166892270117"
      ]
     },
     "execution_count": 23,
     "metadata": {},
     "output_type": "execute_result"
    }
   ],
   "source": [
    "# 시티호텔 (강원, 강릉시)\n",
    "origin = (37.3265578, 127.9859257) # latitude, longitude\n",
    "search = (37.764307, 128.876665)\n",
    "\n",
    "# 거리 계산\n",
    "haversine(origin, search, unit='km')"
   ]
  },
  {
   "cell_type": "code",
   "execution_count": 25,
   "id": "13099da2",
   "metadata": {},
   "outputs": [
    {
     "data": {
      "text/plain": [
       "0.011816250569352354"
      ]
     },
     "execution_count": 25,
     "metadata": {},
     "output_type": "execute_result"
    }
   ],
   "source": [
    "# 춘천세종호텔 (강원, 춘천시)\n",
    "origin = (37.88666, 127.b7315093)\n",
    "search = (37.88662414820949, 127.73138254880905)\n",
    "\n",
    "haversine(origin, search, unit='km')"
   ]
  },
  {
   "cell_type": "code",
   "execution_count": 26,
   "id": "deb6917e",
   "metadata": {},
   "outputs": [
    {
     "data": {
      "text/plain": [
       "0.004170496446250363"
      ]
     },
     "execution_count": 26,
     "metadata": {},
     "output_type": "execute_result"
    }
   ],
   "source": [
    "# 오키드 호텔 원주\n",
    "origin = (37.3466996, 127.9290122)\n",
    "search = (37.346692, 127.928966)\n",
    "\n",
    "haversine(origin, search, unit='km')"
   ]
  },
  {
   "cell_type": "code",
   "execution_count": 27,
   "id": "3c7af225",
   "metadata": {},
   "outputs": [
    {
     "data": {
      "text/plain": [
       "0.09076326972337882"
      ]
     },
     "execution_count": 27,
     "metadata": {},
     "output_type": "execute_result"
    }
   ],
   "source": [
    "# 쏠비치 양양 호텔\n",
    "\n",
    "origin = (38.086995, 128.6655974)\n",
    "search = (38.087806973045055, 128.66549134254455)\n",
    "\n",
    "haversine(origin, search, unit='km')"
   ]
  },
  {
   "cell_type": "code",
   "execution_count": 28,
   "id": "b0f09ff8",
   "metadata": {},
   "outputs": [
    {
     "data": {
      "text/plain": [
       "2.4121711683583276"
      ]
     },
     "execution_count": 28,
     "metadata": {},
     "output_type": "execute_result"
    }
   ],
   "source": [
    "# 춘천 호텔공지천\n",
    "origin = (37.8726616, 127.7076569)\n",
    "search = (37.874516, 127.735038)\n",
    "\n",
    "haversine(origin, search, unit='km')"
   ]
  },
  {
   "cell_type": "code",
   "execution_count": 29,
   "id": "29e9d3bb",
   "metadata": {},
   "outputs": [
    {
     "data": {
      "text/plain": [
       "4.575392756464265"
      ]
     },
     "execution_count": 29,
     "metadata": {},
     "output_type": "execute_result"
    }
   ],
   "source": [
    "# 청주 뮤제오호텔\n",
    "origin = (36.625414, 127.4280986)\n",
    "search = (36.664024, 127.445829)\n",
    "\n",
    "haversine(origin, search, unit='km')"
   ]
  },
  {
   "cell_type": "code",
   "execution_count": 30,
   "id": "87117219",
   "metadata": {},
   "outputs": [
    {
     "data": {
      "text/plain": [
       "0.026404589501083573"
      ]
     },
     "execution_count": 30,
     "metadata": {},
     "output_type": "execute_result"
    }
   ],
   "source": [
    "# 부산 호텔 런더너\n",
    "origin = (35.1576484, 129.1287003)\n",
    "search = (35.157884, 129.128664)\n",
    "\n",
    "haversine(origin, search, unit='km')"
   ]
  },
  {
   "cell_type": "code",
   "execution_count": 31,
   "id": "3f282cd7",
   "metadata": {},
   "outputs": [
    {
     "data": {
      "text/plain": [
       "0.13971028271967117"
      ]
     },
     "execution_count": 31,
     "metadata": {},
     "output_type": "execute_result"
    }
   ],
   "source": [
    "#  서울신라호텔, 서울 중구\n",
    "origin = (37.5558806, 127.0051533)\n",
    "search = (37.55697901958351, 127.00592279434204)\n",
    "\n",
    "haversine(origin, search, unit='km')"
   ]
  },
  {
   "cell_type": "code",
   "execution_count": 34,
   "id": "941ed6b5",
   "metadata": {},
   "outputs": [
    {
     "data": {
      "text/plain": [
       "'서울신라호텔'"
      ]
     },
     "execution_count": 34,
     "metadata": {},
     "output_type": "execute_result"
    }
   ],
   "source": [
    "# regex\n",
    "import re\n",
    "\n",
    "pattern = '[\\(\\[].*?[\\)\\]]'\n",
    "text = '[★숙박대전]서울신라호텔'\n",
    "\n",
    "text = re.sub(pattern, \"\", string=text)\n",
    "\n",
    "text"
   ]
  },
  {
   "cell_type": "code",
   "execution_count": 36,
   "id": "c496d933",
   "metadata": {},
   "outputs": [
    {
     "data": {
      "text/plain": [
       "'주식회사'"
      ]
     },
     "execution_count": 36,
     "metadata": {},
     "output_type": "execute_result"
    }
   ],
   "source": [
    "text = re.sub(pattern, \"\", string='(주)주식회사')\n",
    "\n",
    "text"
   ]
  },
  {
   "cell_type": "code",
   "execution_count": 38,
   "id": "0b07a4ea",
   "metadata": {},
   "outputs": [
    {
     "data": {
      "text/plain": [
       "'춘천세종'"
      ]
     },
     "execution_count": 38,
     "metadata": {},
     "output_type": "execute_result"
    }
   ],
   "source": [
    "text = \"춘천세종관광호텔\"\n",
    "\n",
    "text = text.replace(\"관광호텔\", \"\")\n",
    "\n",
    "text"
   ]
  }
 ],
 "metadata": {
  "kernelspec": {
   "display_name": "Python 3 (ipykernel)",
   "language": "python",
   "name": "python3"
  },
  "language_info": {
   "codemirror_mode": {
    "name": "ipython",
    "version": 3
   },
   "file_extension": ".py",
   "mimetype": "text/x-python",
   "name": "python",
   "nbconvert_exporter": "python",
   "pygments_lexer": "ipython3",
   "version": "3.9.5"
  }
 },
 "nbformat": 4,
 "nbformat_minor": 5
}
