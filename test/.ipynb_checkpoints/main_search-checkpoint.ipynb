{
 "cells": [
  {
   "cell_type": "code",
   "execution_count": 24,
   "id": "8d1c595f",
   "metadata": {},
   "outputs": [],
   "source": [
    "from selenium import webdriver\n",
    "import pandas as pd\n",
    "from bs4 import BeautifulSoup\n",
    "from tqdm import tqdm\n",
    "import chromedriver_autoinstaller\n",
    "import time\n",
    "import random\n",
    "from numpy import dot\n",
    "import requests\n",
    "import json\n",
    "import difflib\n",
    "import sys\n",
    "from numpy.linalg import norm\n",
    "import numpy as np\n",
    "import re\n",
    "from selenium.webdriver.common.by import By\n",
    "from selenium.webdriver.common.keys import Keys\n",
    "tqdm.pandas()"
   ]
  },
  {
   "cell_type": "code",
   "execution_count": 23,
   "id": "7bb96067",
   "metadata": {
    "scrolled": false
   },
   "outputs": [
    {
     "name": "stderr",
     "output_type": "stream",
     "text": [
      "C:\\Users\\LEESOY~1\\AppData\\Local\\Temp/ipykernel_24396/2465511720.py:2: DeprecationWarning: executable_path has been deprecated, please pass in a Service object\n",
      "  driver = webdriver.Chrome(path)\n",
      "C:\\Users\\LEESOY~1\\AppData\\Local\\Temp/ipykernel_24396/2465511720.py:8: DeprecationWarning: find_element_by_* commands are deprecated. Please use find_element() instead\n",
      "  driver.find_element_by_class_name(\"domestic_hotel\").click()\n",
      "C:\\Users\\LEESOY~1\\AppData\\Local\\Temp/ipykernel_24396/2465511720.py:11: DeprecationWarning: find_element_by_* commands are deprecated. Please use find_element() instead\n",
      "  driver.find_element_by_id(\"txt_city\").send_keys(\"속초\")\n",
      "C:\\Users\\LEESOY~1\\AppData\\Local\\Temp/ipykernel_24396/2465511720.py:12: DeprecationWarning: find_element_by_* commands are deprecated. Please use find_element() instead\n",
      "  driver.find_element_by_xpath(\"/html/body/div[3]/div[1]/div/div/div[6]/div/ul/li/a\").click()\n",
      "C:\\Users\\LEESOY~1\\AppData\\Local\\Temp/ipykernel_24396/2465511720.py:17: DeprecationWarning: find_element_by_* commands are deprecated. Please use find_element() instead\n",
      "  driver.find_element_by_xpath(\"//td[@title='2021-12-23']\").click()\n",
      "C:\\Users\\LEESOY~1\\AppData\\Local\\Temp/ipykernel_24396/2465511720.py:22: DeprecationWarning: find_element_by_* commands are deprecated. Please use find_element() instead\n",
      "  driver.find_element_by_xpath(\"//td[@title='2021-12-25']\").click()\n",
      "C:\\Users\\LEESOY~1\\AppData\\Local\\Temp/ipykernel_24396/2465511720.py:25: DeprecationWarning: find_element_by_* commands are deprecated. Please use find_element() instead\n",
      "  driver.find_element_by_xpath(\"/html/body/div[3]/div[1]/div/div/div[2]/div[2]/button\").click()\n",
      "C:\\Users\\LEESOY~1\\AppData\\Local\\Temp/ipykernel_24396/2465511720.py:29: DeprecationWarning: find_element_by_* commands are deprecated. Please use find_element() instead\n",
      "  hotel_search_text = driver.find_element_by_xpath(\"/html/body/div[3]/div[4]/div[1]/div[1]/div[2]/div[1]/form/div/div/label/input\")\n"
     ]
    },
    {
     "ename": "NoSuchElementException",
     "evalue": "Message: no such element: Unable to locate element: {\"method\":\"xpath\",\"selector\":\"/html/body/div[3]/div[4]/div[1]/div[1]/div[2]/div[1]/form/div/div/label/input\"}\n  (Session info: chrome=96.0.4664.45)\nStacktrace:\nBacktrace:\n\tOrdinal0 [0x00F965C3+2516419]\n\tOrdinal0 [0x00F2FAA1+2095777]\n\tOrdinal0 [0x00E32698+1058456]\n\tOrdinal0 [0x00E5D2A8+1233576]\n\tOrdinal0 [0x00E5D49B+1234075]\n\tOrdinal0 [0x00E87672+1406578]\n\tOrdinal0 [0x00E7637A+1336186]\n\tOrdinal0 [0x00E85A1F+1399327]\n\tOrdinal0 [0x00E7620B+1335819]\n\tOrdinal0 [0x00E525E7+1189351]\n\tOrdinal0 [0x00E53449+1193033]\n\tGetHandleVerifier [0x01123AA4+1573796]\n\tGetHandleVerifier [0x011CD8E7+2269671]\n\tGetHandleVerifier [0x0102491B+528923]\n\tGetHandleVerifier [0x01023D69+525929]\n\tOrdinal0 [0x00F350A9+2117801]\n\tOrdinal0 [0x00F39458+2135128]\n\tOrdinal0 [0x00F39592+2135442]\n\tOrdinal0 [0x00F430F1+2175217]\n\tBaseThreadInitThunk [0x7729FA29+25]\n\tRtlGetAppContainerNamedObjectPath [0x77BE7A9E+286]\n\tRtlGetAppContainerNamedObjectPath [0x77BE7A6E+238]\n",
     "output_type": "error",
     "traceback": [
      "\u001b[1;31m---------------------------------------------------------------------------\u001b[0m",
      "\u001b[1;31mNoSuchElementException\u001b[0m                    Traceback (most recent call last)",
      "\u001b[1;32mC:\\Users\\LEESOY~1\\AppData\\Local\\Temp/ipykernel_24396/2465511720.py\u001b[0m in \u001b[0;36m<module>\u001b[1;34m\u001b[0m\n\u001b[0;32m     27\u001b[0m \u001b[1;33m\u001b[0m\u001b[0m\n\u001b[0;32m     28\u001b[0m \u001b[1;31m# 상세검색 > 호텔 검색\u001b[0m\u001b[1;33m\u001b[0m\u001b[1;33m\u001b[0m\u001b[1;33m\u001b[0m\u001b[0m\n\u001b[1;32m---> 29\u001b[1;33m \u001b[0mhotel_search_text\u001b[0m \u001b[1;33m=\u001b[0m \u001b[0mdriver\u001b[0m\u001b[1;33m.\u001b[0m\u001b[0mfind_element_by_xpath\u001b[0m\u001b[1;33m(\u001b[0m\u001b[1;34m\"/html/body/div[3]/div[4]/div[1]/div[1]/div[2]/div[1]/form/div/div/label/input\"\u001b[0m\u001b[1;33m)\u001b[0m\u001b[1;33m\u001b[0m\u001b[1;33m\u001b[0m\u001b[0m\n\u001b[0m\u001b[0;32m     30\u001b[0m \u001b[0mdriver\u001b[0m\u001b[1;33m.\u001b[0m\u001b[0mexecute_script\u001b[0m\u001b[1;33m(\u001b[0m\u001b[1;34m\"arguments[0].innerText='롯데리조트'\"\u001b[0m\u001b[1;33m,\u001b[0m \u001b[0mhotel_search_text\u001b[0m\u001b[1;33m)\u001b[0m\u001b[1;33m\u001b[0m\u001b[1;33m\u001b[0m\u001b[0m\n\u001b[0;32m     31\u001b[0m \u001b[0mdriver\u001b[0m\u001b[1;33m.\u001b[0m\u001b[0msend_keys\u001b[0m\u001b[1;33m(\u001b[0m\u001b[0mKeys\u001b[0m\u001b[1;33m.\u001b[0m\u001b[0mENTER\u001b[0m\u001b[1;33m)\u001b[0m\u001b[1;33m\u001b[0m\u001b[1;33m\u001b[0m\u001b[0m\n",
      "\u001b[1;32mc:\\users\\leesoyeon\\pycharmprojects\\hotel\\venv\\lib\\site-packages\\selenium\\webdriver\\remote\\webdriver.py\u001b[0m in \u001b[0;36mfind_element_by_xpath\u001b[1;34m(self, xpath)\u001b[0m\n\u001b[0;32m    512\u001b[0m             \u001b[0mstacklevel\u001b[0m\u001b[1;33m=\u001b[0m\u001b[1;36m2\u001b[0m\u001b[1;33m,\u001b[0m\u001b[1;33m\u001b[0m\u001b[1;33m\u001b[0m\u001b[0m\n\u001b[0;32m    513\u001b[0m         )\n\u001b[1;32m--> 514\u001b[1;33m         \u001b[1;32mreturn\u001b[0m \u001b[0mself\u001b[0m\u001b[1;33m.\u001b[0m\u001b[0mfind_element\u001b[0m\u001b[1;33m(\u001b[0m\u001b[0mby\u001b[0m\u001b[1;33m=\u001b[0m\u001b[0mBy\u001b[0m\u001b[1;33m.\u001b[0m\u001b[0mXPATH\u001b[0m\u001b[1;33m,\u001b[0m \u001b[0mvalue\u001b[0m\u001b[1;33m=\u001b[0m\u001b[0mxpath\u001b[0m\u001b[1;33m)\u001b[0m\u001b[1;33m\u001b[0m\u001b[1;33m\u001b[0m\u001b[0m\n\u001b[0m\u001b[0;32m    515\u001b[0m \u001b[1;33m\u001b[0m\u001b[0m\n\u001b[0;32m    516\u001b[0m     \u001b[1;32mdef\u001b[0m \u001b[0mfind_elements_by_xpath\u001b[0m\u001b[1;33m(\u001b[0m\u001b[0mself\u001b[0m\u001b[1;33m,\u001b[0m \u001b[0mxpath\u001b[0m\u001b[1;33m)\u001b[0m \u001b[1;33m->\u001b[0m \u001b[0mWebElement\u001b[0m\u001b[1;33m:\u001b[0m\u001b[1;33m\u001b[0m\u001b[1;33m\u001b[0m\u001b[0m\n",
      "\u001b[1;32mc:\\users\\leesoyeon\\pycharmprojects\\hotel\\venv\\lib\\site-packages\\selenium\\webdriver\\remote\\webdriver.py\u001b[0m in \u001b[0;36mfind_element\u001b[1;34m(self, by, value)\u001b[0m\n\u001b[0;32m   1236\u001b[0m             \u001b[0mvalue\u001b[0m \u001b[1;33m=\u001b[0m \u001b[1;34m'[name=\"%s\"]'\u001b[0m \u001b[1;33m%\u001b[0m \u001b[0mvalue\u001b[0m\u001b[1;33m\u001b[0m\u001b[1;33m\u001b[0m\u001b[0m\n\u001b[0;32m   1237\u001b[0m \u001b[1;33m\u001b[0m\u001b[0m\n\u001b[1;32m-> 1238\u001b[1;33m         return self.execute(Command.FIND_ELEMENT, {\n\u001b[0m\u001b[0;32m   1239\u001b[0m             \u001b[1;34m'using'\u001b[0m\u001b[1;33m:\u001b[0m \u001b[0mby\u001b[0m\u001b[1;33m,\u001b[0m\u001b[1;33m\u001b[0m\u001b[1;33m\u001b[0m\u001b[0m\n\u001b[0;32m   1240\u001b[0m             'value': value})['value']\n",
      "\u001b[1;32mc:\\users\\leesoyeon\\pycharmprojects\\hotel\\venv\\lib\\site-packages\\selenium\\webdriver\\remote\\webdriver.py\u001b[0m in \u001b[0;36mexecute\u001b[1;34m(self, driver_command, params)\u001b[0m\n\u001b[0;32m    416\u001b[0m         \u001b[0mresponse\u001b[0m \u001b[1;33m=\u001b[0m \u001b[0mself\u001b[0m\u001b[1;33m.\u001b[0m\u001b[0mcommand_executor\u001b[0m\u001b[1;33m.\u001b[0m\u001b[0mexecute\u001b[0m\u001b[1;33m(\u001b[0m\u001b[0mdriver_command\u001b[0m\u001b[1;33m,\u001b[0m \u001b[0mparams\u001b[0m\u001b[1;33m)\u001b[0m\u001b[1;33m\u001b[0m\u001b[1;33m\u001b[0m\u001b[0m\n\u001b[0;32m    417\u001b[0m         \u001b[1;32mif\u001b[0m \u001b[0mresponse\u001b[0m\u001b[1;33m:\u001b[0m\u001b[1;33m\u001b[0m\u001b[1;33m\u001b[0m\u001b[0m\n\u001b[1;32m--> 418\u001b[1;33m             \u001b[0mself\u001b[0m\u001b[1;33m.\u001b[0m\u001b[0merror_handler\u001b[0m\u001b[1;33m.\u001b[0m\u001b[0mcheck_response\u001b[0m\u001b[1;33m(\u001b[0m\u001b[0mresponse\u001b[0m\u001b[1;33m)\u001b[0m\u001b[1;33m\u001b[0m\u001b[1;33m\u001b[0m\u001b[0m\n\u001b[0m\u001b[0;32m    419\u001b[0m             response['value'] = self._unwrap_value(\n\u001b[0;32m    420\u001b[0m                 response.get('value', None))\n",
      "\u001b[1;32mc:\\users\\leesoyeon\\pycharmprojects\\hotel\\venv\\lib\\site-packages\\selenium\\webdriver\\remote\\errorhandler.py\u001b[0m in \u001b[0;36mcheck_response\u001b[1;34m(self, response)\u001b[0m\n\u001b[0;32m    241\u001b[0m                 \u001b[0malert_text\u001b[0m \u001b[1;33m=\u001b[0m \u001b[0mvalue\u001b[0m\u001b[1;33m[\u001b[0m\u001b[1;34m'alert'\u001b[0m\u001b[1;33m]\u001b[0m\u001b[1;33m.\u001b[0m\u001b[0mget\u001b[0m\u001b[1;33m(\u001b[0m\u001b[1;34m'text'\u001b[0m\u001b[1;33m)\u001b[0m\u001b[1;33m\u001b[0m\u001b[1;33m\u001b[0m\u001b[0m\n\u001b[0;32m    242\u001b[0m             \u001b[1;32mraise\u001b[0m \u001b[0mexception_class\u001b[0m\u001b[1;33m(\u001b[0m\u001b[0mmessage\u001b[0m\u001b[1;33m,\u001b[0m \u001b[0mscreen\u001b[0m\u001b[1;33m,\u001b[0m \u001b[0mstacktrace\u001b[0m\u001b[1;33m,\u001b[0m \u001b[0malert_text\u001b[0m\u001b[1;33m)\u001b[0m  \u001b[1;31m# type: ignore[call-arg]  # mypy is not smart enough here\u001b[0m\u001b[1;33m\u001b[0m\u001b[1;33m\u001b[0m\u001b[0m\n\u001b[1;32m--> 243\u001b[1;33m         \u001b[1;32mraise\u001b[0m \u001b[0mexception_class\u001b[0m\u001b[1;33m(\u001b[0m\u001b[0mmessage\u001b[0m\u001b[1;33m,\u001b[0m \u001b[0mscreen\u001b[0m\u001b[1;33m,\u001b[0m \u001b[0mstacktrace\u001b[0m\u001b[1;33m)\u001b[0m\u001b[1;33m\u001b[0m\u001b[1;33m\u001b[0m\u001b[0m\n\u001b[0m\u001b[0;32m    244\u001b[0m \u001b[1;33m\u001b[0m\u001b[0m\n\u001b[0;32m    245\u001b[0m     \u001b[1;32mdef\u001b[0m \u001b[0m_value_or_default\u001b[0m\u001b[1;33m(\u001b[0m\u001b[0mself\u001b[0m\u001b[1;33m,\u001b[0m \u001b[0mobj\u001b[0m\u001b[1;33m:\u001b[0m \u001b[0mMapping\u001b[0m\u001b[1;33m[\u001b[0m\u001b[0m_KT\u001b[0m\u001b[1;33m,\u001b[0m \u001b[0m_VT\u001b[0m\u001b[1;33m]\u001b[0m\u001b[1;33m,\u001b[0m \u001b[0mkey\u001b[0m\u001b[1;33m:\u001b[0m \u001b[0m_KT\u001b[0m\u001b[1;33m,\u001b[0m \u001b[0mdefault\u001b[0m\u001b[1;33m:\u001b[0m \u001b[0m_VT\u001b[0m\u001b[1;33m)\u001b[0m \u001b[1;33m->\u001b[0m \u001b[0m_VT\u001b[0m\u001b[1;33m:\u001b[0m\u001b[1;33m\u001b[0m\u001b[1;33m\u001b[0m\u001b[0m\n",
      "\u001b[1;31mNoSuchElementException\u001b[0m: Message: no such element: Unable to locate element: {\"method\":\"xpath\",\"selector\":\"/html/body/div[3]/div[4]/div[1]/div[1]/div[2]/div[1]/form/div/div/label/input\"}\n  (Session info: chrome=96.0.4664.45)\nStacktrace:\nBacktrace:\n\tOrdinal0 [0x00F965C3+2516419]\n\tOrdinal0 [0x00F2FAA1+2095777]\n\tOrdinal0 [0x00E32698+1058456]\n\tOrdinal0 [0x00E5D2A8+1233576]\n\tOrdinal0 [0x00E5D49B+1234075]\n\tOrdinal0 [0x00E87672+1406578]\n\tOrdinal0 [0x00E7637A+1336186]\n\tOrdinal0 [0x00E85A1F+1399327]\n\tOrdinal0 [0x00E7620B+1335819]\n\tOrdinal0 [0x00E525E7+1189351]\n\tOrdinal0 [0x00E53449+1193033]\n\tGetHandleVerifier [0x01123AA4+1573796]\n\tGetHandleVerifier [0x011CD8E7+2269671]\n\tGetHandleVerifier [0x0102491B+528923]\n\tGetHandleVerifier [0x01023D69+525929]\n\tOrdinal0 [0x00F350A9+2117801]\n\tOrdinal0 [0x00F39458+2135128]\n\tOrdinal0 [0x00F39592+2135442]\n\tOrdinal0 [0x00F430F1+2175217]\n\tBaseThreadInitThunk [0x7729FA29+25]\n\tRtlGetAppContainerNamedObjectPath [0x77BE7A9E+286]\n\tRtlGetAppContainerNamedObjectPath [0x77BE7A6E+238]\n"
     ]
    }
   ],
   "source": [
    "path = chromedriver_autoinstaller.install() # 크롬 드라이버 install\n",
    "driver = webdriver.Chrome(path) \n",
    "\n",
    "# 호텔 서치\n",
    "driver.get('https://www.modetour.com/Livebooking/Hotel3/Main.aspx?MLoc=02')\n",
    "\n",
    "# 국내호텔 선택\n",
    "driver.find_element_by_class_name(\"domestic_hotel\").click()\n",
    "\n",
    "time.sleep(random.uniform(2, 4)) \n",
    "\n",
    "# 도시명 입력\n",
    "driver.find_element_by_id(\"txt_city\").send_keys(\"속초\")\n",
    "driver.find_element_by_xpath(\"/html/body/div[3]/div[1]/div/div/div[6]/div/ul/li/a\").click()\n",
    "\n",
    "time.sleep(random.uniform(2, 4))\n",
    "\n",
    "# 날짜 지정\n",
    "# check_in = driver.find_element_by_xpath(\"/html/body/div[3]/div[1]/div/div/div[2]/div[1]/div[2]/a/span[1]/span[1]\")\n",
    "# driver.execute_script(\"arguments[0].innerText='2021-12-22'\", check_in)\n",
    "driver.find_element_by_xpath(\"//td[@title='2021-12-23']\").click()\n",
    "\n",
    "time.sleep(random.uniform(2, 4))\n",
    "\n",
    "# check_out = driver.find_element_by_xpath(\"/html/body/div[3]/div[1]/div/div/div[2]/div[1]/div[2]/a/span[1]/span[2]\")\n",
    "# driver.execute_script(\"arguments[0].innerText='2021-12-24'\", check_out)  # 추후 날짜 계산 +2일로 알아서 하게끔 처리\n",
    "driver.find_element_by_xpath(\"//td[@title='2021-12-25']\").click()\n",
    "\n",
    "time.sleep(random.uniform(2, 4))\n",
    "\n",
    "# 검색 버튼 누르기\n",
    "driver.find_element_by_xpath(\"/html/body/div[3]/div[1]/div/div/div[2]/div[2]/button\").click()\n",
    "\n",
    "time.sleep(random.uniform(2, 4))\n",
    "\n",
    "# 상세검색 > 호텔 검색\n",
    "hotel_search_text = driver.find_element_by_xpath(\"/html/body/div[3]/div[4]/div[1]/div[1]/div[2]/div[1]/form/div/div/label/input\")\n",
    "driver.execute_script(\"arguments[0].innerText='롯데리조트'\", hotel_search_text)\n",
    "driver.send_keys(Keys.ENTER)\n"
   ]
  }
 ],
 "metadata": {
  "kernelspec": {
   "display_name": "Python 3 (ipykernel)",
   "language": "python",
   "name": "python3"
  },
  "language_info": {
   "codemirror_mode": {
    "name": "ipython",
    "version": 3
   },
   "file_extension": ".py",
   "mimetype": "text/x-python",
   "name": "python",
   "nbconvert_exporter": "python",
   "pygments_lexer": "ipython3",
   "version": "3.9.5"
  }
 },
 "nbformat": 4,
 "nbformat_minor": 5
}
