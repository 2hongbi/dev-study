{
 "cells": [
  {
   "cell_type": "code",
   "execution_count": 2,
   "id": "5d444a40-25ea-48c9-a9b4-c9bb92ae9c6f",
   "metadata": {},
   "outputs": [],
   "source": [
    "import pandas as pd\n",
    "import numpy as np\n",
    "import requests\n",
    "from sshtunnel import SSHTunnelForwarder\n",
    "import psycopg2\n",
    "from tqdm import tqdm\n",
    "tqdm.pandas()\n",
    "#import distance as dst"
   ]
  },
  {
   "cell_type": "code",
   "execution_count": 140,
   "id": "8c928af2-2a7f-4aa7-a50a-3927310dfdd7",
   "metadata": {},
   "outputs": [],
   "source": [
    "hotel = pd.read_excel('./data/2019_hotel_data_주소_위경도.xlsx') # 호텔 표본"
   ]
  },
  {
   "cell_type": "code",
   "execution_count": 4,
   "id": "26fe4441-6bcc-44ec-984a-c43d9709deb0",
   "metadata": {
    "tags": []
   },
   "outputs": [],
   "source": [
    "def find_sido(table):\n",
    "    sido_list= table['지번주소'].split()\n",
    "    return sido_list[0]"
   ]
  },
  {
   "cell_type": "code",
   "execution_count": 141,
   "id": "ce8fc835-4265-4abd-90f5-f7583ade968d",
   "metadata": {},
   "outputs": [
    {
     "name": "stderr",
     "output_type": "stream",
     "text": [
      "100%|██████████████████████████████████████████████████████████████████████████████████████████████████████████████| 1914/1914 [00:00<00:00, 68112.69it/s]\n"
     ]
    }
   ],
   "source": [
    "hotel['시도'] =  hotel.progress_apply(lambda x : find_sido(x),axis=1)"
   ]
  },
  {
   "cell_type": "code",
   "execution_count": 6,
   "id": "8d75893f-c803-4f0f-817b-0979d7790c9d",
   "metadata": {},
   "outputs": [],
   "source": [
    "def find_sigungu(table):\n",
    "    if table['시도'] == '세종특별자치시':\n",
    "        pass\n",
    "    else: \n",
    "        sigungu_list= table['지번주소'].split()\n",
    "        if sigungu_list[2][-1] =='구':\n",
    "            return sigungu_list[1]+' '+sigungu_list[2]\n",
    "        else:\n",
    "            return sigungu_list[1]"
   ]
  },
  {
   "cell_type": "code",
   "execution_count": 142,
   "id": "c24f2ade-81d2-4bc2-b86e-f19f042e1bd9",
   "metadata": {},
   "outputs": [
    {
     "name": "stderr",
     "output_type": "stream",
     "text": [
      "100%|██████████████████████████████████████████████████████████████████████████████████████████████████████████████| 1914/1914 [00:00<00:00, 43049.41it/s]\n"
     ]
    }
   ],
   "source": [
    "hotel['시군구'] =  hotel.progress_apply(lambda x : find_sigungu(x),axis=1)"
   ]
  },
  {
   "cell_type": "code",
   "execution_count": 143,
   "id": "73569a63-6ebd-4b05-8aa1-f0f39df1e9b6",
   "metadata": {},
   "outputs": [],
   "source": [
    "bunji_list = []\n",
    "def find_bjdong(table):\n",
    "    \n",
    "    try:\n",
    "        bjdong_list= table['지번주소'].split()\n",
    "        if table['시도'] == '세종특별자치시':\n",
    "            if len(bjdong_list) == 2:\n",
    "                bunji_list.append(bjdong_list[2])\n",
    "                return bjdong_list[1]\n",
    "            elif len(bjdong_list) == 3:\n",
    "                bunji_list.append(bjdong_list[3])\n",
    "                return bjdong_list[1]+' '+bjdong_list[2]\n",
    "        else:\n",
    "            if len(bjdong_list) == 4:\n",
    "                bunji_list.append(bjdong_list[3])\n",
    "                return bjdong_list[2]\n",
    "            else:\n",
    "                if any(chr.isdigit() for chr in bjdong_list[3]):\n",
    "                        bunji_list.append(bjdong_list[3])\n",
    "                        return bjdong_list[2]\n",
    "                else:\n",
    "                     if bjdong_list[2][-1] =='구':\n",
    "                        bunji_list.append(bjdong_list[4])\n",
    "                        return bjdong_list[3]\n",
    "                     else:\n",
    "                        bunji_list.append(bjdong_list[4])\n",
    "                        return bjdong_list[2]+' '+bjdong_list[3]\n",
    "\n",
    "    except:\n",
    "        pass"
   ]
  },
  {
   "cell_type": "code",
   "execution_count": 144,
   "id": "379c48d2-fbfc-4ede-ad46-b102b7274d55",
   "metadata": {},
   "outputs": [
    {
     "name": "stderr",
     "output_type": "stream",
     "text": [
      "100%|██████████████████████████████████████████████████████████████████████████████████████████████████████████████| 1914/1914 [00:00<00:00, 55887.07it/s]\n"
     ]
    }
   ],
   "source": [
    "hotel['법정동'] =  hotel.progress_apply(lambda x : find_bjdong(x),axis=1)"
   ]
  },
  {
   "cell_type": "code",
   "execution_count": 145,
   "id": "73782e2c-e218-4168-b5e8-c8e3e5c0d398",
   "metadata": {},
   "outputs": [],
   "source": [
    "hotel['번지']= bunji_list"
   ]
  },
  {
   "cell_type": "code",
   "execution_count": 11,
   "id": "cf555e7d-9822-4105-b167-5f029f584cf9",
   "metadata": {},
   "outputs": [],
   "source": [
    "def find_bun(table):\n",
    "    try:\n",
    "        return str(table.번지.split('-')[0]).zfill(4)\n",
    "        \n",
    "    except:\n",
    "        return str('0000').zfill(4)"
   ]
  },
  {
   "cell_type": "code",
   "execution_count": 146,
   "id": "4773438e-36e3-4f53-ba6e-3b35f7e67c1f",
   "metadata": {},
   "outputs": [
    {
     "name": "stderr",
     "output_type": "stream",
     "text": [
      "100%|██████████████████████████████████████████████████████████████████████████████████████████████████████████████| 1914/1914 [00:00<00:00, 48353.26it/s]\n"
     ]
    }
   ],
   "source": [
    "hotel['번'] = hotel.progress_apply(lambda x : find_bun(x),axis=1)"
   ]
  },
  {
   "cell_type": "code",
   "execution_count": 13,
   "id": "f72e1641-d357-4984-89bc-21fb73fa1186",
   "metadata": {},
   "outputs": [],
   "source": [
    "def find_ji(table):\n",
    "    try:\n",
    "        return str(table.번지.split('-')[1]).zfill(4)\n",
    "        \n",
    "    except:\n",
    "        return str('0000').zfill(4)"
   ]
  },
  {
   "cell_type": "code",
   "execution_count": 147,
   "id": "5609024f-1b70-4176-a274-bccb29bd121d",
   "metadata": {},
   "outputs": [
    {
     "name": "stderr",
     "output_type": "stream",
     "text": [
      "100%|██████████████████████████████████████████████████████████████████████████████████████████████████████████████| 1914/1914 [00:00<00:00, 50848.10it/s]\n"
     ]
    }
   ],
   "source": [
    "hotel['지'] = hotel.progress_apply(lambda x : find_ji(x),axis=1)"
   ]
  },
  {
   "cell_type": "code",
   "execution_count": 15,
   "id": "a8e8466e-7e3b-474c-a4ab-023d0b0ecdc8",
   "metadata": {},
   "outputs": [],
   "source": [
    "admin = pd.read_excel('./data/법정동_20211117.xlsx') #법정동 코드 맴핑을 위한 법정동파일 출처 : 행정표준코드관리시스템"
   ]
  },
  {
   "cell_type": "code",
   "execution_count": 16,
   "id": "6edce373-c12b-4abe-a65a-015690f36eca",
   "metadata": {},
   "outputs": [],
   "source": [
    "def find_bjdong_code(table):\n",
    "    try:\n",
    "        if table['시도'] =='세종특별자치시':\n",
    "            sido = admin[admin.시도명 == '세종특별자치시']\n",
    "            bjdong_list = table.법정동.split()\n",
    "            if len(bjdong_list) == 1:\n",
    "                return sido[sido.읍면동명 ==table['법정동']].법정동코드.values[0]\n",
    "            elif len(bjdong_list) == 2:\n",
    "                sigungu= sido[sido.읍면동명 ==bjdong_list[0]]\n",
    "                return sigungu[sigungu.동리명==bjdong_list[1]].법정동코드.values[0]\n",
    "        \n",
    "        \n",
    "        sido = admin[admin.시도명 == table['시도']]\n",
    "        sigungu = sido[sido.시군구명==table['시군구']]\n",
    "        bjdong_list = table.법정동.split()\n",
    "        #len(bjdong_list)\n",
    "        if len(bjdong_list) == 1:\n",
    "            return sigungu[sigungu.읍면동명 ==table['법정동']].법정동코드.values[0]\n",
    "        elif len(bjdong_list) == 2:\n",
    "            hjdong_list= sigungu[sigungu.읍면동명 ==bjdong_list[0]]\n",
    "            return hjdong_list[hjdong_list.동리명==bjdong_list[1]].법정동코드.values[0]\n",
    "    except:\n",
    "        pass"
   ]
  },
  {
   "cell_type": "code",
   "execution_count": 148,
   "id": "3daeda60-5517-4e7b-a04f-96b751590100",
   "metadata": {
    "scrolled": true
   },
   "outputs": [
    {
     "name": "stderr",
     "output_type": "stream",
     "text": [
      "100%|████████████████████████████████████████████████████████████████████████████████████████████████████████████████| 1914/1914 [00:03<00:00, 491.26it/s]\n"
     ]
    }
   ],
   "source": [
    "hotel['bjdong_code'] = hotel.progress_apply(lambda x : find_bjdong_code(x),axis=1)"
   ]
  },
  {
   "cell_type": "code",
   "execution_count": 239,
   "id": "838fc943",
   "metadata": {},
   "outputs": [
    {
     "data": {
      "text/html": [
       "<div>\n",
       "<style scoped>\n",
       "    .dataframe tbody tr th:only-of-type {\n",
       "        vertical-align: middle;\n",
       "    }\n",
       "\n",
       "    .dataframe tbody tr th {\n",
       "        vertical-align: top;\n",
       "    }\n",
       "\n",
       "    .dataframe thead th {\n",
       "        text-align: right;\n",
       "    }\n",
       "</style>\n",
       "<table border=\"1\" class=\"dataframe\">\n",
       "  <thead>\n",
       "    <tr style=\"text-align: right;\">\n",
       "      <th></th>\n",
       "      <th>Unnamed: 0</th>\n",
       "      <th>지번주소</th>\n",
       "      <th>도로명주소</th>\n",
       "      <th>위도</th>\n",
       "      <th>경도</th>\n",
       "      <th>번호</th>\n",
       "      <th>지역1(시도)</th>\n",
       "      <th>지역2(시군구)</th>\n",
       "      <th>업종</th>\n",
       "      <th>호텔명(등록명칭)</th>\n",
       "      <th>...</th>\n",
       "      <th>주소(도로명주소)</th>\n",
       "      <th>전화번호</th>\n",
       "      <th>부대시설</th>\n",
       "      <th>시도</th>\n",
       "      <th>시군구</th>\n",
       "      <th>법정동</th>\n",
       "      <th>번지</th>\n",
       "      <th>번</th>\n",
       "      <th>지</th>\n",
       "      <th>bjdong_code</th>\n",
       "    </tr>\n",
       "  </thead>\n",
       "  <tbody>\n",
       "    <tr>\n",
       "      <th>1554</th>\n",
       "      <td>1555</td>\n",
       "      <td>서울특별시 중구 을지로 16</td>\n",
       "      <td>서울특별시 중구 을지로1가 188-3 백남빌딩</td>\n",
       "      <td>37.56561</td>\n",
       "      <td>126.979413</td>\n",
       "      <td>1556</td>\n",
       "      <td>서울특별시</td>\n",
       "      <td>중구</td>\n",
       "      <td>관광호텔</td>\n",
       "      <td>프레지던트호텔</td>\n",
       "      <td>...</td>\n",
       "      <td>NaN</td>\n",
       "      <td>NaN</td>\n",
       "      <td>NaN</td>\n",
       "      <td>서울특별시</td>\n",
       "      <td>중구</td>\n",
       "      <td>을지로</td>\n",
       "      <td>16</td>\n",
       "      <td>0016</td>\n",
       "      <td>0000</td>\n",
       "      <td>NaN</td>\n",
       "    </tr>\n",
       "  </tbody>\n",
       "</table>\n",
       "<p>1 rows × 33 columns</p>\n",
       "</div>"
      ],
      "text/plain": [
       "      Unnamed: 0              지번주소                      도로명주소        위도  \\\n",
       "1554        1555  서울특별시 중구 을지로 16   서울특별시 중구 을지로1가 188-3 백남빌딩  37.56561   \n",
       "\n",
       "              경도    번호 지역1(시도) 지역2(시군구)    업종 호텔명(등록명칭)  ... 주소(도로명주소) 전화번호  \\\n",
       "1554  126.979413  1556   서울특별시       중구  관광호텔   프레지던트호텔  ...       NaN  NaN   \n",
       "\n",
       "     부대시설     시도 시군구  법정동  번지     번     지 bjdong_code  \n",
       "1554  NaN  서울특별시  중구  을지로  16  0016  0000         NaN  \n",
       "\n",
       "[1 rows x 33 columns]"
      ]
     },
     "execution_count": 239,
     "metadata": {},
     "output_type": "execute_result"
    }
   ],
   "source": [
    "hotel[hotel['bjdong_code'].isna()]"
   ]
  },
  {
   "cell_type": "code",
   "execution_count": 243,
   "id": "a3d71b59-1783-437c-aed0-57f644c63dc8",
   "metadata": {
    "jupyter": {
     "outputs_hidden": true
    },
    "scrolled": true,
    "tags": []
   },
   "outputs": [
    {
     "data": {
      "text/plain": [
       "Int64Index([], dtype='int64')"
      ]
     },
     "execution_count": 243,
     "metadata": {},
     "output_type": "execute_result"
    }
   ],
   "source": [
    "hotel[hotel['bjdong_code'].isna()].index"
   ]
  },
  {
   "cell_type": "code",
   "execution_count": 242,
   "id": "6a2794f3",
   "metadata": {},
   "outputs": [
    {
     "data": {
      "text/plain": [
       "Unnamed: 0                                 1555\n",
       "지번주소                           서울특별시 중구 을지로 16 \n",
       "도로명주소                 서울특별시 중구 을지로1가 188-3 백남빌딩\n",
       "위도                                     37.56561\n",
       "경도                                   126.979413\n",
       "번호                                         1556\n",
       "지역1(시도)                                   서울특별시\n",
       "지역2(시군구)                                     중구\n",
       "업종                                         관광호텔\n",
       "호텔명(등록명칭)                               프레지던트호텔\n",
       "관광사업자명(법인명 or 개인명)                        백남관광㈜\n",
       "영업상태(19.12.31기준)                            영업중\n",
       "호텔등급                                         4성\n",
       "등급부여일                       2018-03-14 00:00:00\n",
       "결정기관                                     한국관광공사\n",
       "층수(지하~지상)             지하3-지상2\\n/지상7-27\\n(10층제외)\n",
       "대지면적(㎡)                                     NaN\n",
       "건축연면적(㎡)                               24970.16\n",
       "객실수                                         303\n",
       "승인관리번호                                      NaN\n",
       "최초승인일자                                      NaN\n",
       "등록관리번호                                  1969-01\n",
       "최초등록일자                                 19690328\n",
       "주소(도로명주소)                                   NaN\n",
       "전화번호                                        NaN\n",
       "부대시설                                        NaN\n",
       "시도                                        서울특별시\n",
       "시군구                                          중구\n",
       "법정동                                         을지로\n",
       "번지                                           16\n",
       "번                                          0016\n",
       "지                                          0000\n",
       "bjdong_code                        1114010400.0\n",
       "Name: 1554, dtype: object"
      ]
     },
     "execution_count": 242,
     "metadata": {},
     "output_type": "execute_result"
    }
   ],
   "source": [
    "hotel.loc[1554]"
   ]
  },
  {
   "cell_type": "code",
   "execution_count": 241,
   "id": "8d5f9b0d",
   "metadata": {},
   "outputs": [
    {
     "name": "stderr",
     "output_type": "stream",
     "text": [
      "C:\\Users\\LEESOY~1\\AppData\\Local\\Temp/ipykernel_20128/2200700428.py:1: SettingWithCopyWarning: \n",
      "A value is trying to be set on a copy of a slice from a DataFrame\n",
      "\n",
      "See the caveats in the documentation: https://pandas.pydata.org/pandas-docs/stable/user_guide/indexing.html#returning-a-view-versus-a-copy\n",
      "  hotel['bjdong_code'][1554] = '1114010400'\n"
     ]
    }
   ],
   "source": [
    "hotel['bjdong_code'][1554] = '1114010400'"
   ]
  },
  {
   "cell_type": "code",
   "execution_count": 244,
   "id": "b8511cd9-fd69-43be-a94d-a5f94f49c6d1",
   "metadata": {},
   "outputs": [],
   "source": [
    "def make_pnu(table):\n",
    "        return str(int(table['bjdong_code']))+'-0-'+str(table['번']).zfill(4)+str(table['지']).zfill(4)"
   ]
  },
  {
   "cell_type": "code",
   "execution_count": 245,
   "id": "83f881f7-9dc7-4571-b575-25cbfcade0bd",
   "metadata": {},
   "outputs": [
    {
     "name": "stderr",
     "output_type": "stream",
     "text": [
      "100%|██████████████████████████████████████████████████████████████████████████████████████████████████████████████| 1914/1914 [00:00<00:00, 52849.54it/s]\n"
     ]
    }
   ],
   "source": [
    "hotel['PNU'] = hotel.progress_apply(lambda x : make_pnu(x), axis=1)"
   ]
  },
  {
   "cell_type": "code",
   "execution_count": 246,
   "id": "c07f3e0b-d0ba-4588-a2b6-b21bdfd7f153",
   "metadata": {},
   "outputs": [],
   "source": [
    "hotel.to_excel('./export_data/2019_hotel_data_PNU.xlsx',index=False, encoding='utf-8-sig')"
   ]
  }
 ],
 "metadata": {
  "kernelspec": {
   "display_name": "Python 3 (ipykernel)",
   "language": "python",
   "name": "python3"
  },
  "language_info": {
   "codemirror_mode": {
    "name": "ipython",
    "version": 3
   },
   "file_extension": ".py",
   "mimetype": "text/x-python",
   "name": "python",
   "nbconvert_exporter": "python",
   "pygments_lexer": "ipython3",
   "version": "3.9.5"
  }
 },
 "nbformat": 4,
 "nbformat_minor": 5
}
